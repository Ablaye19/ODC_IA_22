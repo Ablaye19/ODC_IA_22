{
 "cells": [
  {
   "cell_type": "markdown",
   "id": "2bf10f07",
   "metadata": {},
   "source": [
    "# La librairie Numpy"
   ]
  },
  {
   "cell_type": "markdown",
   "id": "b0c4dc56",
   "metadata": {},
   "source": [
    "### Tableau Numpy vs liste Python"
   ]
  },
  {
   "cell_type": "markdown",
   "id": "f19e4521",
   "metadata": {},
   "source": [
    "#### Opération arithmetique sur les éléments d’une liste ou plusieurs"
   ]
  },
  {
   "cell_type": "code",
   "execution_count": 1,
   "id": "15195f5b",
   "metadata": {},
   "outputs": [],
   "source": [
    "liste1 = [1,2,3,4]\n",
    "liste2 = [5,6,7,8]"
   ]
  },
  {
   "cell_type": "code",
   "execution_count": 2,
   "id": "ca6f5ee7",
   "metadata": {},
   "outputs": [
    {
     "data": {
      "text/plain": [
       "[6, 8, 10, 12]"
      ]
     },
     "execution_count": 2,
     "metadata": {},
     "output_type": "execute_result"
    }
   ],
   "source": [
    "# Addition élément par élément de deux listes\n",
    "[i+j for i,j in zip(liste1,liste2)]"
   ]
  },
  {
   "cell_type": "code",
   "execution_count": 3,
   "id": "e2324ca6",
   "metadata": {},
   "outputs": [
    {
     "data": {
      "text/plain": [
       "[5, 12, 21, 32]"
      ]
     },
     "execution_count": 3,
     "metadata": {},
     "output_type": "execute_result"
    }
   ],
   "source": [
    "# Produit élément par élément de deux listes\n",
    "[i*j for i,j in zip(liste1,liste2)]"
   ]
  },
  {
   "cell_type": "code",
   "execution_count": 9,
   "id": "de008e17",
   "metadata": {},
   "outputs": [
    {
     "data": {
      "text/plain": [
       "[2, 4, 6, 8]"
      ]
     },
     "execution_count": 9,
     "metadata": {},
     "output_type": "execute_result"
    }
   ],
   "source": [
    "# Multiplication par un scalair\n",
    "[i*2 for i in liste1]"
   ]
  },
  {
   "cell_type": "markdown",
   "id": "43bb655e",
   "metadata": {},
   "source": [
    "Les liste sont plus rapide que les tableaux lorsque vous ajoutez des éléments à la fin"
   ]
  },
  {
   "cell_type": "code",
   "execution_count": 11,
   "id": "35aadc2d",
   "metadata": {},
   "outputs": [
    {
     "data": {
      "text/plain": [
       "[1, 2, 3, 4, 99]"
      ]
     },
     "execution_count": 11,
     "metadata": {},
     "output_type": "execute_result"
    }
   ],
   "source": [
    "# Ajout d’élément\n",
    "liste1.append(99)\n",
    "liste1"
   ]
  },
  {
   "cell_type": "markdown",
   "id": "029d4b04",
   "metadata": {},
   "source": [
    "#### Opération arithmetique sur les éléments d’un tableau ou plusieurs"
   ]
  },
  {
   "cell_type": "code",
   "execution_count": 102,
   "id": "4c8de593",
   "metadata": {},
   "outputs": [],
   "source": [
    "import numpy as np"
   ]
  },
  {
   "cell_type": "code",
   "execution_count": 5,
   "id": "ce9afa38",
   "metadata": {},
   "outputs": [],
   "source": [
    "tab1 = np.array([1,2,3,4])\n",
    "tab2 = np.array([5,6,7,8])"
   ]
  },
  {
   "cell_type": "code",
   "execution_count": 7,
   "id": "ab18f0cc",
   "metadata": {},
   "outputs": [
    {
     "data": {
      "text/plain": [
       "array([ 6,  8, 10, 12])"
      ]
     },
     "execution_count": 7,
     "metadata": {},
     "output_type": "execute_result"
    }
   ],
   "source": [
    "# Addition élément par élément de deux tableaux\n",
    "tab1+tab2"
   ]
  },
  {
   "cell_type": "code",
   "execution_count": 8,
   "id": "9fed0d4d",
   "metadata": {},
   "outputs": [
    {
     "data": {
      "text/plain": [
       "array([ 5, 12, 21, 32])"
      ]
     },
     "execution_count": 8,
     "metadata": {},
     "output_type": "execute_result"
    }
   ],
   "source": [
    "# Produit élément par élément de deux tbleaux\n",
    "tab1*tab2"
   ]
  },
  {
   "cell_type": "code",
   "execution_count": 10,
   "id": "a81d2274",
   "metadata": {},
   "outputs": [
    {
     "data": {
      "text/plain": [
       "array([2, 4, 6, 8])"
      ]
     },
     "execution_count": 10,
     "metadata": {},
     "output_type": "execute_result"
    }
   ],
   "source": [
    "# Multiplication par un scalair\n",
    "2*tab1"
   ]
  },
  {
   "cell_type": "markdown",
   "id": "c4c6519a",
   "metadata": {},
   "source": [
    "Les tableaux sont plus rapide que les listes lorsque l'opération peut être vectorisée"
   ]
  },
  {
   "cell_type": "code",
   "execution_count": 13,
   "id": "a3ce8252",
   "metadata": {},
   "outputs": [
    {
     "data": {
      "text/plain": [
       "array([ 2,  1, 33,  4,  5])"
      ]
     },
     "execution_count": 13,
     "metadata": {},
     "output_type": "execute_result"
    }
   ],
   "source": [
    "liste3 = [2,1,33,4,5]\n",
    "np.array(liste3)"
   ]
  },
  {
   "cell_type": "code",
   "execution_count": 14,
   "id": "b3b9e234",
   "metadata": {},
   "outputs": [],
   "source": [
    "liste3.append(999)"
   ]
  },
  {
   "cell_type": "code",
   "execution_count": 15,
   "id": "c87b8a6a",
   "metadata": {},
   "outputs": [
    {
     "data": {
      "text/plain": [
       "array([  2,   1,  33,   4,   5, 999])"
      ]
     },
     "execution_count": 15,
     "metadata": {},
     "output_type": "execute_result"
    }
   ],
   "source": [
    "np.array(liste3)"
   ]
  },
  {
   "cell_type": "markdown",
   "id": "6a66864d",
   "metadata": {},
   "source": [
    "On peut donc trasformé une liste en une tableau \n",
    "\n",
    "Les tableaux NumPy ne peuvent pas grandir comme une liste Python : aucun espace n'est réservé à la fin du tableau pour faciliter les ajouts rapides. Il est donc courant de développer une liste Python et de la convertir en un tableau NumPy lorsqu'elle est prête ou de préallouer l'espace nécessaire avec ou : np.zeros  np.empty"
   ]
  },
  {
   "cell_type": "code",
   "execution_count": 16,
   "id": "22e4406f",
   "metadata": {},
   "outputs": [
    {
     "data": {
      "text/plain": [
       "array([0., 0., 0., 0.])"
      ]
     },
     "execution_count": 16,
     "metadata": {},
     "output_type": "execute_result"
    }
   ],
   "source": [
    "np.zeros(4)"
   ]
  },
  {
   "cell_type": "code",
   "execution_count": 17,
   "id": "e89a9612",
   "metadata": {},
   "outputs": [
    {
     "data": {
      "text/plain": [
       "array([0, 0, 0, 0])"
      ]
     },
     "execution_count": 17,
     "metadata": {},
     "output_type": "execute_result"
    }
   ],
   "source": [
    "np.zeros(4,int)"
   ]
  },
  {
   "cell_type": "code",
   "execution_count": 18,
   "id": "df30cf3d",
   "metadata": {},
   "outputs": [
    {
     "data": {
      "text/plain": [
       "array([0., 0., 0., 0.])"
      ]
     },
     "execution_count": 18,
     "metadata": {},
     "output_type": "execute_result"
    }
   ],
   "source": [
    "np.empty(4)"
   ]
  },
  {
   "cell_type": "code",
   "execution_count": 20,
   "id": "b24c3601",
   "metadata": {},
   "outputs": [
    {
     "data": {
      "text/plain": [
       "array([0., 0., 0., 0., 0.])"
      ]
     },
     "execution_count": 20,
     "metadata": {},
     "output_type": "execute_result"
    }
   ],
   "source": [
    "a = np.ones(5)\n",
    "np.zeros_like(a)"
   ]
  },
  {
   "cell_type": "code",
   "execution_count": 21,
   "id": "268ec5fa",
   "metadata": {},
   "outputs": [
    {
     "data": {
      "text/plain": [
       "array([1., 1., 1., 1., 1.])"
      ]
     },
     "execution_count": 21,
     "metadata": {},
     "output_type": "execute_result"
    }
   ],
   "source": [
    "a"
   ]
  },
  {
   "cell_type": "code",
   "execution_count": 22,
   "id": "d06c29c0",
   "metadata": {},
   "outputs": [
    {
     "data": {
      "text/plain": [
       "array([1, 1, 1, 1, 1])"
      ]
     },
     "execution_count": 22,
     "metadata": {},
     "output_type": "execute_result"
    }
   ],
   "source": [
    "b = [2,3,2,4,1]\n",
    "np.ones_like(b)"
   ]
  },
  {
   "cell_type": "code",
   "execution_count": 23,
   "id": "295e0150",
   "metadata": {},
   "outputs": [
    {
     "data": {
      "text/plain": [
       "[2, 3, 2, 4, 1]"
      ]
     },
     "execution_count": 23,
     "metadata": {},
     "output_type": "execute_result"
    }
   ],
   "source": [
    "b"
   ]
  },
  {
   "cell_type": "code",
   "execution_count": 24,
   "id": "5d3bad0f",
   "metadata": {},
   "outputs": [
    {
     "data": {
      "text/plain": [
       "array([8, 8, 8, 8, 8])"
      ]
     },
     "execution_count": 24,
     "metadata": {},
     "output_type": "execute_result"
    }
   ],
   "source": [
    "np.full_like(b,8)"
   ]
  },
  {
   "cell_type": "markdown",
   "id": "13d9760a",
   "metadata": {},
   "source": [
    "Donc la fonction full_like(tableau,valeur) remplace tous les éléments du tableau par la valeur \"valeur\""
   ]
  },
  {
   "cell_type": "code",
   "execution_count": null,
   "id": "451577cf",
   "metadata": {},
   "outputs": [],
   "source": [
    "np.empty_like(b)"
   ]
  },
  {
   "cell_type": "markdown",
   "id": "a02ae405",
   "metadata": {},
   "source": [
    "#### Il existe jusqu'à deux fonctions pour l'initialisation d'un tableau avec une séquence monotone dans NumPy :\n",
    "\n",
    "arange(start,stop,step)  ou linspace(start,stop,num)"
   ]
  },
  {
   "cell_type": "code",
   "execution_count": 34,
   "id": "15b7ebc3",
   "metadata": {},
   "outputs": [
    {
     "data": {
      "text/plain": [
       "array([0, 1, 2, 3, 4])"
      ]
     },
     "execution_count": 34,
     "metadata": {},
     "output_type": "execute_result"
    }
   ],
   "source": [
    "np.arange(5)"
   ]
  },
  {
   "cell_type": "code",
   "execution_count": 35,
   "id": "49e37a92",
   "metadata": {},
   "outputs": [
    {
     "data": {
      "text/plain": [
       "array([2, 3, 4])"
      ]
     },
     "execution_count": 35,
     "metadata": {},
     "output_type": "execute_result"
    }
   ],
   "source": [
    "np.arange(2,5)"
   ]
  },
  {
   "cell_type": "code",
   "execution_count": 37,
   "id": "a39913cb",
   "metadata": {},
   "outputs": [
    {
     "data": {
      "text/plain": [
       "array([2, 5, 8])"
      ]
     },
     "execution_count": 37,
     "metadata": {},
     "output_type": "execute_result"
    }
   ],
   "source": [
    "np.arange(2,10,3)"
   ]
  },
  {
   "cell_type": "code",
   "execution_count": 52,
   "id": "79edb4d3",
   "metadata": {},
   "outputs": [
    {
     "data": {
      "text/plain": [
       "array([0. , 0.4, 0.8, 1.2, 1.6, 2. ])"
      ]
     },
     "execution_count": 52,
     "metadata": {},
     "output_type": "execute_result"
    }
   ],
   "source": [
    "np.linspace(0,2,6)"
   ]
  },
  {
   "cell_type": "markdown",
   "id": "77ad6c1b",
   "metadata": {},
   "source": [
    "### Générer des tableaux aléatoires\n",
    "\n",
    "np.random.randint(debut,fin,nombre_element), genère un tableau contenant \"nombre_element\" élément dont les valeurs sont aléatoire et comprisent entre \"debut\" et \"fin\"  \n",
    "\n",
    "np.random.uniform(debut,fin,nombre_element), genère un tableau contenant \"nombre_element\" valeur suivant la loi uniforme et comprise entre \"debut\" et \"fin\"\n",
    "\n",
    "np.random.normal(a,b,c) , genère un tableau contenant c valeur suivant la loi normale de moyenne a et d’écat-type b\n",
    "\n",
    "np.random.randn(n),  genère un tableau contenant n valeur suivant la loi normale centrée reduite"
   ]
  },
  {
   "cell_type": "code",
   "execution_count": 53,
   "id": "71bebb95",
   "metadata": {},
   "outputs": [
    {
     "data": {
      "text/plain": [
       "array([19, 12, 18,  8, 13])"
      ]
     },
     "execution_count": 53,
     "metadata": {},
     "output_type": "execute_result"
    }
   ],
   "source": [
    "np.random.randint(1,20,5)"
   ]
  },
  {
   "cell_type": "code",
   "execution_count": 59,
   "id": "ddedd6bc",
   "metadata": {},
   "outputs": [
    {
     "data": {
      "text/plain": [
       "array([4.39505372, 4.94158927, 8.4710388 ])"
      ]
     },
     "execution_count": 59,
     "metadata": {},
     "output_type": "execute_result"
    }
   ],
   "source": [
    "np.random.uniform(1,10,3)"
   ]
  },
  {
   "cell_type": "code",
   "execution_count": 60,
   "id": "5846a640",
   "metadata": {},
   "outputs": [
    {
     "data": {
      "text/plain": [
       "array([7.32937447, 3.24989277, 2.42430377, 6.98526481])"
      ]
     },
     "execution_count": 60,
     "metadata": {},
     "output_type": "execute_result"
    }
   ],
   "source": [
    "np.random.normal(5,2,4)"
   ]
  },
  {
   "cell_type": "code",
   "execution_count": 61,
   "id": "17672cd4",
   "metadata": {},
   "outputs": [
    {
     "data": {
      "text/plain": [
       "array([ 0.72503601,  0.8816751 , -1.08272771, -0.79799888,  1.03734535])"
      ]
     },
     "execution_count": 61,
     "metadata": {},
     "output_type": "execute_result"
    }
   ],
   "source": [
    "np.random.randn(5)"
   ]
  },
  {
   "cell_type": "markdown",
   "id": "5789734f",
   "metadata": {},
   "source": [
    "Il existe également une nouvelle interface pour la génération de tableaux aléatoires. Il est :\n",
    "\n",
    "    – mieux adapté au multi-threading,\n",
    "\n",
    "    – un peu plus rapide,\n",
    "\n",
    "    – plus configurable (vous pouvez obtenir encore plus de vitesse ou encore plus de qualité en choisissant un soi-disant « \n",
    "    générateur de bits » non par défaut),\n",
    "\n",
    "    – capable de passer deux étapes délicates tests synthétiques que l'ancienne version échoue.\n",
    "    \n",
    "   rng = np.random.delault_rng()"
   ]
  },
  {
   "cell_type": "code",
   "execution_count": 63,
   "id": "e3e91052",
   "metadata": {},
   "outputs": [],
   "source": [
    "rng = np.random.default_rng()"
   ]
  },
  {
   "cell_type": "code",
   "execution_count": 70,
   "id": "3ccd1d03",
   "metadata": {},
   "outputs": [
    {
     "data": {
      "text/plain": [
       "array([7, 5, 3], dtype=int64)"
      ]
     },
     "execution_count": 70,
     "metadata": {},
     "output_type": "execute_result"
    }
   ],
   "source": [
    "rng.integers(0,10,3) # valeur alea entière comprise entre 0 et 10 , nombre élément est 3"
   ]
  },
  {
   "cell_type": "code",
   "execution_count": 71,
   "id": "c0d15dbe",
   "metadata": {},
   "outputs": [
    {
     "data": {
      "text/plain": [
       "array([0.5175445 , 0.36325905, 0.45665737, 0.96372889])"
      ]
     },
     "execution_count": 71,
     "metadata": {},
     "output_type": "execute_result"
    }
   ],
   "source": [
    "rng.random(4)  # valeur alea comprise entre 0 et 1"
   ]
  },
  {
   "cell_type": "code",
   "execution_count": 72,
   "id": "eafab781",
   "metadata": {},
   "outputs": [
    {
     "data": {
      "text/plain": [
       "array([ 1.1489923 , -1.31812214,  0.02031407, -0.38174745])"
      ]
     },
     "execution_count": 72,
     "metadata": {},
     "output_type": "execute_result"
    }
   ],
   "source": [
    "rng.standard_normal(4) # avec des valeurs suivant la loi normale centré reduite"
   ]
  },
  {
   "cell_type": "code",
   "execution_count": 73,
   "id": "361c9bdd",
   "metadata": {},
   "outputs": [
    {
     "data": {
      "text/plain": [
       "array([8.57299603, 5.21715286, 1.18207656, 3.53984819])"
      ]
     },
     "execution_count": 73,
     "metadata": {},
     "output_type": "execute_result"
    }
   ],
   "source": [
    "rng.normal(5,2,4) # avec des valeurs suivant la loi normale de myenne 5 d’écart-type 2 "
   ]
  },
  {
   "cell_type": "code",
   "execution_count": 75,
   "id": "6fc49642",
   "metadata": {},
   "outputs": [
    {
     "data": {
      "text/plain": [
       "array([7.46975931, 2.74674712, 6.24074966])"
      ]
     },
     "execution_count": 75,
     "metadata": {},
     "output_type": "execute_result"
    }
   ],
   "source": [
    "rng.uniform(0,10,3) # avec des valeurs suivant la loi uniforme comprise entre 0 et 10"
   ]
  },
  {
   "cell_type": "markdown",
   "id": "f0c89969",
   "metadata": {},
   "source": [
    "### Indexation vectorielle\n",
    "Une fois que vous avez vos données dans le tableau, NumPy est génial pour fournir des moyens simples de les restituer :"
   ]
  },
  {
   "cell_type": "code",
   "execution_count": 77,
   "id": "5793b4e7",
   "metadata": {},
   "outputs": [
    {
     "data": {
      "text/plain": [
       "array([1, 2, 3, 4, 5, 6, 7])"
      ]
     },
     "execution_count": 77,
     "metadata": {},
     "output_type": "execute_result"
    }
   ],
   "source": [
    "# Exemple :\n",
    "a = np.arange(1,8)\n",
    "a"
   ]
  },
  {
   "cell_type": "code",
   "execution_count": 79,
   "id": "066e606e",
   "metadata": {},
   "outputs": [
    {
     "data": {
      "text/plain": [
       "2"
      ]
     },
     "execution_count": 79,
     "metadata": {},
     "output_type": "execute_result"
    }
   ],
   "source": [
    "a[1] # a[i] permer d’acceder à l’élément qui se trouve à l’indice i (à la position i+1)"
   ]
  },
  {
   "cell_type": "code",
   "execution_count": 80,
   "id": "7c66de39",
   "metadata": {},
   "outputs": [
    {
     "data": {
      "text/plain": [
       "array([4, 5, 6, 7])"
      ]
     },
     "execution_count": 80,
     "metadata": {},
     "output_type": "execute_result"
    }
   ],
   "source": [
    "a[3:] # de l’indice i jusqu’a la fin du tableau"
   ]
  },
  {
   "cell_type": "code",
   "execution_count": 81,
   "id": "922772df",
   "metadata": {},
   "outputs": [
    {
     "data": {
      "text/plain": [
       "6"
      ]
     },
     "execution_count": 81,
     "metadata": {},
     "output_type": "execute_result"
    }
   ],
   "source": [
    "a[-2] # avec l’indice negative "
   ]
  },
  {
   "cell_type": "code",
   "execution_count": 82,
   "id": "4471b93e",
   "metadata": {},
   "outputs": [
    {
     "data": {
      "text/plain": [
       "array([6, 7])"
      ]
     },
     "execution_count": 82,
     "metadata": {},
     "output_type": "execute_result"
    }
   ],
   "source": [
    "a[-2:]"
   ]
  },
  {
   "cell_type": "code",
   "execution_count": 84,
   "id": "deec6bae",
   "metadata": {},
   "outputs": [
    {
     "data": {
      "text/plain": [
       "array([3, 4, 5, 6])"
      ]
     },
     "execution_count": 84,
     "metadata": {},
     "output_type": "execute_result"
    }
   ],
   "source": [
    "a[2:6] "
   ]
  },
  {
   "cell_type": "markdown",
   "id": "13ff72b3",
   "metadata": {},
   "source": [
    "Toutes ces méthodes, y compris l'indexation sophistiquée, sont modifiables : elles permettent de modifier le contenu du tableau d'origine par affectation, comme indiqué ci-dessous. Cette fonctionnalité rompt avec l'habitude de copier des tableaux en les découpant :"
   ]
  },
  {
   "cell_type": "code",
   "execution_count": 85,
   "id": "5066d092",
   "metadata": {},
   "outputs": [
    {
     "data": {
      "text/plain": [
       "array([1, 2, 3, 4, 5, 6, 7])"
      ]
     },
     "execution_count": 85,
     "metadata": {},
     "output_type": "execute_result"
    }
   ],
   "source": [
    "a"
   ]
  },
  {
   "cell_type": "code",
   "execution_count": 87,
   "id": "49b5c5ad",
   "metadata": {},
   "outputs": [
    {
     "data": {
      "text/plain": [
       "array([99,  2,  3,  4,  5,  6,  7])"
      ]
     },
     "execution_count": 87,
     "metadata": {},
     "output_type": "execute_result"
    }
   ],
   "source": [
    "a[0] = 99\n",
    "a"
   ]
  },
  {
   "cell_type": "code",
   "execution_count": 89,
   "id": "c689bb00",
   "metadata": {},
   "outputs": [
    {
     "data": {
      "text/plain": [
       "array([99,  2,  3,  4,  5, 88, 88])"
      ]
     },
     "execution_count": 89,
     "metadata": {},
     "output_type": "execute_result"
    }
   ],
   "source": [
    "a[5:] = 88\n",
    "a"
   ]
  },
  {
   "cell_type": "code",
   "execution_count": 91,
   "id": "fb617cc5",
   "metadata": {},
   "outputs": [
    {
     "data": {
      "text/plain": [
       "array([99,  2,  3,  4,  5, 88, 88])"
      ]
     },
     "execution_count": 91,
     "metadata": {},
     "output_type": "execute_result"
    }
   ],
   "source": [
    "d = a.copy()\n",
    "d"
   ]
  },
  {
   "cell_type": "code",
   "execution_count": 93,
   "id": "cb2c1655",
   "metadata": {},
   "outputs": [
    {
     "data": {
      "text/plain": [
       "array([111,   2,   3,   4,   5,  88,  88])"
      ]
     },
     "execution_count": 93,
     "metadata": {},
     "output_type": "execute_result"
    }
   ],
   "source": [
    "a[0] = 111\n",
    "a"
   ]
  },
  {
   "cell_type": "code",
   "execution_count": 94,
   "id": "fe9a8135",
   "metadata": {},
   "outputs": [
    {
     "data": {
      "text/plain": [
       "array([99,  2,  3,  4,  5, 88, 88])"
      ]
     },
     "execution_count": 94,
     "metadata": {},
     "output_type": "execute_result"
    }
   ],
   "source": [
    "d"
   ]
  },
  {
   "cell_type": "code",
   "execution_count": 96,
   "id": "688e8fe5",
   "metadata": {},
   "outputs": [
    {
     "data": {
      "text/plain": [
       "array([0, 1, 2, 3, 4])"
      ]
     },
     "execution_count": 96,
     "metadata": {},
     "output_type": "execute_result"
    }
   ],
   "source": [
    "c = np.arange(5)\n",
    "c"
   ]
  },
  {
   "cell_type": "code",
   "execution_count": 98,
   "id": "1316a448",
   "metadata": {},
   "outputs": [
    {
     "data": {
      "text/plain": [
       "array([9, 9, 9, 3, 4])"
      ]
     },
     "execution_count": 98,
     "metadata": {},
     "output_type": "execute_result"
    }
   ],
   "source": [
    "c[0:3] = [9,9,9]\n",
    "c"
   ]
  },
  {
   "cell_type": "markdown",
   "id": "ce8a9118",
   "metadata": {},
   "source": [
    "Un autre moyen très utile d'obtenir des données à partir de tableaux NumPy est l'indexation booléenne, qui permet d'utiliser toutes sortes d'opérateurs logiques :"
   ]
  },
  {
   "cell_type": "code",
   "execution_count": 99,
   "id": "c966f685",
   "metadata": {},
   "outputs": [
    {
     "data": {
      "text/plain": [
       "array([1, 2, 3, 4, 5, 6, 7, 8, 7, 6, 5, 4, 3, 2, 1])"
      ]
     },
     "execution_count": 99,
     "metadata": {},
     "output_type": "execute_result"
    }
   ],
   "source": [
    "a = np.array([1,2,3,4,5,6,7,8,7,6,5,4,3,2,1])\n",
    "a"
   ]
  },
  {
   "cell_type": "code",
   "execution_count": 100,
   "id": "be47cc59",
   "metadata": {},
   "outputs": [
    {
     "data": {
      "text/plain": [
       "True"
      ]
     },
     "execution_count": 100,
     "metadata": {},
     "output_type": "execute_result"
    }
   ],
   "source": [
    "np.any(a>7) # S’il existe au moins un élément de a qui superieur à 7"
   ]
  },
  {
   "cell_type": "code",
   "execution_count": 101,
   "id": "e8651bf1",
   "metadata": {},
   "outputs": [
    {
     "data": {
      "text/plain": [
       "False"
      ]
     },
     "execution_count": 101,
     "metadata": {},
     "output_type": "execute_result"
    }
   ],
   "source": [
    "np.any(a>8) # S’il existe au moins un élément de a qui superieur à 8"
   ]
  },
  {
   "cell_type": "code",
   "execution_count": 105,
   "id": "8d4ffe63",
   "metadata": {},
   "outputs": [
    {
     "data": {
      "text/plain": [
       "False"
      ]
     },
     "execution_count": 105,
     "metadata": {},
     "output_type": "execute_result"
    }
   ],
   "source": [
    "np.all(a > 2) # Si tout les éléments de a sont superieur à 2"
   ]
  },
  {
   "cell_type": "code",
   "execution_count": 103,
   "id": "1d80469d",
   "metadata": {},
   "outputs": [
    {
     "data": {
      "text/plain": [
       "True"
      ]
     },
     "execution_count": 103,
     "metadata": {},
     "output_type": "execute_result"
    }
   ],
   "source": [
    "np.all(a >= 0) # Si tout les éléments de a sont superieur à 0 (ou positive)"
   ]
  },
  {
   "cell_type": "code",
   "execution_count": 104,
   "id": "15b98fad",
   "metadata": {},
   "outputs": [
    {
     "data": {
      "text/plain": [
       "array([5, 6, 7, 8, 7, 6, 5])"
      ]
     },
     "execution_count": 104,
     "metadata": {},
     "output_type": "execute_result"
    }
   ],
   "source": [
    "a[a > 4] # les éléments de a qui sont strictement superieur à 4"
   ]
  },
  {
   "cell_type": "code",
   "execution_count": 106,
   "id": "f6203b02",
   "metadata": {},
   "outputs": [
    {
     "data": {
      "text/plain": [
       "array([1, 2, 3, 4, 5, 6, 0, 0, 0, 6, 5, 4, 3, 2, 1])"
      ]
     },
     "execution_count": 106,
     "metadata": {},
     "output_type": "execute_result"
    }
   ],
   "source": [
    "a[a>6] = 0 # remplace tous les eléments de a qui sont strictement superieur à 6\n",
    "a"
   ]
  },
  {
   "cell_type": "markdown",
   "id": "9d2e0026",
   "metadata": {},
   "source": [
    "On peut utilisé les opérateurs logiques (&, |, ^, ~)\n",
    "\n",
    "    Attention cependant\n",
    "    Les comparaisons Python \"ternaires\" comme 3 <= a <= 5 ne fonctionnent pas ici."
   ]
  },
  {
   "cell_type": "code",
   "execution_count": 107,
   "id": "39602287",
   "metadata": {},
   "outputs": [
    {
     "data": {
      "text/plain": [
       "array([ 1,  2, 11, 11, 11,  6,  0,  0,  0,  6, 11, 11, 11,  2,  1])"
      ]
     },
     "execution_count": 107,
     "metadata": {},
     "output_type": "execute_result"
    }
   ],
   "source": [
    "a[(a > 2) & (a <= 5)] = 11 # L’operateur logique & (et ou intersection en théorie des groupes)\n",
    "a"
   ]
  },
  {
   "cell_type": "code",
   "execution_count": 113,
   "id": "9503659f",
   "metadata": {},
   "outputs": [],
   "source": [
    "b = np.array([1,2,3,4,5,6,66,7,8,7,66,54,3,2,1,1,0])"
   ]
  },
  {
   "cell_type": "code",
   "execution_count": 116,
   "id": "7c9aac1e",
   "metadata": {},
   "outputs": [
    {
     "data": {
      "text/plain": [
       "(array([ 2,  3,  4,  5,  6,  7,  8,  9, 10, 11, 12], dtype=int64),)"
      ]
     },
     "execution_count": 116,
     "metadata": {},
     "output_type": "execute_result"
    }
   ],
   "source": [
    "np.where(b > 2)"
   ]
  },
  {
   "cell_type": "code",
   "execution_count": 133,
   "id": "fcdc651e",
   "metadata": {},
   "outputs": [],
   "source": [
    "b = np.array([1,2,3,4])\n",
    "c = np.array([2,2,4,4])"
   ]
  },
  {
   "cell_type": "code",
   "execution_count": 118,
   "id": "2afaac75",
   "metadata": {},
   "outputs": [
    {
     "data": {
      "text/plain": [
       "array([1.        , 1.41421356, 1.73205081, 2.        ])"
      ]
     },
     "execution_count": 118,
     "metadata": {},
     "output_type": "execute_result"
    }
   ],
   "source": [
    "np.sqrt(b) # la racine de chaque élément du tableau"
   ]
  },
  {
   "cell_type": "code",
   "execution_count": 119,
   "id": "bab02f8b",
   "metadata": {},
   "outputs": [
    {
     "data": {
      "text/plain": [
       "array([ 2.71828183,  7.3890561 , 20.08553692, 54.59815003])"
      ]
     },
     "execution_count": 119,
     "metadata": {},
     "output_type": "execute_result"
    }
   ],
   "source": [
    "np.exp(b) # la racine de chaque élément du tableau"
   ]
  },
  {
   "cell_type": "code",
   "execution_count": 122,
   "id": "f1f27b07",
   "metadata": {},
   "outputs": [
    {
     "data": {
      "text/plain": [
       "array([0.5 , 1.  , 0.75, 1.  ])"
      ]
     },
     "execution_count": 122,
     "metadata": {},
     "output_type": "execute_result"
    }
   ],
   "source": [
    "b/c"
   ]
  },
  {
   "cell_type": "code",
   "execution_count": 123,
   "id": "8de3e3c7",
   "metadata": {},
   "outputs": [
    {
     "data": {
      "text/plain": [
       "array([0.5, 1. , 1.5, 2. ])"
      ]
     },
     "execution_count": 123,
     "metadata": {},
     "output_type": "execute_result"
    }
   ],
   "source": [
    "b/2"
   ]
  },
  {
   "cell_type": "code",
   "execution_count": 130,
   "id": "54c73f7a",
   "metadata": {},
   "outputs": [
    {
     "data": {
      "text/plain": [
       "array([0.        , 0.69314718, 1.09861229, 1.38629436])"
      ]
     },
     "execution_count": 130,
     "metadata": {},
     "output_type": "execute_result"
    }
   ],
   "source": [
    "np.log(b)"
   ]
  },
  {
   "cell_type": "code",
   "execution_count": 131,
   "id": "787ccbd1",
   "metadata": {},
   "outputs": [
    {
     "data": {
      "text/plain": [
       "34"
      ]
     },
     "execution_count": 131,
     "metadata": {},
     "output_type": "execute_result"
    }
   ],
   "source": [
    "np.dot(b,c) # le produit scalaire de b et c "
   ]
  },
  {
   "cell_type": "code",
   "execution_count": 136,
   "id": "37835321",
   "metadata": {},
   "outputs": [
    {
     "data": {
      "text/plain": [
       "array([-1,  5, -3])"
      ]
     },
     "execution_count": 136,
     "metadata": {},
     "output_type": "execute_result"
    }
   ],
   "source": [
    "np.cross([1,2,3],[2,1,1])  # produit vectorielle"
   ]
  },
  {
   "cell_type": "code",
   "execution_count": 137,
   "id": "9d29b80d",
   "metadata": {},
   "outputs": [
    {
     "data": {
      "text/plain": [
       "array([1.2246468e-16, 1.0000000e+00])"
      ]
     },
     "execution_count": 137,
     "metadata": {},
     "output_type": "execute_result"
    }
   ],
   "source": [
    "np.sin([np.pi,np.pi/2])  # fonction trogonometrique sur les tableau"
   ]
  },
  {
   "cell_type": "markdown",
   "id": "aa5b503f",
   "metadata": {},
   "source": [
    "### Les tableaux peuvent être arrondis dans leur ensemble :"
   ]
  },
  {
   "cell_type": "code",
   "execution_count": 139,
   "id": "cd1f6f8d",
   "metadata": {},
   "outputs": [
    {
     "data": {
      "text/plain": [
       "array([0., 1.])"
      ]
     },
     "execution_count": 139,
     "metadata": {},
     "output_type": "execute_result"
    }
   ],
   "source": [
    "np.round(np.sin([np.pi,np.pi/2]),3) # la fonction round pour arondir"
   ]
  },
  {
   "cell_type": "code",
   "execution_count": 142,
   "id": "e871fc05",
   "metadata": {},
   "outputs": [],
   "source": [
    "a = np.array([1.212,4.32112,3.45,5.89])"
   ]
  },
  {
   "cell_type": "code",
   "execution_count": 143,
   "id": "17afbe88",
   "metadata": {},
   "outputs": [
    {
     "data": {
      "text/plain": [
       "array([1., 4., 3., 6.])"
      ]
     },
     "execution_count": 143,
     "metadata": {},
     "output_type": "execute_result"
    }
   ],
   "source": [
    "np.round(a)"
   ]
  },
  {
   "cell_type": "code",
   "execution_count": 144,
   "id": "b1dc353b",
   "metadata": {},
   "outputs": [
    {
     "data": {
      "text/plain": [
       "array([1.2, 4.3, 3.4, 5.9])"
      ]
     },
     "execution_count": 144,
     "metadata": {},
     "output_type": "execute_result"
    }
   ],
   "source": [
    "np.round(a,1)"
   ]
  },
  {
   "cell_type": "code",
   "execution_count": 145,
   "id": "3b44bf31",
   "metadata": {},
   "outputs": [
    {
     "data": {
      "text/plain": [
       "array([1., 4., 3., 5.])"
      ]
     },
     "execution_count": 145,
     "metadata": {},
     "output_type": "execute_result"
    }
   ],
   "source": [
    "np.floor(a)   #c’est la partie entière de a"
   ]
  },
  {
   "cell_type": "code",
   "execution_count": 146,
   "id": "b9fba05b",
   "metadata": {},
   "outputs": [
    {
     "data": {
      "text/plain": [
       "array([2., 5., 4., 6.])"
      ]
     },
     "execution_count": 146,
     "metadata": {},
     "output_type": "execute_result"
    }
   ],
   "source": [
    "np.ceil(a)   "
   ]
  },
  {
   "cell_type": "markdown",
   "id": "f47c28bb",
   "metadata": {},
   "source": [
    "### NumPy est également capable de faire les statistiques de base :"
   ]
  },
  {
   "cell_type": "code",
   "execution_count": 22,
   "id": "3eb4f66d",
   "metadata": {},
   "outputs": [],
   "source": [
    "a = np.array([1,2,3,4,5,6,7,8,9,10])"
   ]
  },
  {
   "cell_type": "code",
   "execution_count": 6,
   "id": "f9e73ee4",
   "metadata": {},
   "outputs": [
    {
     "data": {
      "text/plain": [
       "10"
      ]
     },
     "execution_count": 6,
     "metadata": {},
     "output_type": "execute_result"
    }
   ],
   "source": [
    "a.max() # ou max(a) "
   ]
  },
  {
   "cell_type": "code",
   "execution_count": 8,
   "id": "773ea0c2",
   "metadata": {},
   "outputs": [
    {
     "data": {
      "text/plain": [
       "1"
      ]
     },
     "execution_count": 8,
     "metadata": {},
     "output_type": "execute_result"
    }
   ],
   "source": [
    "min(a)"
   ]
  },
  {
   "cell_type": "code",
   "execution_count": 10,
   "id": "bc9b1382",
   "metadata": {},
   "outputs": [
    {
     "data": {
      "text/plain": [
       "2.8722813232690143"
      ]
     },
     "execution_count": 10,
     "metadata": {},
     "output_type": "execute_result"
    }
   ],
   "source": [
    "np.std(a)"
   ]
  },
  {
   "cell_type": "code",
   "execution_count": 11,
   "id": "6cc670f2",
   "metadata": {},
   "outputs": [
    {
     "data": {
      "text/plain": [
       "8.25"
      ]
     },
     "execution_count": 11,
     "metadata": {},
     "output_type": "execute_result"
    }
   ],
   "source": [
    "np.var(a)"
   ]
  },
  {
   "cell_type": "code",
   "execution_count": 12,
   "id": "e1d28828",
   "metadata": {},
   "outputs": [
    {
     "data": {
      "text/plain": [
       "55"
      ]
     },
     "execution_count": 12,
     "metadata": {},
     "output_type": "execute_result"
    }
   ],
   "source": [
    "np.sum(a)"
   ]
  },
  {
   "cell_type": "code",
   "execution_count": 13,
   "id": "7f7fdb38",
   "metadata": {},
   "outputs": [
    {
     "data": {
      "text/plain": [
       "9"
      ]
     },
     "execution_count": 13,
     "metadata": {},
     "output_type": "execute_result"
    }
   ],
   "source": [
    "np.argmax(a)"
   ]
  },
  {
   "cell_type": "code",
   "execution_count": 14,
   "id": "b534c485",
   "metadata": {},
   "outputs": [
    {
     "data": {
      "text/plain": [
       "0"
      ]
     },
     "execution_count": 14,
     "metadata": {},
     "output_type": "execute_result"
    }
   ],
   "source": [
    "np.argmin(a)"
   ]
  },
  {
   "cell_type": "code",
   "execution_count": 15,
   "id": "2076f934",
   "metadata": {},
   "outputs": [
    {
     "data": {
      "text/plain": [
       "5.5"
      ]
     },
     "execution_count": 15,
     "metadata": {},
     "output_type": "execute_result"
    }
   ],
   "source": [
    "np.mean(a)"
   ]
  },
  {
   "cell_type": "code",
   "execution_count": 16,
   "id": "c035f676",
   "metadata": {},
   "outputs": [
    {
     "data": {
      "text/plain": [
       "3.0276503540974917"
      ]
     },
     "execution_count": 16,
     "metadata": {},
     "output_type": "execute_result"
    }
   ],
   "source": [
    "np.std(a,ddof = 1)"
   ]
  },
  {
   "cell_type": "markdown",
   "id": "3b856acd",
   "metadata": {},
   "source": [
    "## Matrices, les tableaux 2D"
   ]
  },
  {
   "cell_type": "code",
   "execution_count": 24,
   "id": "67a49cef",
   "metadata": {},
   "outputs": [
    {
     "data": {
      "text/plain": [
       "array([[1, 2, 3],\n",
       "       [4, 5, 6]])"
      ]
     },
     "execution_count": 24,
     "metadata": {},
     "output_type": "execute_result"
    }
   ],
   "source": [
    "# La syntaxe d'initialisation de la matrice est similaire à celle des vecteurs :\n",
    "a = np.array([[1,2,3],[4,5,6]])\n",
    "a"
   ]
  },
  {
   "cell_type": "code",
   "execution_count": 32,
   "id": "ba391012",
   "metadata": {},
   "outputs": [
    {
     "data": {
      "text/plain": [
       "array([[9, 9, 9, 9],\n",
       "       [9, 9, 9, 9],\n",
       "       [9, 9, 9, 9]])"
      ]
     },
     "execution_count": 32,
     "metadata": {},
     "output_type": "execute_result"
    }
   ],
   "source": [
    "np.full((3,4),9)"
   ]
  },
  {
   "cell_type": "code",
   "execution_count": 33,
   "id": "3a31db0c",
   "metadata": {},
   "outputs": [
    {
     "data": {
      "text/plain": [
       "array([[1., 1.],\n",
       "       [1., 1.]])"
      ]
     },
     "execution_count": 33,
     "metadata": {},
     "output_type": "execute_result"
    }
   ],
   "source": [
    "np.ones((2,2))"
   ]
  },
  {
   "cell_type": "code",
   "execution_count": 35,
   "id": "62c75645",
   "metadata": {},
   "outputs": [
    {
     "data": {
      "text/plain": [
       "array([[0., 0.],\n",
       "       [0., 0.],\n",
       "       [0., 0.]])"
      ]
     },
     "execution_count": 35,
     "metadata": {},
     "output_type": "execute_result"
    }
   ],
   "source": [
    "np.empty((3,2))"
   ]
  },
  {
   "cell_type": "code",
   "execution_count": 38,
   "id": "2c6283c8",
   "metadata": {},
   "outputs": [
    {
     "data": {
      "text/plain": [
       "array([[1., 0., 0., 0.],\n",
       "       [0., 1., 0., 0.],\n",
       "       [0., 0., 1., 0.],\n",
       "       [0., 0., 0., 1.]])"
      ]
     },
     "execution_count": 38,
     "metadata": {},
     "output_type": "execute_result"
    }
   ],
   "source": [
    "np.eye(4)"
   ]
  },
  {
   "cell_type": "markdown",
   "id": "2a890fa9",
   "metadata": {},
   "source": [
    "La génération de matrices aléatoires est également similaire à celle des vecteurs :"
   ]
  },
  {
   "cell_type": "code",
   "execution_count": 39,
   "id": "ab791b2c",
   "metadata": {},
   "outputs": [
    {
     "data": {
      "text/plain": [
       "array([[ 0,  9,  8, 14],\n",
       "       [ 3,  5,  1, 11],\n",
       "       [ 9,  0,  3,  1],\n",
       "       [ 0, 10, 19, 18]])"
      ]
     },
     "execution_count": 39,
     "metadata": {},
     "output_type": "execute_result"
    }
   ],
   "source": [
    "np.random.randint(0,20,(4,4))"
   ]
  },
  {
   "cell_type": "code",
   "execution_count": 41,
   "id": "3a24c06f",
   "metadata": {},
   "outputs": [
    {
     "data": {
      "text/plain": [
       "array([[3.92842545, 1.8195207 , 6.17447604],\n",
       "       [2.37402603, 1.14119674, 7.89142945],\n",
       "       [2.85523668, 8.43891296, 3.96322372]])"
      ]
     },
     "execution_count": 41,
     "metadata": {},
     "output_type": "execute_result"
    }
   ],
   "source": [
    "np.random.uniform(0,10,(3,3))"
   ]
  },
  {
   "cell_type": "code",
   "execution_count": 42,
   "id": "530fe143",
   "metadata": {},
   "outputs": [
    {
     "data": {
      "text/plain": [
       "array([[2.82640317, 5.84640477, 3.83071435],\n",
       "       [1.2424498 , 1.60053015, 5.8841483 ],\n",
       "       [2.26490511, 6.26093351, 3.27709286]])"
      ]
     },
     "execution_count": 42,
     "metadata": {},
     "output_type": "execute_result"
    }
   ],
   "source": [
    "np.random.normal(4,2,(3,3))"
   ]
  },
  {
   "cell_type": "code",
   "execution_count": 44,
   "id": "0c6afed2",
   "metadata": {},
   "outputs": [
    {
     "data": {
      "text/plain": [
       "array([[ 2.29644418,  0.61730525, -0.27819544, -0.20128989],\n",
       "       [ 1.2283908 , -1.85094677, -0.67343028,  0.21959899],\n",
       "       [-0.1372467 ,  1.04810754, -0.76238653,  0.44729308]])"
      ]
     },
     "execution_count": 44,
     "metadata": {},
     "output_type": "execute_result"
    }
   ],
   "source": [
    "np.random.randn(3,4) # normale centrée reduite"
   ]
  },
  {
   "cell_type": "code",
   "execution_count": 47,
   "id": "41eee296",
   "metadata": {},
   "outputs": [],
   "source": [
    "rng = np.random.default_rng()"
   ]
  },
  {
   "cell_type": "code",
   "execution_count": 48,
   "id": "4a6f3009",
   "metadata": {},
   "outputs": [
    {
     "data": {
      "text/plain": [
       "array([[4, 4, 1],\n",
       "       [2, 1, 1],\n",
       "       [3, 1, 2]], dtype=int64)"
      ]
     },
     "execution_count": 48,
     "metadata": {},
     "output_type": "execute_result"
    }
   ],
   "source": [
    "rng.integers(1,5,(3,3))"
   ]
  },
  {
   "cell_type": "code",
   "execution_count": 53,
   "id": "5747ee2b",
   "metadata": {},
   "outputs": [
    {
     "data": {
      "text/plain": [
       "array([[ 0.49676454, -1.07531407,  0.4224594 ],\n",
       "       [-0.36135058,  0.92182593, -0.02723534],\n",
       "       [ 0.70451069,  0.08994827, -1.12545256],\n",
       "       [ 0.24472182,  0.12594527, -0.54105   ]])"
      ]
     },
     "execution_count": 53,
     "metadata": {},
     "output_type": "execute_result"
    }
   ],
   "source": [
    "rng.standard_normal((4,3)) "
   ]
  },
  {
   "cell_type": "code",
   "execution_count": 54,
   "id": "533236f2",
   "metadata": {},
   "outputs": [
    {
     "data": {
      "text/plain": [
       "array([[0.94808746, 2.70136481],\n",
       "       [1.27593136, 8.63578458]])"
      ]
     },
     "execution_count": 54,
     "metadata": {},
     "output_type": "execute_result"
    }
   ],
   "source": [
    "rng.normal(3,2,(2,2))"
   ]
  },
  {
   "cell_type": "markdown",
   "id": "94f488a3",
   "metadata": {},
   "source": [
    "### L'argument de l'axe\n",
    "Dans de nombreuses opérations (par exemple, sum), vous devez indiquer à NumPy si vous souhaitez opérer sur des lignes ou des colonnes.\n",
    "\n",
    "Pour avoir une notation universelle qui fonctionne pour un nombre arbitraire de dimensions, NumPy introduit une notion d'axe : \n",
    "\n",
    "La valeur de l' axisargument est en fait le numéro de l'indice en question : Le premier indice est axis=0, le second est axis=1, et ainsi de suite. Donc, en 2D axis=0, c'est par colonne et axis=1signifie par ligne."
   ]
  },
  {
   "cell_type": "code",
   "execution_count": 57,
   "id": "b4aa0562",
   "metadata": {},
   "outputs": [
    {
     "data": {
      "text/plain": [
       "array([[1, 2, 3],\n",
       "       [1, 1, 1],\n",
       "       [4, 5, 6]])"
      ]
     },
     "execution_count": 57,
     "metadata": {},
     "output_type": "execute_result"
    }
   ],
   "source": [
    "a = np.array([[1,2,3],[1,1,1],[4,5,6]])\n",
    "a"
   ]
  },
  {
   "cell_type": "code",
   "execution_count": 58,
   "id": "67d3e002",
   "metadata": {},
   "outputs": [
    {
     "data": {
      "text/plain": [
       "array([ 6,  8, 10])"
      ]
     },
     "execution_count": 58,
     "metadata": {},
     "output_type": "execute_result"
    }
   ],
   "source": [
    "a.sum(axis =0)"
   ]
  },
  {
   "cell_type": "code",
   "execution_count": 59,
   "id": "1475addf",
   "metadata": {},
   "outputs": [
    {
     "data": {
      "text/plain": [
       "array([ 6,  3, 15])"
      ]
     },
     "execution_count": 59,
     "metadata": {},
     "output_type": "execute_result"
    }
   ],
   "source": [
    "a.sum(axis = 1)"
   ]
  },
  {
   "cell_type": "code",
   "execution_count": 60,
   "id": "8c49e670",
   "metadata": {},
   "outputs": [
    {
     "data": {
      "text/plain": [
       "array([4, 5, 6])"
      ]
     },
     "execution_count": 60,
     "metadata": {},
     "output_type": "execute_result"
    }
   ],
   "source": [
    "a.max(axis = 0)"
   ]
  },
  {
   "cell_type": "code",
   "execution_count": 61,
   "id": "be9d084e",
   "metadata": {},
   "outputs": [
    {
     "data": {
      "text/plain": [
       "array([1, 1, 1])"
      ]
     },
     "execution_count": 61,
     "metadata": {},
     "output_type": "execute_result"
    }
   ],
   "source": [
    "a.min(axis = 0)"
   ]
  },
  {
   "cell_type": "markdown",
   "id": "a91a0153",
   "metadata": {},
   "source": [
    "### Arithmétique matricielle\n",
    "En plus des opérateurs ordinaires (comme +, -,*, /, // et **) qui fonctionnent élément par élément, il existe un opérateur @ qui calcule un produit matriciel "
   ]
  },
  {
   "cell_type": "code",
   "execution_count": 69,
   "id": "5bbe9eec",
   "metadata": {},
   "outputs": [],
   "source": [
    "a = np.array([[1,2,3],[4,5,6],[1,0,2]])\n",
    "b = np.array([[2,2,2],[1,2,1],[3,3,1]])"
   ]
  },
  {
   "cell_type": "code",
   "execution_count": 70,
   "id": "d589d200",
   "metadata": {},
   "outputs": [
    {
     "data": {
      "text/plain": [
       "array([[1, 2, 3],\n",
       "       [4, 5, 6],\n",
       "       [1, 0, 2]])"
      ]
     },
     "execution_count": 70,
     "metadata": {},
     "output_type": "execute_result"
    }
   ],
   "source": [
    "a"
   ]
  },
  {
   "cell_type": "code",
   "execution_count": 71,
   "id": "64628c99",
   "metadata": {},
   "outputs": [
    {
     "data": {
      "text/plain": [
       "array([[2, 2, 2],\n",
       "       [1, 2, 1],\n",
       "       [3, 3, 1]])"
      ]
     },
     "execution_count": 71,
     "metadata": {},
     "output_type": "execute_result"
    }
   ],
   "source": [
    "b"
   ]
  },
  {
   "cell_type": "code",
   "execution_count": 72,
   "id": "e8bbd050",
   "metadata": {},
   "outputs": [
    {
     "data": {
      "text/plain": [
       "array([[3, 4, 5],\n",
       "       [5, 7, 7],\n",
       "       [4, 3, 3]])"
      ]
     },
     "execution_count": 72,
     "metadata": {},
     "output_type": "execute_result"
    }
   ],
   "source": [
    "a+b"
   ]
  },
  {
   "cell_type": "code",
   "execution_count": 73,
   "id": "1e24f362",
   "metadata": {},
   "outputs": [
    {
     "data": {
      "text/plain": [
       "array([[ 2,  4,  6],\n",
       "       [ 4, 10,  6],\n",
       "       [ 3,  0,  2]])"
      ]
     },
     "execution_count": 73,
     "metadata": {},
     "output_type": "execute_result"
    }
   ],
   "source": [
    "a*b"
   ]
  },
  {
   "cell_type": "code",
   "execution_count": 74,
   "id": "6b942d9b",
   "metadata": {},
   "outputs": [
    {
     "data": {
      "text/plain": [
       "array([[13, 15,  7],\n",
       "       [31, 36, 19],\n",
       "       [ 8,  8,  4]])"
      ]
     },
     "execution_count": 74,
     "metadata": {},
     "output_type": "execute_result"
    }
   ],
   "source": [
    "a@b"
   ]
  },
  {
   "cell_type": "code",
   "execution_count": 75,
   "id": "c84c6b33",
   "metadata": {},
   "outputs": [
    {
     "data": {
      "text/plain": [
       "array([[ 1,  4,  9],\n",
       "       [ 4, 25,  6],\n",
       "       [ 1,  0,  2]], dtype=int32)"
      ]
     },
     "execution_count": 75,
     "metadata": {},
     "output_type": "execute_result"
    }
   ],
   "source": [
    "a**b"
   ]
  },
  {
   "cell_type": "markdown",
   "id": "b9e986e4",
   "metadata": {},
   "source": [
    "#### Vecteurs lignes et vecteurs colonnes\n",
    "Comme le montre l'exemple ci-dessus, dans le contexte 2D, les vecteurs ligne et colonne sont traités différemment. \n",
    "\n",
    "Cela contraste avec la pratique habituelle de NumPy d'avoir un type de tableaux 1D dans la mesure du possible (par exemple, a[:,j]- la jème colonne d'un tableau 2D a- est un tableau 1D).\n",
    "\n",
    "Par défaut, les tableaux 1D sont traités comme des vecteurs de ligne dans les opérations 2D, donc lors de la multiplication d'une matrice par un vecteur de ligne, vous pouvez utiliser la forme (n,) ou (1, n) - le résultat sera le même. \n",
    "\n",
    "Si vous avez besoin d'un vecteur colonne, il existe plusieurs façons de le préparer à partir d'un tableau 1D, mais étonnamment transpose, ce n'en est pas une "
   ]
  },
  {
   "cell_type": "code",
   "execution_count": 76,
   "id": "22a93f3d",
   "metadata": {},
   "outputs": [
    {
     "data": {
      "text/plain": [
       "array([[1, 2, 3],\n",
       "       [4, 5, 6],\n",
       "       [1, 0, 2]])"
      ]
     },
     "execution_count": 76,
     "metadata": {},
     "output_type": "execute_result"
    }
   ],
   "source": [
    "a"
   ]
  },
  {
   "cell_type": "code",
   "execution_count": 81,
   "id": "e0ae1f63",
   "metadata": {},
   "outputs": [
    {
     "data": {
      "text/plain": [
       "array([[1, 4, 1],\n",
       "       [2, 5, 0],\n",
       "       [3, 6, 2]])"
      ]
     },
     "execution_count": 81,
     "metadata": {},
     "output_type": "execute_result"
    }
   ],
   "source": [
    "a.transpose()"
   ]
  },
  {
   "cell_type": "code",
   "execution_count": 82,
   "id": "99044cd5",
   "metadata": {},
   "outputs": [
    {
     "data": {
      "text/plain": [
       "array([[1, 2, 3],\n",
       "       [5, 6, 7]])"
      ]
     },
     "execution_count": 82,
     "metadata": {},
     "output_type": "execute_result"
    }
   ],
   "source": [
    "c = np.array([[1,2,3],[5,6,7]])\n",
    "c"
   ]
  },
  {
   "cell_type": "code",
   "execution_count": 83,
   "id": "2f06e29a",
   "metadata": {},
   "outputs": [
    {
     "data": {
      "text/plain": [
       "array([[1, 5],\n",
       "       [2, 6],\n",
       "       [3, 7]])"
      ]
     },
     "execution_count": 83,
     "metadata": {},
     "output_type": "execute_result"
    }
   ],
   "source": [
    "c.transpose()"
   ]
  },
  {
   "cell_type": "markdown",
   "id": "336e6a79",
   "metadata": {},
   "source": [
    "Deux opérations capables de créer un vecteur colonne 2D à partir d'un tableau 1D sont le remodelage et l'indexation avec newaxis :"
   ]
  },
  {
   "cell_type": "code",
   "execution_count": 85,
   "id": "13163b47",
   "metadata": {},
   "outputs": [
    {
     "data": {
      "text/plain": [
       "array([0, 1, 2, 3, 4, 5])"
      ]
     },
     "execution_count": 85,
     "metadata": {},
     "output_type": "execute_result"
    }
   ],
   "source": [
    "a = np.array(range(6))\n",
    "a"
   ]
  },
  {
   "cell_type": "code",
   "execution_count": 86,
   "id": "6ae78a90",
   "metadata": {},
   "outputs": [
    {
     "data": {
      "text/plain": [
       "array([[0, 1, 2],\n",
       "       [3, 4, 5]])"
      ]
     },
     "execution_count": 86,
     "metadata": {},
     "output_type": "execute_result"
    }
   ],
   "source": [
    "a.reshape(2,3)"
   ]
  },
  {
   "cell_type": "code",
   "execution_count": 94,
   "id": "21835fa9",
   "metadata": {},
   "outputs": [
    {
     "data": {
      "text/plain": [
       "array([[0, 1],\n",
       "       [2, 3],\n",
       "       [4, 5]])"
      ]
     },
     "execution_count": 94,
     "metadata": {},
     "output_type": "execute_result"
    }
   ],
   "source": [
    "a.reshape(3,2)"
   ]
  },
  {
   "cell_type": "code",
   "execution_count": 95,
   "id": "7ffc36f1",
   "metadata": {},
   "outputs": [
    {
     "data": {
      "text/plain": [
       "array([  12,    1,    2,    3,    4, 1111,    3,   45,    6,    7,    8,\n",
       "          9])"
      ]
     },
     "execution_count": 95,
     "metadata": {},
     "output_type": "execute_result"
    }
   ],
   "source": [
    "d = np.array([12,1,2,3,4,1111,3,45,6,7,8,9])\n",
    "d"
   ]
  },
  {
   "cell_type": "code",
   "execution_count": 96,
   "id": "5f136698",
   "metadata": {},
   "outputs": [
    {
     "data": {
      "text/plain": [
       "(array([ 0,  4,  5,  7,  8,  9, 10, 11], dtype=int64),)"
      ]
     },
     "execution_count": 96,
     "metadata": {},
     "output_type": "execute_result"
    }
   ],
   "source": [
    "np.where(d>3)"
   ]
  },
  {
   "cell_type": "markdown",
   "id": "5dd787ff",
   "metadata": {},
   "source": [
    "### #L'argument de l'axe\n",
    "Dans de nombreuses opérations (par exemple, la somme), vous devez indiquer à NumPy si vous souhaitez opérer sur des lignes ou des colonnes. \n",
    "\n",
    "Pour avoir une notation universelle qui fonctionne pour un nombre arbitraire de dimensions, NumPy introduit une notion d'axe: La valeur de l'argument axe est en fait le numéro de l'indice en question: Le premier indice est axis=0 , le second est axis=1, et ainsi de suite.\n",
    "\n",
    "Ainsi, en 2D, l'axe = 0 correspond à la colonne et l'axe = 1 correspond à la ligne.\n",
    "\n"
   ]
  },
  {
   "cell_type": "code",
   "execution_count": 104,
   "id": "f14f8cf7",
   "metadata": {},
   "outputs": [
    {
     "data": {
      "text/plain": [
       "array([[ 1,  2,  3,  4],\n",
       "       [ 5,  6,  7,  8],\n",
       "       [ 9, 10, 11, 12],\n",
       "       [13, 14, 15, 16]])"
      ]
     },
     "execution_count": 104,
     "metadata": {},
     "output_type": "execute_result"
    }
   ],
   "source": [
    "a = np.array([[1,2,3,4],[5,6,7,8],[9,10,11,12],[13,14,15,16]])\n",
    "a"
   ]
  },
  {
   "cell_type": "code",
   "execution_count": 105,
   "id": "53c3255d",
   "metadata": {},
   "outputs": [
    {
     "data": {
      "text/plain": [
       "136"
      ]
     },
     "execution_count": 105,
     "metadata": {},
     "output_type": "execute_result"
    }
   ],
   "source": [
    "a.sum() # ici c’est la somme de tous les éléments de a"
   ]
  },
  {
   "cell_type": "code",
   "execution_count": 107,
   "id": "326a690b",
   "metadata": {},
   "outputs": [
    {
     "data": {
      "text/plain": [
       "array([28, 32, 36, 40])"
      ]
     },
     "execution_count": 107,
     "metadata": {},
     "output_type": "execute_result"
    }
   ],
   "source": [
    "a.sum(axis = 0) "
   ]
  },
  {
   "cell_type": "code",
   "execution_count": 108,
   "id": "a6fcc558",
   "metadata": {},
   "outputs": [
    {
     "data": {
      "text/plain": [
       "array([10, 26, 42, 58])"
      ]
     },
     "execution_count": 108,
     "metadata": {},
     "output_type": "execute_result"
    }
   ],
   "source": [
    "a.sum(axis = 1)"
   ]
  },
  {
   "cell_type": "code",
   "execution_count": 109,
   "id": "852c33d5",
   "metadata": {},
   "outputs": [
    {
     "data": {
      "text/plain": [
       "8.5"
      ]
     },
     "execution_count": 109,
     "metadata": {},
     "output_type": "execute_result"
    }
   ],
   "source": [
    "a.mean() # ici c’est la moyenne de tous les élélements de a"
   ]
  },
  {
   "cell_type": "code",
   "execution_count": 111,
   "id": "481364f9",
   "metadata": {},
   "outputs": [
    {
     "data": {
      "text/plain": [
       "array([ 7.,  8.,  9., 10.])"
      ]
     },
     "execution_count": 111,
     "metadata": {},
     "output_type": "execute_result"
    }
   ],
   "source": [
    "a.mean(axis = 0)"
   ]
  },
  {
   "cell_type": "markdown",
   "id": "b18ad962",
   "metadata": {},
   "source": [
    "#### Manipulations matricielles\n",
    "Il existe deux fonctions principales pour joindre les tableaux :"
   ]
  },
  {
   "cell_type": "code",
   "execution_count": 129,
   "id": "1633af07",
   "metadata": {},
   "outputs": [],
   "source": [
    "b = np.array(list(range(17,33)))\n",
    "b = b.reshape(4,4)"
   ]
  },
  {
   "cell_type": "code",
   "execution_count": 126,
   "id": "8bd0bae6",
   "metadata": {},
   "outputs": [
    {
     "data": {
      "text/plain": [
       "array([[ 1,  2,  3,  4],\n",
       "       [ 5,  6,  7,  8],\n",
       "       [ 9, 10, 11, 12],\n",
       "       [13, 14, 15, 16]])"
      ]
     },
     "execution_count": 126,
     "metadata": {},
     "output_type": "execute_result"
    }
   ],
   "source": [
    "a"
   ]
  },
  {
   "cell_type": "code",
   "execution_count": 130,
   "id": "f3da7ff0",
   "metadata": {},
   "outputs": [
    {
     "data": {
      "text/plain": [
       "array([[ 1,  2,  3,  4, 17, 18, 19, 20],\n",
       "       [ 5,  6,  7,  8, 21, 22, 23, 24],\n",
       "       [ 9, 10, 11, 12, 25, 26, 27, 28],\n",
       "       [13, 14, 15, 16, 29, 30, 31, 32]])"
      ]
     },
     "execution_count": 130,
     "metadata": {},
     "output_type": "execute_result"
    }
   ],
   "source": [
    "np.hstack((a,b)) # De manière horizontale"
   ]
  },
  {
   "cell_type": "code",
   "execution_count": 131,
   "id": "5b27d63c",
   "metadata": {},
   "outputs": [
    {
     "data": {
      "text/plain": [
       "array([[ 1,  2,  3,  4],\n",
       "       [ 5,  6,  7,  8],\n",
       "       [ 9, 10, 11, 12],\n",
       "       [13, 14, 15, 16],\n",
       "       [17, 18, 19, 20],\n",
       "       [21, 22, 23, 24],\n",
       "       [25, 26, 27, 28],\n",
       "       [29, 30, 31, 32]])"
      ]
     },
     "execution_count": 131,
     "metadata": {},
     "output_type": "execute_result"
    }
   ],
   "source": [
    "np.vstack((a,b)) # De manière verticale"
   ]
  },
  {
   "cell_type": "markdown",
   "id": "1aa9ed67",
   "metadata": {},
   "source": [
    "### 3D \n",
    "Lorsque vous créez un tableau 3D en remodelant un vecteur 1D ou en convertissant une liste Python imbriquée, la signification des indices est (z,y,x).\n",
    "\n",
    "Le premier indice est le numéro du plan, puis les coordonnées vont dans ce plan :"
   ]
  },
  {
   "cell_type": "code",
   "execution_count": 148,
   "id": "536927bf",
   "metadata": {},
   "outputs": [
    {
     "data": {
      "text/plain": [
       "array([[[ 1,  2,  3,  4],\n",
       "        [ 5,  6,  7,  8],\n",
       "        [ 9, 10, 11, 12],\n",
       "        [13, 14, 15, 16]],\n",
       "\n",
       "       [[17, 18, 19, 20],\n",
       "        [21, 22, 23, 24],\n",
       "        [25, 26, 27, 28],\n",
       "        [29, 30, 31, 32]],\n",
       "\n",
       "       [[33, 34, 35, 36],\n",
       "        [37, 38, 39, 40],\n",
       "        [41, 42, 43, 44],\n",
       "        [45, 46, 47, 48]],\n",
       "\n",
       "       [[49, 50, 51, 52],\n",
       "        [53, 54, 55, 56],\n",
       "        [57, 58, 59, 60],\n",
       "        [61, 62, 63, 64]]])"
      ]
     },
     "execution_count": 148,
     "metadata": {},
     "output_type": "execute_result"
    }
   ],
   "source": [
    "#Exemple:\n",
    "d = np.arange(1,65).reshape(4,4,4)\n",
    "d"
   ]
  }
 ],
 "metadata": {
  "kernelspec": {
   "display_name": "Python 3 (ipykernel)",
   "language": "python",
   "name": "python3"
  },
  "language_info": {
   "codemirror_mode": {
    "name": "ipython",
    "version": 3
   },
   "file_extension": ".py",
   "mimetype": "text/x-python",
   "name": "python",
   "nbconvert_exporter": "python",
   "pygments_lexer": "ipython3",
   "version": "3.9.7"
  }
 },
 "nbformat": 4,
 "nbformat_minor": 5
}
