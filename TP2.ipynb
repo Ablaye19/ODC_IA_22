{
 "cells": [
  {
   "cell_type": "markdown",
   "id": "870a1966",
   "metadata": {},
   "source": [
    "### 1. A partir du jeu de données original, créer:\n",
    "\n",
    "    un Dataframe comportant tous les modules en précisant l’effectif des apprenants, le nombre total de sessions, le score\n",
    "    maximal, le score minimal, le taux de réussite (pour les apprenants des scores > 50)\n",
    "    \n",
    "    un tableau 2D Numpy avec les données des 10 tops modules selon les taux de réussites (Chaque ligne représente un module)\n",
    "\n",
    "### 2. Pour le top module et le dernier:\n",
    "\n",
    "    créer un Dataframe avec les données résumées de chaque apprenants: nombre total de sessions, nombre total de temps, score,\n",
    "    resultat final (de valeur 0 si score < 50 et 1 sinon)\n"
   ]
  },
  {
   "cell_type": "code",
   "execution_count": 1,
   "id": "936d2561-ea15-4f5a-b5e6-4f4a00fbd3e7",
   "metadata": {},
   "outputs": [],
   "source": [
    "import pandas as pd"
   ]
  },
  {
   "cell_type": "code",
   "execution_count": 2,
   "id": "d9e02402-4bac-4529-85ad-0ca3488a665d",
   "metadata": {},
   "outputs": [],
   "source": [
    "scorm_tracking = pd.read_csv(\"C:/Users/Abdoulaye MAIGA/OneDrive/Bureau/Data/scorm_tracking_copy.csv\",sep = \";\")"
   ]
  },
  {
   "cell_type": "code",
   "execution_count": 3,
   "id": "8adf1ca5-e148-496b-95ab-733df22fcbaf",
   "metadata": {},
   "outputs": [],
   "source": [
    "#scorm_tracking.head()"
   ]
  },
  {
   "cell_type": "code",
   "execution_count": 4,
   "id": "acbb5154-ec16-43b1-a05b-670cf7789cdd",
   "metadata": {},
   "outputs": [
    {
     "data": {
      "text/plain": [
       "(27403, 13)"
      ]
     },
     "execution_count": 4,
     "metadata": {},
     "output_type": "execute_result"
    }
   ],
   "source": [
    "scorm_tracking.shape"
   ]
  },
  {
   "cell_type": "code",
   "execution_count": 52,
   "id": "48b97dca",
   "metadata": {},
   "outputs": [],
   "source": [
    "df_defaut = scorm_tracking[['object_id','actor','session_uuid','score','temps']]\n",
    "#df_defaut[:3]"
   ]
  },
  {
   "cell_type": "code",
   "execution_count": 6,
   "id": "5d0cdf18",
   "metadata": {},
   "outputs": [],
   "source": [
    "effectif_par_modul = df_defaut.groupby(['object_id']).actor.nunique()\n",
    "score_max = df_defaut.groupby(['object_id']).score.max()\n",
    "score_min = df_defaut.groupby(['object_id']).score.min()\n",
    "nb_t_de_session = df_defaut.groupby(['object_id']).session_uuid.nunique()\n",
    "# effectif_par_modul"
   ]
  },
  {
   "cell_type": "code",
   "execution_count": 7,
   "id": "e4c04137",
   "metadata": {},
   "outputs": [],
   "source": [
    "dfr = pd.DataFrame(effectif_par_modul)\n",
    "#dfr"
   ]
  },
  {
   "cell_type": "code",
   "execution_count": 8,
   "id": "36dd9981",
   "metadata": {},
   "outputs": [],
   "source": [
    "dfr['nb de session']=nb_t_de_session\n",
    "dfr['score min']=score_min\n",
    "dfr['score max']=score_max\n",
    "# dfr"
   ]
  },
  {
   "cell_type": "code",
   "execution_count": 9,
   "id": "44f849ed",
   "metadata": {},
   "outputs": [],
   "source": [
    "nb_score_50 = df_defaut[df_defaut['score'] >= 50]\n",
    "#nb_score_50"
   ]
  },
  {
   "cell_type": "code",
   "execution_count": 10,
   "id": "a867f10c",
   "metadata": {},
   "outputs": [],
   "source": [
    "nb_adm = nb_score_50.groupby(['object_id','actor']).score.max()\n",
    "nb_admis = nb_adm.groupby(['object_id']).count()\n",
    "dfr['Nombre admis'] = nb_admis\n",
    "# nb_adm"
   ]
  },
  {
   "cell_type": "code",
   "execution_count": 11,
   "id": "7c3226dc",
   "metadata": {},
   "outputs": [],
   "source": [
    "dfr['Nombre admis'] = dfr['Nombre admis'].fillna(0)"
   ]
  },
  {
   "cell_type": "code",
   "execution_count": 12,
   "id": "3f567ede",
   "metadata": {},
   "outputs": [],
   "source": [
    "taux_de_reussite = (dfr['Nombre admis']/dfr['actor'])*100"
   ]
  },
  {
   "cell_type": "code",
   "execution_count": 13,
   "id": "0b3c78e3",
   "metadata": {},
   "outputs": [],
   "source": [
    "dfr['taux de reussite (%)'] = taux_de_reussite\n",
    "# dfr.head(6)"
   ]
  },
  {
   "cell_type": "code",
   "execution_count": 14,
   "id": "fc924ff8",
   "metadata": {},
   "outputs": [],
   "source": [
    "dfr1 = dfr.sort_values(by=['taux de reussite (%)'],ascending=False)\n",
    "#dfr1.head(40)"
   ]
  },
  {
   "cell_type": "code",
   "execution_count": 15,
   "id": "8cf73680",
   "metadata": {},
   "outputs": [
    {
     "data": {
      "text/html": [
       "<div>\n",
       "<style scoped>\n",
       "    .dataframe tbody tr th:only-of-type {\n",
       "        vertical-align: middle;\n",
       "    }\n",
       "\n",
       "    .dataframe tbody tr th {\n",
       "        vertical-align: top;\n",
       "    }\n",
       "\n",
       "    .dataframe thead th {\n",
       "        text-align: right;\n",
       "    }\n",
       "</style>\n",
       "<table border=\"1\" class=\"dataframe\">\n",
       "  <thead>\n",
       "    <tr style=\"text-align: right;\">\n",
       "      <th></th>\n",
       "      <th>actor</th>\n",
       "      <th>nb de session</th>\n",
       "      <th>score min</th>\n",
       "      <th>score max</th>\n",
       "      <th>Nombre admis</th>\n",
       "      <th>taux de reussite (%)</th>\n",
       "    </tr>\n",
       "    <tr>\n",
       "      <th>object_id</th>\n",
       "      <th></th>\n",
       "      <th></th>\n",
       "      <th></th>\n",
       "      <th></th>\n",
       "      <th></th>\n",
       "      <th></th>\n",
       "    </tr>\n",
       "  </thead>\n",
       "  <tbody>\n",
       "    <tr>\n",
       "      <th>752-etudes-de-cas-et-questions</th>\n",
       "      <td>123</td>\n",
       "      <td>216</td>\n",
       "      <td>0.0</td>\n",
       "      <td>100.0</td>\n",
       "      <td>122.0</td>\n",
       "      <td>99.186992</td>\n",
       "    </tr>\n",
       "    <tr>\n",
       "      <th>734-risques-psychosociaux</th>\n",
       "      <td>124</td>\n",
       "      <td>153</td>\n",
       "      <td>0.0</td>\n",
       "      <td>100.0</td>\n",
       "      <td>122.0</td>\n",
       "      <td>98.387097</td>\n",
       "    </tr>\n",
       "    <tr>\n",
       "      <th>819-informatique</th>\n",
       "      <td>59</td>\n",
       "      <td>68</td>\n",
       "      <td>0.0</td>\n",
       "      <td>100.0</td>\n",
       "      <td>58.0</td>\n",
       "      <td>98.305085</td>\n",
       "    </tr>\n",
       "  </tbody>\n",
       "</table>\n",
       "</div>"
      ],
      "text/plain": [
       "                                actor  nb de session  score min  score max  \\\n",
       "object_id                                                                    \n",
       "752-etudes-de-cas-et-questions    123            216        0.0      100.0   \n",
       "734-risques-psychosociaux         124            153        0.0      100.0   \n",
       "819-informatique                   59             68        0.0      100.0   \n",
       "\n",
       "                                Nombre admis  taux de reussite (%)  \n",
       "object_id                                                           \n",
       "752-etudes-de-cas-et-questions         122.0             99.186992  \n",
       "734-risques-psychosociaux              122.0             98.387097  \n",
       "819-informatique                        58.0             98.305085  "
      ]
     },
     "execution_count": 15,
     "metadata": {},
     "output_type": "execute_result"
    }
   ],
   "source": [
    "top_dfr = dfr1.head(10)\n",
    "top_dfr[:3]"
   ]
  },
  {
   "cell_type": "code",
   "execution_count": 16,
   "id": "333a82dd",
   "metadata": {},
   "outputs": [],
   "source": [
    "#top_dfr.index"
   ]
  },
  {
   "cell_type": "code",
   "execution_count": 17,
   "id": "c8f72789",
   "metadata": {},
   "outputs": [
    {
     "data": {
      "text/plain": [
       "(10, 6)"
      ]
     },
     "execution_count": 17,
     "metadata": {},
     "output_type": "execute_result"
    }
   ],
   "source": [
    "top_dfr.shape"
   ]
  },
  {
   "cell_type": "code",
   "execution_count": 18,
   "id": "f099d0ee",
   "metadata": {},
   "outputs": [],
   "source": [
    "# tableau_top_10 = np.array([top_dfr])\n",
    "# tableau_top_10\n",
    "tableau_top_10 = top_dfr.to_numpy()\n",
    "#tableau_top_10"
   ]
  },
  {
   "cell_type": "markdown",
   "id": "439e9411",
   "metadata": {},
   "source": [
    "# 2"
   ]
  },
  {
   "cell_type": "code",
   "execution_count": 19,
   "id": "e19e943e",
   "metadata": {},
   "outputs": [],
   "source": [
    "#top_1 = dfr1.iloc[0,:]\n",
    "top_1 = top_dfr.head(1)\n",
    "# top_1"
   ]
  },
  {
   "cell_type": "code",
   "execution_count": 20,
   "id": "deb0ac1f",
   "metadata": {},
   "outputs": [],
   "source": [
    "df_defaut = scorm_tracking[['object_id','actor','session_uuid','score','temps']]\n",
    "top_1_info = df_defaut.loc[(df_defaut['object_id'] == top_1.index[0]),:]\n",
    "#top_1_info.head(4)"
   ]
  },
  {
   "cell_type": "code",
   "execution_count": 21,
   "id": "211a353b",
   "metadata": {},
   "outputs": [],
   "source": [
    "nb_session = top_1_info.groupby(['actor']).session_uuid.count()\n",
    "le_temps = top_1_info.groupby(['actor']).temps.sum()\n",
    "le_score = top_1_info.groupby(['actor']).score.max()\n",
    "# nb_session"
   ]
  },
  {
   "cell_type": "code",
   "execution_count": 22,
   "id": "3681bb33",
   "metadata": {},
   "outputs": [],
   "source": [
    "resultatT1 = pd.DataFrame({'Nobre de session':nb_session})\n",
    "resultatT1['Le temps'] = le_temps\n",
    "resultatT1['Le score'] = le_score\n",
    "resultatT1['Admis'] = 0"
   ]
  },
  {
   "cell_type": "code",
   "execution_count": 23,
   "id": "34c25509",
   "metadata": {},
   "outputs": [],
   "source": [
    "resultatT1.loc[resultatT1['Le score'] >= 50,'Admis'] = 1\n",
    "#resultatT1.head()"
   ]
  },
  {
   "cell_type": "markdown",
   "id": "aa9711d5",
   "metadata": {},
   "source": [
    "## Pour le top dernier"
   ]
  },
  {
   "cell_type": "code",
   "execution_count": 24,
   "id": "2d578f44",
   "metadata": {},
   "outputs": [
    {
     "data": {
      "text/html": [
       "<div>\n",
       "<style scoped>\n",
       "    .dataframe tbody tr th:only-of-type {\n",
       "        vertical-align: middle;\n",
       "    }\n",
       "\n",
       "    .dataframe tbody tr th {\n",
       "        vertical-align: top;\n",
       "    }\n",
       "\n",
       "    .dataframe thead th {\n",
       "        text-align: right;\n",
       "    }\n",
       "</style>\n",
       "<table border=\"1\" class=\"dataframe\">\n",
       "  <thead>\n",
       "    <tr style=\"text-align: right;\">\n",
       "      <th></th>\n",
       "      <th>object_id</th>\n",
       "      <th>actor</th>\n",
       "      <th>session_uuid</th>\n",
       "      <th>score</th>\n",
       "      <th>temps</th>\n",
       "    </tr>\n",
       "  </thead>\n",
       "  <tbody>\n",
       "    <tr>\n",
       "      <th>1082</th>\n",
       "      <td>632-le-hibou-grand-duc</td>\n",
       "      <td>alexandre.comby@mobiletic.com</td>\n",
       "      <td>session-30955</td>\n",
       "      <td>0.0</td>\n",
       "      <td>0.0</td>\n",
       "    </tr>\n",
       "  </tbody>\n",
       "</table>\n",
       "</div>"
      ],
      "text/plain": [
       "                   object_id                          actor   session_uuid  \\\n",
       "1082  632-le-hibou-grand-duc  alexandre.comby@mobiletic.com  session-30955   \n",
       "\n",
       "      score  temps  \n",
       "1082    0.0    0.0  "
      ]
     },
     "execution_count": 24,
     "metadata": {},
     "output_type": "execute_result"
    }
   ],
   "source": [
    "top_dernier_info = df_defaut.loc[(df_defaut['object_id'] == dfr1.index[-1]),:]\n",
    "top_dernier_info.head()"
   ]
  },
  {
   "cell_type": "code",
   "execution_count": 25,
   "id": "fc6a7d37",
   "metadata": {},
   "outputs": [],
   "source": [
    "nb_session0 = top_dernier_info.groupby(['actor']).session_uuid.count()\n",
    "le_temps0 = top_dernier_info.groupby(['actor']).temps.sum()\n",
    "le_score0 = top_dernier_info.groupby(['actor']).score.max()\n",
    "resultatDernier = pd.DataFrame({'Nobre de session':nb_session0})\n",
    "resultatDernier['Le temps'] = le_temps0\n",
    "resultatDernier['Le score'] = le_score0\n",
    "resultatDernier['Admis'] = 0"
   ]
  },
  {
   "cell_type": "code",
   "execution_count": 26,
   "id": "fa67911f",
   "metadata": {},
   "outputs": [
    {
     "data": {
      "text/html": [
       "<div>\n",
       "<style scoped>\n",
       "    .dataframe tbody tr th:only-of-type {\n",
       "        vertical-align: middle;\n",
       "    }\n",
       "\n",
       "    .dataframe tbody tr th {\n",
       "        vertical-align: top;\n",
       "    }\n",
       "\n",
       "    .dataframe thead th {\n",
       "        text-align: right;\n",
       "    }\n",
       "</style>\n",
       "<table border=\"1\" class=\"dataframe\">\n",
       "  <thead>\n",
       "    <tr style=\"text-align: right;\">\n",
       "      <th></th>\n",
       "      <th>Nobre de session</th>\n",
       "      <th>Le temps</th>\n",
       "      <th>Le score</th>\n",
       "      <th>Admis</th>\n",
       "    </tr>\n",
       "    <tr>\n",
       "      <th>actor</th>\n",
       "      <th></th>\n",
       "      <th></th>\n",
       "      <th></th>\n",
       "      <th></th>\n",
       "    </tr>\n",
       "  </thead>\n",
       "  <tbody>\n",
       "    <tr>\n",
       "      <th>alexandre.comby@mobiletic.com</th>\n",
       "      <td>1</td>\n",
       "      <td>0.0</td>\n",
       "      <td>0.0</td>\n",
       "      <td>0</td>\n",
       "    </tr>\n",
       "  </tbody>\n",
       "</table>\n",
       "</div>"
      ],
      "text/plain": [
       "                               Nobre de session  Le temps  Le score  Admis\n",
       "actor                                                                     \n",
       "alexandre.comby@mobiletic.com                 1       0.0       0.0      0"
      ]
     },
     "execution_count": 26,
     "metadata": {},
     "output_type": "execute_result"
    }
   ],
   "source": [
    "resultatDernier.loc[resultatDernier['Le score'] >= 50,'Admis'] = 1\n",
    "resultatDernier"
   ]
  },
  {
   "cell_type": "markdown",
   "id": "89b9414d",
   "metadata": {},
   "source": [
    "## Suite: Un clin d'oeil à Matplotlib\n",
    "\n",
    "### Pour les 10 top module:\n",
    "    représenter par une courbe ces derniers dans un même repère sur une figure unique. \n",
    "    A chaque apprenant correspond un point dont l’abscisse est le temps en minutes de celui-ci. \n",
    "    L’ordonné est déterminé par son score maximum.\n",
    "    Un diagramme en bâton avec le taux de réussite de chaque module. \n",
    "\n",
    "### Pour les 3 top module:\n",
    "    représenter par une courbe chacun dans un même repère différent sur une même figure horizontalement subdivisée en trois.\n",
    "    A chaque apprenant correspond un point dont l’abscisse est le rang de celui-ci. L’ordonné est déterminé par son score\n",
    "    maximum.\n",
    "\n",
    "### Pour tous les modules:\n",
    "    représenter l’ensemble par un nuage de points dans un même repère sur une même figure.\n",
    "    A chaque apprenant correspond un point dont l’abscisse est le rang de celui-ci.\n",
    "    L’ordonné est déterminé par le temps global sur le module.\n",
    "    \n",
    "    Un camembert avec le taux des modules catégorisés en quatre classes: \n",
    "    Classe A: taux de réussite > = 80%\n",
    "    Classe B: taux de réussite > = 60%\n",
    "    Classe C: taux de réussite > = 50%\n",
    "    Classe D: taux de réussite < 50%\n"
   ]
  },
  {
   "cell_type": "code",
   "execution_count": 27,
   "id": "9ce1a3cd",
   "metadata": {},
   "outputs": [],
   "source": [
    "import matplotlib as mpl\n",
    "import matplotlib.pyplot as plt\n",
    "import numpy as np"
   ]
  },
  {
   "cell_type": "markdown",
   "id": "abe528e8",
   "metadata": {},
   "source": [
    "### Pour les 10 top module:\n",
    "    représenter par une courbe ces derniers dans un même repère sur une figure unique. \n",
    "    A chaque apprenant correspond un point dont l’abscisse est le temps en minutes de celui-ci. \n",
    "    L’ordonné est déterminé par son score maximum.\n",
    "    Un diagramme en bâton avec le taux de réussite de chaque module. "
   ]
  },
  {
   "cell_type": "code",
   "execution_count": 28,
   "id": "18c57474",
   "metadata": {},
   "outputs": [],
   "source": [
    "liste1 = list(top_dfr.index)\n",
    "df_defaut1 = df_defaut.set_index('object_id')\n",
    "#df_defaut1.head()"
   ]
  },
  {
   "cell_type": "code",
   "execution_count": 29,
   "id": "4d6e6e4c",
   "metadata": {},
   "outputs": [],
   "source": [
    "def Courbe(data,liste):\n",
    "    fig, axs = plt.subplots(figsize=(10,5), layout='constrained')\n",
    "    i = 0\n",
    "    for e in liste:\n",
    "        top = data.loc[e,:]\n",
    "        top_score = top.groupby(['actor']).score.max()\n",
    "        top_temps = top.groupby(['actor']).temps.sum()\n",
    "        topxy = pd.DataFrame({'Score':top_score,'Temps':top_temps})\n",
    "        topxy['Temps'] = np.round(topxy['Temps']/60,3)\n",
    "        top_xy = topxy.sort_values(by = 'Temps',ascending = False)  \n",
    "        x = top_xy['Temps']\n",
    "        y = top_xy['Score']      \n",
    "        axs.plot(x,y, label = e)\n",
    "    axs.legend() \n",
    "    axs.set_xlabel('LE TEMPS')\n",
    "    axs.set_ylabel('LE SCORE');\n",
    "        "
   ]
  },
  {
   "cell_type": "code",
   "execution_count": 30,
   "id": "39121d54",
   "metadata": {},
   "outputs": [],
   "source": [
    "#liste1 plt.xtiks(par)"
   ]
  },
  {
   "cell_type": "code",
   "execution_count": 31,
   "id": "04b74763",
   "metadata": {},
   "outputs": [],
   "source": [
    "#Courbe(df_defaut1 ,liste1)"
   ]
  },
  {
   "cell_type": "code",
   "execution_count": 32,
   "id": "2c2a3e5c",
   "metadata": {},
   "outputs": [],
   "source": [
    "#top_dfr"
   ]
  },
  {
   "cell_type": "code",
   "execution_count": 33,
   "id": "c587af3d",
   "metadata": {},
   "outputs": [],
   "source": [
    "def Batton(data):\n",
    "    liste = data.index\n",
    "    fig, ax = plt.subplots(figsize=(10, 8), layout='constrained')\n",
    "    plt.xticks(rotation='-70')\n",
    "    ax.bar(liste1,data['taux de reussite (%)']);"
   ]
  },
  {
   "cell_type": "code",
   "execution_count": 34,
   "id": "1e918098",
   "metadata": {},
   "outputs": [],
   "source": [
    "#Batton(top_dfr)"
   ]
  },
  {
   "cell_type": "markdown",
   "id": "fe2eb59e",
   "metadata": {},
   "source": [
    "### Pour les 3 top module:\n",
    "    représenter par une courbe chacun dans un même repère différent sur une même figure horizontalement subdivisée en trois.\n",
    "    A chaque apprenant correspond un point dont l’abscisse est le rang de celui-ci. L’ordonné est déterminé par son score\n",
    "    maximum.\n"
   ]
  },
  {
   "cell_type": "code",
   "execution_count": 35,
   "id": "f2207aff",
   "metadata": {},
   "outputs": [],
   "source": [
    "top_dfr_3 = top_dfr.head(3)\n",
    "listeT3 = list(top_dfr_3.index)"
   ]
  },
  {
   "cell_type": "code",
   "execution_count": 36,
   "id": "c288820f",
   "metadata": {},
   "outputs": [],
   "source": [
    "def Courbe_top3(data,liste):\n",
    "    fig, axs = plt.subplots(3,1,figsize=(8,10), layout='constrained')\n",
    "    i = -1\n",
    "    for e in liste:\n",
    "        i = i+1\n",
    "        top = data.loc[e,:]\n",
    "        top_score = top.groupby(['actor']).score.max()\n",
    "        topxy = pd.DataFrame({'Score':top_score})\n",
    "        top_xy = topxy.sort_values(by = 'Score', ascending = False)\n",
    "        top_xy['Rang'] = list(range(1,len(top_xy)+1))\n",
    "        x = top_xy['Rang']\n",
    "        y = top_xy['Score']\n",
    "        axs[i].set_title(e)\n",
    "        axs[i].set_xlim(0, 140)\n",
    "        axs[i].set_ylim(0, 120)\n",
    "        axs[i].plot(x,y)\n",
    "        axs[i].set_xlabel('LE RANG')\n",
    "        axs[i].set_ylabel('LE SCORE');  "
   ]
  },
  {
   "cell_type": "code",
   "execution_count": 51,
   "id": "7e7d638b",
   "metadata": {},
   "outputs": [],
   "source": [
    "#Courbe_top3(df_defaut1,listeT3)"
   ]
  },
  {
   "cell_type": "markdown",
   "id": "a1914249",
   "metadata": {},
   "source": [
    "### Pour tous les modules:\n",
    "    représenter l’ensemble par un nuage de points dans un même repère sur une même figure.\n",
    "    A chaque apprenant correspond un point dont l’abscisse est le rang de celui-ci.\n",
    "    L’ordonné est déterminé par le temps global sur le module.\n",
    "    \n",
    "    Un camembert avec le taux des modules catégorisés en quatre classes: \n",
    "    Classe A: taux de réussite > = 80%\n",
    "    Classe B: taux de réussite > = 60%\n",
    "    Classe C: taux de réussite > = 50%\n",
    "    Classe D: taux de réussite < 50%"
   ]
  },
  {
   "cell_type": "code",
   "execution_count": 38,
   "id": "6bd38c41",
   "metadata": {},
   "outputs": [],
   "source": [
    "#df_defaut1\n"
   ]
  },
  {
   "cell_type": "code",
   "execution_count": 39,
   "id": "54fee1f6",
   "metadata": {},
   "outputs": [],
   "source": [
    "listeModule = list(dfr.index)\n",
    "# listeModule"
   ]
  },
  {
   "cell_type": "code",
   "execution_count": 40,
   "id": "d1bf155c",
   "metadata": {},
   "outputs": [],
   "source": [
    "#from pandas.errors import AttributeError\n",
    "\n",
    "def NuagePoint(data,liste):\n",
    "    l = []\n",
    "    fig, axs = plt.subplots(figsize=(10,6), layout='constrained')\n",
    "    for e in liste:\n",
    "        top = data.loc[e,:]\n",
    "        try :\n",
    "            top_score = top.groupby(['actor']).score.max()\n",
    "            top_temps = top.groupby(['actor']).temps.sum()\n",
    "            top_temps = np.round(top_temps/60,3)\n",
    "            topxy = pd.DataFrame({'Score':top_score,'Temps':top_temps})     \n",
    "            top_xy = topxy.sort_values(by = 'Score',ascending = False) \n",
    "            top_xy['Rang'] = list(range(1,len(top_xy)+1))\n",
    "            #top_xy['Rang'] = top_xy['Rang'].fillna(0)\n",
    "            #top_xy['Temps'] = top_xy['Temps'].fillna(0)\n",
    "            x = top_xy['Rang']\n",
    "            y = top_xy['Temps']       \n",
    "            axs.scatter(x,y, s = 50 )\n",
    "            axs.set_xlabel('LE RANG')\n",
    "            axs.set_ylabel('LE TEMPS');\n",
    "        except AttributeError:\n",
    "            l.append(e)\n",
    "            continue\n",
    "    return l\n"
   ]
  },
  {
   "cell_type": "code",
   "execution_count": 41,
   "id": "e7970c07",
   "metadata": {},
   "outputs": [],
   "source": [
    "#df_defaut.object_id  dfr['Nombre admis'] = dfr['Nombre admis'].fillna(0)"
   ]
  },
  {
   "cell_type": "code",
   "execution_count": 42,
   "id": "fdd2e925",
   "metadata": {},
   "outputs": [],
   "source": [
    "#df_defaut1.index\n",
    "#'632-le-hibou-grand-duc' in df_defaut1.index\n",
    "#df_defaut1.loc['632-le-hibou-grand-duc',:]"
   ]
  },
  {
   "cell_type": "code",
   "execution_count": 43,
   "id": "04fd9112",
   "metadata": {},
   "outputs": [],
   "source": [
    "#NuagePoint(df_defaut1,listeModule)\n"
   ]
  },
  {
   "cell_type": "code",
   "execution_count": 44,
   "id": "5855e89b",
   "metadata": {},
   "outputs": [],
   "source": [
    "#top_dfr\n",
    "#len([ e for e in dfr['taux de reussite (%)'] if((e < 80) & (e >= 60))])\n"
   ]
  },
  {
   "cell_type": "code",
   "execution_count": 45,
   "id": "e0bba56f",
   "metadata": {},
   "outputs": [],
   "source": [
    "def Secteur(data):\n",
    "    score80 = len(data['taux de reussite (%)'] >= 80)\n",
    "    score60 = len([ e for e in data['taux de reussite (%)'] if((e < 80) & (e >= 60))])\n",
    "    score50 = len([ e for e in data['taux de reussite (%)'] if((e < 60) & (e >= 50))])\n",
    "    score0  = len([ e for e in data['taux de reussite (%)'] if((e < 50))])\n",
    "    l = [score80,score60,score50,score0]\n",
    "    plt.figure(figsize = (10, 6), layout='constrained')\n",
    "    plt.pie(l, labels = ['Taux de reussite sup_80','Taux de reussite [60,80]','Taux de reussite [50,60]',\n",
    "                         'Taux de reussite [0,50]'], autopct='%1.2f%%')"
   ]
  },
  {
   "cell_type": "code",
   "execution_count": 46,
   "id": "1b86d18e",
   "metadata": {},
   "outputs": [],
   "source": [
    "#Secteur(dfr)"
   ]
  },
  {
   "cell_type": "code",
   "execution_count": 48,
   "id": "b7cc78cd",
   "metadata": {},
   "outputs": [],
   "source": [
    "class AnalyseData :\n",
    "    import matplotlib as mpl\n",
    "    import matplotlib.pyplot as plt\n",
    "    import numpy as np\n",
    "    \n",
    "    def Courbe(data,liste):\n",
    "        \"\"\"Cette fonction permet de dessiner sur un même graphique la courbe de chaque module en fonction du temps\n",
    "        et le score de chaque actore dans le module.\n",
    "        -Ici la 'liste' contient les differents modules.\n",
    "        -Et le 'data' est indicé sur les nom des modules.\"\"\"\n",
    "        import matplotlib.pyplot as plt\n",
    "        import pandas as pd\n",
    "        import numpy as np\n",
    "        fig, axs = plt.subplots(figsize=(10,5), layout='constrained')\n",
    "        i = 0\n",
    "        for e in liste:               # ici pour chaque module 'e' choisi on fait le travail ci-dessous\n",
    "            top = data.loc[e,:]      \n",
    "            top_score = top.groupby(['actor']).score.max()\n",
    "            top_temps = top.groupby(['actor']).temps.sum()\n",
    "            topxy = pd.DataFrame({'Score':top_score,'Temps':top_temps})\n",
    "            topxy['Temps'] = np.round(topxy['Temps']/60,3)             #Pour la conversion du temps en munite\n",
    "            top_xy = topxy.sort_values(by = 'Temps',ascending = False)#on ordonnent en fonction du temps de manière décroissante\n",
    "            x = top_xy['Temps']\n",
    "            y = top_xy['Score']      \n",
    "            axs.plot(x,y, label = e)\n",
    "        axs.legend() \n",
    "        axs.set_xlabel('LE TEMPS')\n",
    "        axs.set_ylabel('LE SCORE');\n",
    "        \n",
    "        \n",
    "    def Batton(data):\n",
    "        \"\"\"Cette fonction nous fait une représentation en bâton sur un graphique pour chaque module en fonction du taux \n",
    "        de reussite dans ce module\n",
    "        Ici on s’attendait que l’utilisateur entre un DataFrame dont les index sont les noms des modules\"\"\"\n",
    "        import matplotlib.pyplot as plt\n",
    "        liste = data.index\n",
    "        fig, ax = plt.subplots(figsize=(10, 8), layout='constrained')\n",
    "        plt.xticks(rotation='-70')\n",
    "        ax.bar(liste1,data['taux de reussite (%)']);\n",
    "        \n",
    "        \n",
    "    def Courbe_top3(data,liste):\n",
    "        \"\"\"Cette fonction nous permet de faire un graphe sur lequel on a trois axes et sur chaque axe on fait une courbe \n",
    "        On a mit une liste en paramètre pour que l’utilisateur puis l’utilisé pour faire a sa guise ses choix entre\n",
    "        les trois module qu’il veut.\n",
    "        Enfait ici nous allons utilisé cette fonction pour faire les graphes des 3 premières ligne du DataFrame entré\n",
    "        et chaque ligne est un module du data. \"\"\"\n",
    "        import matplotlib.pyplot as plt\n",
    "        fig, axs = plt.subplots(3,1,figsize=(8,10), layout='constrained')\n",
    "        i = -1\n",
    "        for e in liste:\n",
    "            i = i+1\n",
    "            top = data.loc[e,:]\n",
    "            top_score = top.groupby(['actor']).score.max()\n",
    "            topxy = pd.DataFrame({'Score':top_score})\n",
    "            top_xy = topxy.sort_values(by = 'Score', ascending = False)\n",
    "            top_xy['Rang'] = list(range(1,len(top_xy)+1))\n",
    "            x = top_xy['Rang']\n",
    "            y = top_xy['Score']\n",
    "            axs[i].set_title(e)\n",
    "            axs[i].set_xlim(0, 140)\n",
    "            axs[i].set_ylim(0, 120)\n",
    "            axs[i].plot(x,y)\n",
    "            axs[i].set_xlabel('LE RANG')\n",
    "            axs[i].set_ylabel('LE SCORE');  \n",
    "            \n",
    "            \n",
    "    def NuagePoint(data,liste):\n",
    "        \"\"\"Nuage des points \"\"\"\n",
    "        l = []\n",
    "        fig, axs = plt.subplots(figsize=(10,6), layout='constrained')\n",
    "        for e in liste:\n",
    "            top = data.loc[e,:]\n",
    "            try :\n",
    "                top_score = top.groupby(['actor']).score.max()\n",
    "                top_temps = top.groupby(['actor']).temps.sum()\n",
    "                top_temps = np.round(top_temps/60,3)\n",
    "                topxy = pd.DataFrame({'Score':top_score,'Temps':top_temps})     \n",
    "                top_xy = topxy.sort_values(by = 'Score',ascending = False) \n",
    "                top_xy['Rang'] = list(range(1,len(top_xy)+1))\n",
    "                #top_xy['Rang'] = top_xy['Rang'].fillna(0)\n",
    "                #top_xy['Temps'] = top_xy['Temps'].fillna(0)\n",
    "                x = top_xy['Rang']\n",
    "                y = top_xy['Temps']       \n",
    "                axs.scatter(x,y, s = 50 )\n",
    "                axs.set_xlabel('LE RANG')\n",
    "                axs.set_ylabel('LE TEMPS');\n",
    "            except AttributeError:\n",
    "                l.append(e)\n",
    "                continue\n",
    "        return l\n",
    "\n",
    "            \n",
    "    def Secteur(data):\n",
    "        \"\"\"Representation par un camenbert\"\"\"\n",
    "        score80 = len(data['taux de reussite (%)'] >= 80)\n",
    "        score60 = len([ e for e in data['taux de reussite (%)'] if((e < 80) & (e >= 60))])\n",
    "        score50 = len([ e for e in data['taux de reussite (%)'] if((e < 60) & (e >= 50))])\n",
    "        score0  = len([ e for e in data['taux de reussite (%)'] if((e < 50))])\n",
    "        l = [score80,score60,score50,score0]\n",
    "        plt.figure(figsize = (10, 6), layout='constrained')\n",
    "        plt.pie(l, labels = ['Taux de reussite sup_80','Taux de reussite [60,80]','Taux de reussite [50,60]',\n",
    "                             'Taux de reussite [0,50]'],autopct='%1.2f%%')\n",
    "  \n",
    "\n",
    "\n",
    "    def top_data(df,df1):\n",
    "        \"\"\"Les differents travails\"\"\"\n",
    "        import pandas as pd\n",
    "        effectif_par_modul = df1.groupby(['object_id']).actor.nunique()\n",
    "        score_max = df1.groupby(['object_id']).score.max()\n",
    "        score_min = df1.groupby(['object_id']).score.min()\n",
    "        nb_t_de_session = df1.groupby(['object_id']).session_uuid.nunique()\n",
    "        dfr = pd.DataFrame(effectif_par_modul)\n",
    "        dfr['nb de session']=nb_t_de_session\n",
    "        dfr['score min']=score_min\n",
    "        dfr['score max']=score_max\n",
    "        nb_score_50 = df1[df1['score'] >= 50]\n",
    "        nb_adm = nb_score_50.groupby(['object_id','actor']).score.max()\n",
    "        nb_admis = nb_adm.groupby(['object_id']).count()\n",
    "        dfr['Nombre admis'] = nb_admis\n",
    "        dfr['Nombre admis'] = dfr['Nombre admis'].fillna(0)\n",
    "        taux_de_reussite = (dfr['Nombre admis']/dfr['actor'])*100\n",
    "        dfr['taux de reussite (%)'] = taux_de_reussite\n",
    "        dfr1 = dfr.sort_values(by=['taux de reussite (%)'],ascending=False)      #Tous les top par ordre d’excelence\n",
    "        top_dfr = dfr1.head(10)                                                 # les 10 top des mdules\n",
    "        print(\"Voilà les données des 10 tops modules\")\n",
    "        print(top_dfr)\n",
    "        oui = input(\"Voulez-vous avoir un tableau numpy de ces données ? (Oui/Non) :\")\n",
    "        if oui == 'Oui' or oui =='oui':\n",
    "            tableau_top_10 = top_dfr.to_numpy()\n",
    "            print(tableau_top_10)\n",
    "        else :\n",
    "            print(\"Merci !\")\n",
    "        ok = input(\"Voulez-vous avoir des information sur les données de un des top 10 ? (Oui/Non) :\")\n",
    "        if ok == 'Oui' or ok == 'oui':\n",
    "            print(\"Choisir 1 pour le top 1 \\n\")\n",
    "            print(\"Choisir 2 pour le top 2 \\n\")\n",
    "            print(\"Choisir i pour le top i 1 <= i <= 10 \\n\")\n",
    "            print(\"Choisir 10 pour le top 10 \\n\")\n",
    "            try :\n",
    "                info_top = int(input(\"Donnez votre choix :\"))\n",
    "            except :\n",
    "                print(\"Un entier s’il vous plait \\n\")\n",
    "                info_top = int(input(\"Donnez votre choix :\")) \n",
    "            top_1_info = df.loc[(df['object_id'] == top_dfr.index[info_top-1]),:]\n",
    "            nb_session = top_1_info.groupby(['actor']).session_uuid.count()\n",
    "            le_temps = top_1_info.groupby(['actor']).temps.sum()\n",
    "            le_score = top_1_info.groupby(['actor']).score.max()\n",
    "            resultatT1 = pd.DataFrame({'Nobre de session':nb_session})\n",
    "            resultatT1['Le temps'] = le_temps\n",
    "            resultatT1['Le score'] = le_score\n",
    "            resultatT1['Admis'] = 0\n",
    "            resultatT1.loc[resultatT1['Le score'] >= 50,'Admis'] = 1\n",
    "            print(resultatT1)                                                  # information sur un top module\n",
    "        else :\n",
    "            print(\"Merci !\")\n",
    "        bon = input(\"Voulez-vous avoir des information sur les données du top module dernier ? (Oui/Non) :\")\n",
    "        if bon == 'Oui' or bon =='oui':\n",
    "            top_dernier_info = df.loc[(df['object_id'] == dfr1.index[-1]),:]\n",
    "            nb_session0 = top_dernier_info.groupby(['actor']).session_uuid.count()\n",
    "            le_temps0 = top_dernier_info.groupby(['actor']).temps.sum()\n",
    "            le_score0 = top_dernier_info.groupby(['actor']).score.max()\n",
    "            resultatDernier = pd.DataFrame({'Nobre de session':nb_session0})\n",
    "            resultatDernier['Le temps'] = le_temps0\n",
    "            resultatDernier['Le score'] = le_score0\n",
    "            resultatDernier['Admis'] = 0\n",
    "            resultatDernier.loc[resultatDernier['Le score'] >= 50,'Admis'] = 1\n",
    "            print(resultatDernier)                                              # information sur le top module dernier\n",
    "        else :\n",
    "            print(\"Merci !\")\n",
    "        liste = list(top_dfr.index)\n",
    "        courbe = input(\"Voulez-vous une courbe des données du data en fonction du temps et du scores ? (Oui/Non) :\")\n",
    "        if courbe == 'Oui' or courbe =='oui':\n",
    "            df2 = df1.set_index('object_id')\n",
    "            AnalyseData.Courbe(df2,liste)                                    # la courbe des données\n",
    "        else :\n",
    "             print(\"Merci !\")\n",
    "        baton = input(\"Voulez-vous Un diagramme en bâton avec le taux de réussite de chaque module ? (Oui/Non) :\")\n",
    "        if baton == 'Oui' or baton =='oui':\n",
    "            AnalyseData.Batton(top_dfr)                                       # Le diagramme en baton de 10 top premier\n",
    "        else :\n",
    "            print(\"Merci ! \")\n",
    "        listeT3 = list(top_dfr[:3].index)\n",
    "        courbe3 = input(\"Voulez-vous Une courbe de 3 premier top module ? (Oui/Non) :\")\n",
    "        if courbe3 == 'Oui' or courbe3 =='oui':\n",
    "            AnalyseData.Courbe_top3(df2,listeT3)                              # Courbe de 3 premiers top\n",
    "        else :\n",
    "            print(\"Merci !\")\n",
    "        listeModule = list(dfr1.index)\n",
    "        nuage = input(\"Voulez-vous le graphe de nuage des points de tous les module ? (Oui/Non) :\")\n",
    "        if nuage == 'Oui' or nuage =='oui':\n",
    "            AnalyseData.NuagePoint(df2,listeModule)                          # le nuage des points de tous les modules\n",
    "        else :\n",
    "            print(\"Merci !\")\n",
    "        secteur = input(\"Voulez-vous Un camembert avec le taux des modules catégorisés en quatre classes  ? (Oui/Non) :\")\n",
    "        if secteur == 'Oui' or secteur =='oui':\n",
    "            AnalyseData.Secteur(dfr)\n",
    "        else :\n",
    "            print(\"Merci !\")\n",
    "\n",
    "\n",
    " \n",
    "    def fonction_analyseData():\n",
    "        print(\"Salut ! Je suis là pour vous facilité votre travail \\n\")\n",
    "        chemin = str(input(print(\"Donnée le chemin complet de votre data(Votre fichier csv) : \\n\")))\n",
    "        import pandas as pd\n",
    "        try :\n",
    "            df = pd.read_csv(chemin,sep = ';')\n",
    "        except :\n",
    "            df = pd.read_csv(chemin,sep = ',')\n",
    "        df1 = df[['object_id','actor','session_uuid','score','temps']]\n",
    "        df2 = df1.set_index('object_id')\n",
    "        print(\"Que voullez-vous savoir de ce données ? :\\n\")\n",
    "        print(\"1 pour afficher le deux premiere lignes du data :\\n\")\n",
    "        print(\"2 Pour une analyse des données du tableau :\\n\")\n",
    "        try:\n",
    "            choix = int(input(\"Donnez votre choix : \"))\n",
    "        except :\n",
    "            choix = int(input(\"Donnez votre choix : \"))\n",
    "        print()\n",
    "        if choix == 1:\n",
    "            print(df[:2])\n",
    "        elif choix == 2:\n",
    "            AnalyseData.top_data(df,df1)\n",
    "        #elif choix == 2:\n",
    "         #   AnalyseData.top1_info(df,)\n",
    "            "
   ]
  },
  {
   "cell_type": "code",
   "execution_count": 50,
   "id": "3b47a2ea",
   "metadata": {},
   "outputs": [],
   "source": [
    "#AnalyseData.fonction_analyseData()"
   ]
  }
 ],
 "metadata": {
  "kernelspec": {
   "display_name": "Python 3 (ipykernel)",
   "language": "python",
   "name": "python3"
  },
  "language_info": {
   "codemirror_mode": {
    "name": "ipython",
    "version": 3
   },
   "file_extension": ".py",
   "mimetype": "text/x-python",
   "name": "python",
   "nbconvert_exporter": "python",
   "pygments_lexer": "ipython3",
   "version": "3.9.13"
  }
 },
 "nbformat": 4,
 "nbformat_minor": 5
}
