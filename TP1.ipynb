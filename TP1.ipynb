{
 "cells": [
  {
   "cell_type": "markdown",
   "id": "f00cc429",
   "metadata": {},
   "source": [
    "# TP1: Fondements du Langage Python"
   ]
  },
  {
   "cell_type": "markdown",
   "id": "962b3924",
   "metadata": {},
   "source": [
    "### Exercice 1 :\n",
    "Soient les fonctions f et g :\n",
    "f(x) = x/(x^2+1)\n",
    "g(x) = arctan(x)\n",
    "\n",
    "Considérons N un entier naturel et L une liste d’entiers relatifs, tel que:\n",
    "L = [-N, -(N-1), -(N-2), … , 0, 1, 2, …, N]\n",
    "\n",
    "R = ∑(f(x) – g(x))^2, x ϵ L\n",
    "\n",
    "Ecrire un programme, en deux versions, permettant de calculer R sur L en fonction d’un N quelconque : procédurale et orienté Objet\n"
   ]
  },
  {
   "cell_type": "code",
   "execution_count": 1,
   "id": "e5ef1381",
   "metadata": {},
   "outputs": [],
   "source": [
    "def f(x):\n",
    "    \"\"\"Definition de la fonction f definie par f(x) = x/(x^2 +1)\"\"\"\n",
    "    return (x/(x**2 +1))"
   ]
  },
  {
   "cell_type": "code",
   "execution_count": 2,
   "id": "541366be",
   "metadata": {},
   "outputs": [],
   "source": [
    "# importationde la fonction arctangente\n",
    "from math import atan"
   ]
  },
  {
   "cell_type": "code",
   "execution_count": 3,
   "id": "d8222acd",
   "metadata": {},
   "outputs": [],
   "source": [
    "def g(x):\n",
    "    \"\"\"Definition de la fonction f definie par f(x)\"\"\"\n",
    "    return atan(x)"
   ]
  },
  {
   "cell_type": "code",
   "execution_count": 4,
   "id": "5a659dd4",
   "metadata": {},
   "outputs": [
    {
     "data": {
      "text/plain": [
       "1.1071487177940904"
      ]
     },
     "execution_count": 4,
     "metadata": {},
     "output_type": "execute_result"
    }
   ],
   "source": [
    "g(2)"
   ]
  },
  {
   "cell_type": "code",
   "execution_count": 5,
   "id": "8fd78934",
   "metadata": {},
   "outputs": [],
   "source": [
    "def creer_liste_L(N):\n",
    "    if N < 0 :\n",
    "        print(\"La valeur doit etre positive\")\n",
    "    else :\n",
    "        return list(range(-N,N+1))"
   ]
  },
  {
   "cell_type": "code",
   "execution_count": 6,
   "id": "8566fada",
   "metadata": {},
   "outputs": [
    {
     "data": {
      "text/plain": [
       "[-4, -3, -2, -1, 0, 1, 2, 3, 4]"
      ]
     },
     "execution_count": 6,
     "metadata": {},
     "output_type": "execute_result"
    }
   ],
   "source": [
    "creer_liste_L(4)"
   ]
  },
  {
   "cell_type": "code",
   "execution_count": 7,
   "id": "fcc59a3f",
   "metadata": {},
   "outputs": [
    {
     "data": {
      "text/plain": [
       "[-5, -4, -3, -2, -1, 0, 1, 2, 3, 4, 5]"
      ]
     },
     "execution_count": 7,
     "metadata": {},
     "output_type": "execute_result"
    }
   ],
   "source": [
    "creer_liste_L(5)"
   ]
  },
  {
   "cell_type": "code",
   "execution_count": 8,
   "id": "ea3ce11c",
   "metadata": {},
   "outputs": [],
   "source": [
    "\n",
    "def fonction_R(L):\n",
    "    \"\"\"Definition de la fonction fonction_R definie par fonction_R() = ∑(f(x) – g(x))^2, x ϵ L,\n",
    "    la fonction_R affiche la liste L et la somme R\"\"\"\n",
    "\n",
    "    print(f\" La liste : {L}\")\n",
    "    print(f\" La somme R vaut : {sum([((f(i)-g(i))**2) for i in L])} \")\n",
    "        "
   ]
  },
  {
   "cell_type": "code",
   "execution_count": 9,
   "id": "3dd90554",
   "metadata": {},
   "outputs": [
    {
     "name": "stdout",
     "output_type": "stream",
     "text": [
      " La liste : [-5, -4, -3, -2, -1, 0, 1, 2, 3, 4, 5]\n",
      " La somme R vaut : 8.132843508475734 \n"
     ]
    }
   ],
   "source": [
    "fonction_R(creer_liste_L(5))"
   ]
  },
  {
   "cell_type": "code",
   "execution_count": 11,
   "id": "ec65a5cb",
   "metadata": {},
   "outputs": [],
   "source": [
    "from math import atan\n",
    "class Exo1:  # Definition de la class Exo1\n",
    "    \n",
    "    \n",
    "    def fonction_f(x):\n",
    "        return (x/(x**2 +1))\n",
    "\n",
    "    \n",
    "    def fonction_g(x):\n",
    "        return atan(x)\n",
    "    \n",
    "    \n",
    "    def creer_liste_L(N):\n",
    "        if N < 0 :\n",
    "            print(\"La valeur doit etre positive\")\n",
    "        else :\n",
    "            return list(range(-N,N+1))\n",
    "    \n",
    "    \n",
    "    def fonction_R(L):\n",
    "        \"\"\"Definition de la fonction fonction_R definie par fonction_R() = ∑(f(x) – g(x))^2, x ϵ L,\n",
    "        la fonction_R affiche la liste L et la somme R\"\"\"\n",
    "    \n",
    "\n",
    "        if L == [] :\n",
    "            print(\"La liste doit être non vide\")\n",
    "        else :\n",
    "            print(f\" La liste : {L}\")\n",
    "            print(f\" La somme R vaut : {sum([((f(i)-g(i))**2) for i in L])} \")"
   ]
  },
  {
   "cell_type": "code",
   "execution_count": 12,
   "id": "e4c3f86a",
   "metadata": {},
   "outputs": [
    {
     "data": {
      "text/plain": [
       "[-7, -6, -5, -4, -3, -2, -1, 0, 1, 2, 3, 4, 5, 6, 7]"
      ]
     },
     "execution_count": 12,
     "metadata": {},
     "output_type": "execute_result"
    }
   ],
   "source": [
    "Exo1.creer_liste_L(7)"
   ]
  },
  {
   "cell_type": "code",
   "execution_count": 13,
   "id": "10a8f651",
   "metadata": {},
   "outputs": [],
   "source": [
    "L = Exo1.creer_liste_L(4)"
   ]
  },
  {
   "cell_type": "code",
   "execution_count": 14,
   "id": "503cd026",
   "metadata": {},
   "outputs": [
    {
     "name": "stdout",
     "output_type": "stream",
     "text": [
      " La liste : [-4, -3, -2, -1, 0, 1, 2, 3, 4]\n",
      " La somme R vaut : 5.34288180656324 \n"
     ]
    }
   ],
   "source": [
    "Exo1.fonction_R(L)"
   ]
  },
  {
   "cell_type": "code",
   "execution_count": 15,
   "id": "017d0908",
   "metadata": {},
   "outputs": [
    {
     "name": "stdout",
     "output_type": "stream",
     "text": [
      " La liste : [0, 1, 2, 3]\n",
      " La somme R vaut : 1.4821992988554618 \n"
     ]
    }
   ],
   "source": [
    "Exo1.fonction_R(list(range(4)))"
   ]
  },
  {
   "cell_type": "markdown",
   "id": "b20c0809",
   "metadata": {},
   "source": [
    "## Exercice 2 :\n",
    "\n",
    "Soit D, une liste composée de n listes de même taille S.\n",
    "Considérons, f(x) = x^ 3 + 3x^2 – 5.\n",
    "    \n",
    "    - Créer D avec des valeurs aléatoires\n",
    "    - Déterminer le min et le max de chacune des listes composants D (sans utiliser de librairies)\n",
    "    - Trouver le min global et le max global de D\n",
    "    - Calculer D’ = f(D), c’est-à-dire f appliquée à tous les éléments de D\n",
    "    - Regrouper tous ces traitements dans une seule classe DataTrans\n"
   ]
  },
  {
   "cell_type": "code",
   "execution_count": 16,
   "id": "8186fd1a",
   "metadata": {},
   "outputs": [],
   "source": [
    "def f(x):\n",
    "        return ((x**3) + 3*(x**2) - 5)\n"
   ]
  },
  {
   "cell_type": "code",
   "execution_count": 17,
   "id": "f5e3e2fb",
   "metadata": {},
   "outputs": [],
   "source": [
    "\n",
    "from random import randint\n",
    "def liste_Alea(s):\n",
    "    \"\"\"Cette fonction liste_Alea() permet de retourner une liste contenant s valeur aléatoire à chaque fois que l’on veut\"\"\"\n",
    "    liste = []\n",
    "    for i in range(s):\n",
    "            liste.append(randint(0,100))\n",
    "    return liste\n",
    "        "
   ]
  },
  {
   "cell_type": "code",
   "execution_count": 18,
   "id": "c9c1e90f",
   "metadata": {},
   "outputs": [
    {
     "data": {
      "text/plain": [
       "[8, 15, 88, 84]"
      ]
     },
     "execution_count": 18,
     "metadata": {},
     "output_type": "execute_result"
    }
   ],
   "source": [
    "liste_Alea(4)"
   ]
  },
  {
   "cell_type": "code",
   "execution_count": 19,
   "id": "e697d949",
   "metadata": {},
   "outputs": [],
   "source": [
    "def D(n,s):\n",
    "    \"\"\"La fonction D qui retoune une liste de n sous liste\"\"\"\n",
    "    seq =[]\n",
    "    for e in range(n):\n",
    "        seq.append(liste_Alea(s))\n",
    "    return seq"
   ]
  },
  {
   "cell_type": "code",
   "execution_count": 20,
   "id": "50a9dc2a",
   "metadata": {},
   "outputs": [
    {
     "data": {
      "text/plain": [
       "[[15, 52, 35], [43, 38, 38], [74, 98, 12], [37, 33, 78]]"
      ]
     },
     "execution_count": 20,
     "metadata": {},
     "output_type": "execute_result"
    }
   ],
   "source": [
    "D(4,3)"
   ]
  },
  {
   "cell_type": "code",
   "execution_count": 21,
   "id": "8ffe8601",
   "metadata": {},
   "outputs": [],
   "source": [
    "def mini(x):\n",
    "    \"\"\"Cette fonction mini retourne le minimum d’une liste quelconque prise comme paramètre x\"\"\"\n",
    "    minn = x[0]\n",
    "    for i in x[1:]:\n",
    "        if i<minn:\n",
    "            minn=i\n",
    "    return minn"
   ]
  },
  {
   "cell_type": "code",
   "execution_count": 22,
   "id": "4670853e",
   "metadata": {},
   "outputs": [
    {
     "data": {
      "text/plain": [
       "-43"
      ]
     },
     "execution_count": 22,
     "metadata": {},
     "output_type": "execute_result"
    }
   ],
   "source": [
    "mini([23,32,44,9,32,11,-43,0])"
   ]
  },
  {
   "cell_type": "code",
   "execution_count": 23,
   "id": "8b6baf48",
   "metadata": {},
   "outputs": [],
   "source": [
    "def maxi(x):\n",
    "    maxx = x[0]\n",
    "    for i in x[1:]:\n",
    "        if i>maxx:\n",
    "            maxx=i\n",
    "    return maxx\n"
   ]
  },
  {
   "cell_type": "code",
   "execution_count": 24,
   "id": "05769755",
   "metadata": {},
   "outputs": [
    {
     "data": {
      "text/plain": [
       "993"
      ]
     },
     "execution_count": 24,
     "metadata": {},
     "output_type": "execute_result"
    }
   ],
   "source": [
    "maxi([23,32,44,5,32,11,993,12])"
   ]
  },
  {
   "cell_type": "code",
   "execution_count": 25,
   "id": "e494099d",
   "metadata": {},
   "outputs": [],
   "source": [
    "def MinEtMax(liste):\n",
    "    \"\"\"Cette fonction permet d’afficher la liste saisi et de determiner\n",
    "    le minimun et le maximum des sous-liste de la liste \n",
    "    et aussi d’afficher le minimum global et le maximum global de la liste\"\"\"\n",
    "    k = []\n",
    "    l = []\n",
    "    print(f\"Voila la liste : {liste} \\n\")\n",
    "    for i in liste:\n",
    "        k.append(mini(i))\n",
    "        l.append(maxi(i))\n",
    "    print(f\"Min_sous_liste {k} Max_sous_liste {l} \\n \")\n",
    "    print(f\"Min Global : {mini(k)}  Max Global : {maxi(l)}\")\n",
    "\n"
   ]
  },
  {
   "cell_type": "code",
   "execution_count": 26,
   "id": "289b296b",
   "metadata": {},
   "outputs": [
    {
     "data": {
      "text/plain": [
       "[[30, 50], [28, 15], [35, 99], [22, 15]]"
      ]
     },
     "execution_count": 26,
     "metadata": {},
     "output_type": "execute_result"
    }
   ],
   "source": [
    "d = D(4,2)\n",
    "d"
   ]
  },
  {
   "cell_type": "code",
   "execution_count": 27,
   "id": "9d95046a",
   "metadata": {},
   "outputs": [
    {
     "name": "stdout",
     "output_type": "stream",
     "text": [
      "Voila la liste : [[30, 50], [28, 15], [35, 99], [22, 15]] \n",
      "\n",
      "Min_sous_liste [30, 15, 35, 15] Max_sous_liste [50, 28, 99, 22] \n",
      " \n",
      "Min Global : 15  Max Global : 99\n"
     ]
    }
   ],
   "source": [
    "MinEtMax(d)"
   ]
  },
  {
   "cell_type": "code",
   "execution_count": 28,
   "id": "cbc8f0c9",
   "metadata": {},
   "outputs": [],
   "source": [
    "def image_liste_par_f(x):\n",
    "    \"\"\"Cette fonction calcule l’image de chaque élément par la fonction f, d’une liste donnée en paramètre\n",
    "    et les mettre dans une liste \"\"\"\n",
    "    resultat = []\n",
    "    for i in x:\n",
    "        resultat.append(f(i))\n",
    "    return resultat"
   ]
  },
  {
   "cell_type": "code",
   "execution_count": 29,
   "id": "07c9b278",
   "metadata": {},
   "outputs": [
    {
     "data": {
      "text/plain": [
       "[13749, 35835, 90987, 195, 35835, 1689]"
      ]
     },
     "execution_count": 29,
     "metadata": {},
     "output_type": "execute_result"
    }
   ],
   "source": [
    "image_liste_par_f([23,32,44,5,32,11])"
   ]
  },
  {
   "cell_type": "code",
   "execution_count": 30,
   "id": "04f3d6cf",
   "metadata": {},
   "outputs": [],
   "source": [
    "from random import randint\n",
    "class DataTrans :\n",
    "   \n",
    "    def f(x):\n",
    "        return ((x**3) + 3*(x**2) - 5)\n",
    "\n",
    "\n",
    "   \n",
    "    def liste_Alea(s):\n",
    "        \"\"\"Cette fonction liste_Alea() permet de retourner une liste contenant s valeur aléatoire \"\"\"\n",
    "        return [randint(0, 100) for i in range(s)]\n",
    "\n",
    "    \n",
    "    \n",
    "    def D(n,s):\n",
    "        \"\"\"La fonction D qui retoune une liste de n sous liste\"\"\"\n",
    "        return [DataTrans.liste_Alea(s) for i in range(n)]\n",
    "    \n",
    "    \n",
    "\n",
    "    def mini(x):\n",
    "        minn = x[0]\n",
    "        for i in x[1:]:\n",
    "            if i<minn:\n",
    "                minn=i\n",
    "        return minn\n",
    "\n",
    "\n",
    "    def maxi(x):\n",
    "        maxx = x[0]\n",
    "        for i in x[1:]:\n",
    "            if i>maxx:\n",
    "                maxx=i\n",
    "        return maxx\n",
    "\n",
    "\n",
    "    def MinEtMax(liste):\n",
    "        \"\"\"Cette fonction permet d’afficher la liste saisi et de determiner\n",
    "        le minimun et le maximum des sous-liste de la liste \n",
    "        et aussi d’afficher le minimum global et le maximum global de la liste\"\"\"\n",
    "        k = []\n",
    "        l = []\n",
    "        print(f\"Voila la liste : {liste} \\n\")\n",
    "        for i in liste:\n",
    "            k.append(DataTrans.mini(i))\n",
    "            l.append(DataTrans.maxi(i))\n",
    "        print(f\"Min_sous_liste {k} Max_sous_liste {l} \\n \")\n",
    "        print(f\"Min Global : {DataTrans.mini(k)}  Max Global : {DataTrans.maxi(l)}\")\n",
    "\n",
    "    \n",
    "    \n",
    "    def image_liste_par_f(x):\n",
    "        \"\"\"Cette fonction calcule l’image de chaque élément par la fonction f, d’une liste donnée en paramètre\n",
    "        et les mettre dans une liste \"\"\"\n",
    "        return [DataTrans.f(i) for i in x]\n",
    "\n",
    "    \n",
    "    \n",
    "\n",
    "\n",
    "    def DPrim(x):\n",
    "        if type(x[0]) is not list :\n",
    "            return print(\"La liste doit etre une liste de liste \")\n",
    "        else:\n",
    "            return [DataTrans.image_liste_par_f(i) for i in x]"
   ]
  },
  {
   "cell_type": "code",
   "execution_count": 31,
   "id": "b1f0a25f",
   "metadata": {},
   "outputs": [
    {
     "data": {
      "text/plain": [
       "[[23, 51, 67, 2, 22],\n",
       " [98, 74, 48, 17, 75],\n",
       " [65, 17, 35, 64, 83],\n",
       " [71, 58, 63, 54, 49]]"
      ]
     },
     "execution_count": 31,
     "metadata": {},
     "output_type": "execute_result"
    }
   ],
   "source": [
    "DataTrans.D(4,5)"
   ]
  },
  {
   "cell_type": "code",
   "execution_count": 32,
   "id": "1d808b41",
   "metadata": {},
   "outputs": [
    {
     "data": {
      "text/plain": [
       "[[49, 15, 107, 195, 35835, -5],\n",
       " [249855, 42767, 42767, 474315, -5],\n",
       " [195, 15547, 658239, 357695, 314225],\n",
       " [107, 2699, 175445, 5775, 1295],\n",
       " [1029995, 42767, 15547, 912379, 531195]]"
      ]
     },
     "execution_count": 32,
     "metadata": {},
     "output_type": "execute_result"
    }
   ],
   "source": [
    "DataTrans.DPrim([[3,2,4,5,32,0],[62, 34, 34, 77, 0],[5, 24, 86, 70, 67],[4, 13, 55, 17, 10],[100, 34, 24, 96, 80]])"
   ]
  },
  {
   "cell_type": "code",
   "execution_count": 34,
   "id": "00f1b6ab",
   "metadata": {},
   "outputs": [
    {
     "name": "stdout",
     "output_type": "stream",
     "text": [
      "La liste doit etre une liste de liste \n"
     ]
    }
   ],
   "source": [
    "DataTrans.DPrim([2,31,2])"
   ]
  },
  {
   "cell_type": "code",
   "execution_count": 36,
   "id": "f575c63a",
   "metadata": {},
   "outputs": [
    {
     "data": {
      "text/plain": [
       "[[15, -1, 39199, 10579], [49, 81181435, 2155, 49]]"
      ]
     },
     "execution_count": 36,
     "metadata": {},
     "output_type": "execute_result"
    }
   ],
   "source": [
    "DataTrans.DPrim([[2,1,33,21],[3,432,12,3]])"
   ]
  },
  {
   "cell_type": "markdown",
   "id": "dc9fc646",
   "metadata": {},
   "source": [
    "## Exercice 3 :\n",
    "Transformer les programmes de l’exercice 1 et 2 en une application console pour :\n",
    "\n",
    "    - Demander les données d’entrées\n",
    "    - Donner le choix à l’utilisateur d’exécuter une tâche spécifique\n",
    "    - Gérer les cas d’exception\n",
    "    - Après son démarrage l’application reste en exécution jusqu’à ce que l’utilisateur décide de le quitter\n"
   ]
  },
  {
   "cell_type": "markdown",
   "id": "4bde32d9",
   "metadata": {},
   "source": [
    "## Exercice 4 :\n",
    "Soit L une liste de réels de taille S = 100.\n",
    "\n",
    "    - Générer aléatoirement les valeurs de L\n",
    "    - Calculer : la moyenne, la médiane, la variance et l’écart type.\n"
   ]
  },
  {
   "cell_type": "code",
   "execution_count": 37,
   "id": "fed5a374",
   "metadata": {},
   "outputs": [],
   "source": [
    "from random import randint\n",
    "def L(n):\n",
    "    l = []\n",
    "    for e in range(0,100):\n",
    "        l.append(randint(0,n))\n",
    "    return l"
   ]
  },
  {
   "cell_type": "code",
   "execution_count": 38,
   "id": "5a3af12b",
   "metadata": {},
   "outputs": [],
   "source": [
    "p = L(200)"
   ]
  },
  {
   "cell_type": "code",
   "execution_count": 39,
   "id": "44e6f0ba",
   "metadata": {},
   "outputs": [],
   "source": [
    "from numpy import var,mean,median,std"
   ]
  },
  {
   "cell_type": "code",
   "execution_count": 40,
   "id": "9eb4be4e",
   "metadata": {},
   "outputs": [
    {
     "data": {
      "text/plain": [
       "3758.0874999999996"
      ]
     },
     "execution_count": 40,
     "metadata": {},
     "output_type": "execute_result"
    }
   ],
   "source": [
    "var(p)"
   ]
  },
  {
   "cell_type": "code",
   "execution_count": 41,
   "id": "c7d0ec0c",
   "metadata": {},
   "outputs": [
    {
     "data": {
      "text/plain": [
       "106.65"
      ]
     },
     "execution_count": 41,
     "metadata": {},
     "output_type": "execute_result"
    }
   ],
   "source": [
    "mean(p)"
   ]
  },
  {
   "cell_type": "code",
   "execution_count": 42,
   "id": "c8949d0f",
   "metadata": {},
   "outputs": [
    {
     "data": {
      "text/plain": [
       "108.5"
      ]
     },
     "execution_count": 42,
     "metadata": {},
     "output_type": "execute_result"
    }
   ],
   "source": [
    "median(p)"
   ]
  },
  {
   "cell_type": "code",
   "execution_count": 43,
   "id": "c420581c",
   "metadata": {},
   "outputs": [
    {
     "data": {
      "text/plain": [
       "61.3032421654842"
      ]
     },
     "execution_count": 43,
     "metadata": {},
     "output_type": "execute_result"
    }
   ],
   "source": [
    "std(p)"
   ]
  },
  {
   "cell_type": "code",
   "execution_count": null,
   "id": "126eefd3",
   "metadata": {},
   "outputs": [],
   "source": [
    "# oui"
   ]
  }
 ],
 "metadata": {
  "kernelspec": {
   "display_name": "Python 3 (ipykernel)",
   "language": "python",
   "name": "python3"
  },
  "language_info": {
   "codemirror_mode": {
    "name": "ipython",
    "version": 3
   },
   "file_extension": ".py",
   "mimetype": "text/x-python",
   "name": "python",
   "nbconvert_exporter": "python",
   "pygments_lexer": "ipython3",
   "version": "3.9.13"
  }
 },
 "nbformat": 4,
 "nbformat_minor": 5
}
