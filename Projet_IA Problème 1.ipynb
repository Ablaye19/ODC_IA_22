{
 "cells": [
  {
   "cell_type": "markdown",
   "id": "551919e4-2331-4a65-ae89-ddb47af6c135",
   "metadata": {},
   "source": [
    "## <p style=\"background-color:#709699;font-family:newtimeroman;color:#FFF9ED;font-size:120%;text-align:center;border-radius:10px 10px;\">Information sur le dataset</p>\n",
    "\n",
    "Le but de cette analyse est de fournir une méthode d'identification précoce des élèves à risque d'échec. Ceci est vital pour toutes les plateformes d'apprentissage, en particulier celles en ligne. Les données utilisées sont le jeu de données Open University Learning Analytics (OULAD).\n",
    "\n",
    "Pour les information detaillé <a href=\"https://analyse.kmi.open.ac.uk/open_dataset#about\">data info</a>"
   ]
  },
  {
   "cell_type": "markdown",
   "id": "8b0f2c91-461b-4e55-a772-f055565ba134",
   "metadata": {},
   "source": [
    "## <p style=\"background-color:#709699;font-family:newtimeroman;color:#FFF9ED;font-size:120%;text-align:center;border-radius:10px 10px;\">IMPORTATION DES PACKAGES</p>"
   ]
  },
  {
   "cell_type": "code",
   "execution_count": 1,
   "id": "b5d93d30-bc02-4008-aea5-4ed1cd5c875a",
   "metadata": {},
   "outputs": [],
   "source": [
    "import pandas as pd\n",
    "import numpy as np\n",
    "import os\n",
    "import matplotlib.pyplot as plt\n",
    "import seaborn as sns\n",
    "from scipy.stats import spearmanr\n",
    "from scipy.cluster import hierarchy\n",
    "from collections import defaultdict\n",
    "from sklearn.preprocessing import LabelEncoder\n",
    "from sklearn.model_selection import KFold\n",
    "from sklearn.ensemble import RandomForestClassifier\n",
    "from sklearn.linear_model import LogisticRegression\n",
    "from sklearn.metrics import accuracy_score, confusion_matrix, ConfusionMatrixDisplay\n",
    "from sklearn.model_selection import train_test_split"
   ]
  },
  {
   "cell_type": "markdown",
   "id": "8b0819be-4620-4762-a1a4-93e5dee02dc5",
   "metadata": {},
   "source": [
    "## Chargement "
   ]
  },
  {
   "cell_type": "code",
   "execution_count": 2,
   "id": "7d3a4c13-9ea3-46a1-beed-5d528b7072b1",
   "metadata": {},
   "outputs": [],
   "source": [
    "csv_path = 'anonymisedData/'\n",
    "data_dicts = {csv_name[:-4]: pd.read_csv(csv_path+csv_name) for csv_name in os.listdir(csv_path)}"
   ]
  },
  {
   "cell_type": "markdown",
   "id": "4a71995d-e230-463d-8d83-64e7659af6e0",
   "metadata": {},
   "source": [
    "## <p style=\"background-color:#709699;font-family:newtimeroman;color:#FFF9ED;font-size:120%;text-align:center;border-radius:10px 10px;\">EXPLORATION DES DONNEES</p>"
   ]
  },
  {
   "cell_type": "markdown",
   "id": "1aa83529-7c41-4e95-9d7c-ff8631b6e6a0",
   "metadata": {},
   "source": [
    "### courses.csv"
   ]
  },
  {
   "cell_type": "code",
   "execution_count": 3,
   "id": "4f0ebbc2-5e55-42cb-a76e-b33bc80dc4aa",
   "metadata": {},
   "outputs": [
    {
     "data": {
      "text/html": [
       "<div>\n",
       "<style scoped>\n",
       "    .dataframe tbody tr th:only-of-type {\n",
       "        vertical-align: middle;\n",
       "    }\n",
       "\n",
       "    .dataframe tbody tr th {\n",
       "        vertical-align: top;\n",
       "    }\n",
       "\n",
       "    .dataframe thead tr th {\n",
       "        text-align: left;\n",
       "    }\n",
       "\n",
       "    .dataframe thead tr:last-of-type th {\n",
       "        text-align: right;\n",
       "    }\n",
       "</style>\n",
       "<table border=\"1\" class=\"dataframe\">\n",
       "  <thead>\n",
       "    <tr>\n",
       "      <th></th>\n",
       "      <th></th>\n",
       "      <th colspan=\"2\" halign=\"left\">module_presentation_length</th>\n",
       "    </tr>\n",
       "    <tr>\n",
       "      <th></th>\n",
       "      <th></th>\n",
       "      <th>min</th>\n",
       "      <th>max</th>\n",
       "    </tr>\n",
       "    <tr>\n",
       "      <th>code_module</th>\n",
       "      <th>code_presentation</th>\n",
       "      <th></th>\n",
       "      <th></th>\n",
       "    </tr>\n",
       "  </thead>\n",
       "  <tbody>\n",
       "    <tr>\n",
       "      <th rowspan=\"2\" valign=\"top\">AAA</th>\n",
       "      <th>2013J</th>\n",
       "      <td>268</td>\n",
       "      <td>268</td>\n",
       "    </tr>\n",
       "    <tr>\n",
       "      <th>2014J</th>\n",
       "      <td>269</td>\n",
       "      <td>269</td>\n",
       "    </tr>\n",
       "    <tr>\n",
       "      <th rowspan=\"4\" valign=\"top\">BBB</th>\n",
       "      <th>2013B</th>\n",
       "      <td>240</td>\n",
       "      <td>240</td>\n",
       "    </tr>\n",
       "    <tr>\n",
       "      <th>2013J</th>\n",
       "      <td>268</td>\n",
       "      <td>268</td>\n",
       "    </tr>\n",
       "    <tr>\n",
       "      <th>2014B</th>\n",
       "      <td>234</td>\n",
       "      <td>234</td>\n",
       "    </tr>\n",
       "    <tr>\n",
       "      <th>2014J</th>\n",
       "      <td>262</td>\n",
       "      <td>262</td>\n",
       "    </tr>\n",
       "    <tr>\n",
       "      <th rowspan=\"2\" valign=\"top\">CCC</th>\n",
       "      <th>2014B</th>\n",
       "      <td>241</td>\n",
       "      <td>241</td>\n",
       "    </tr>\n",
       "    <tr>\n",
       "      <th>2014J</th>\n",
       "      <td>269</td>\n",
       "      <td>269</td>\n",
       "    </tr>\n",
       "    <tr>\n",
       "      <th rowspan=\"4\" valign=\"top\">DDD</th>\n",
       "      <th>2013B</th>\n",
       "      <td>240</td>\n",
       "      <td>240</td>\n",
       "    </tr>\n",
       "    <tr>\n",
       "      <th>2013J</th>\n",
       "      <td>261</td>\n",
       "      <td>261</td>\n",
       "    </tr>\n",
       "    <tr>\n",
       "      <th>2014B</th>\n",
       "      <td>241</td>\n",
       "      <td>241</td>\n",
       "    </tr>\n",
       "    <tr>\n",
       "      <th>2014J</th>\n",
       "      <td>262</td>\n",
       "      <td>262</td>\n",
       "    </tr>\n",
       "    <tr>\n",
       "      <th rowspan=\"3\" valign=\"top\">EEE</th>\n",
       "      <th>2013J</th>\n",
       "      <td>268</td>\n",
       "      <td>268</td>\n",
       "    </tr>\n",
       "    <tr>\n",
       "      <th>2014B</th>\n",
       "      <td>241</td>\n",
       "      <td>241</td>\n",
       "    </tr>\n",
       "    <tr>\n",
       "      <th>2014J</th>\n",
       "      <td>269</td>\n",
       "      <td>269</td>\n",
       "    </tr>\n",
       "    <tr>\n",
       "      <th rowspan=\"4\" valign=\"top\">FFF</th>\n",
       "      <th>2013B</th>\n",
       "      <td>240</td>\n",
       "      <td>240</td>\n",
       "    </tr>\n",
       "    <tr>\n",
       "      <th>2013J</th>\n",
       "      <td>268</td>\n",
       "      <td>268</td>\n",
       "    </tr>\n",
       "    <tr>\n",
       "      <th>2014B</th>\n",
       "      <td>241</td>\n",
       "      <td>241</td>\n",
       "    </tr>\n",
       "    <tr>\n",
       "      <th>2014J</th>\n",
       "      <td>269</td>\n",
       "      <td>269</td>\n",
       "    </tr>\n",
       "    <tr>\n",
       "      <th rowspan=\"3\" valign=\"top\">GGG</th>\n",
       "      <th>2013J</th>\n",
       "      <td>261</td>\n",
       "      <td>261</td>\n",
       "    </tr>\n",
       "    <tr>\n",
       "      <th>2014B</th>\n",
       "      <td>241</td>\n",
       "      <td>241</td>\n",
       "    </tr>\n",
       "    <tr>\n",
       "      <th>2014J</th>\n",
       "      <td>269</td>\n",
       "      <td>269</td>\n",
       "    </tr>\n",
       "  </tbody>\n",
       "</table>\n",
       "</div>"
      ],
      "text/plain": [
       "                              module_presentation_length     \n",
       "                                                     min  max\n",
       "code_module code_presentation                                \n",
       "AAA         2013J                                    268  268\n",
       "            2014J                                    269  269\n",
       "BBB         2013B                                    240  240\n",
       "            2013J                                    268  268\n",
       "            2014B                                    234  234\n",
       "            2014J                                    262  262\n",
       "CCC         2014B                                    241  241\n",
       "            2014J                                    269  269\n",
       "DDD         2013B                                    240  240\n",
       "            2013J                                    261  261\n",
       "            2014B                                    241  241\n",
       "            2014J                                    262  262\n",
       "EEE         2013J                                    268  268\n",
       "            2014B                                    241  241\n",
       "            2014J                                    269  269\n",
       "FFF         2013B                                    240  240\n",
       "            2013J                                    268  268\n",
       "            2014B                                    241  241\n",
       "            2014J                                    269  269\n",
       "GGG         2013J                                    261  261\n",
       "            2014B                                    241  241\n",
       "            2014J                                    269  269"
      ]
     },
     "execution_count": 3,
     "metadata": {},
     "output_type": "execute_result"
    }
   ],
   "source": [
    "data_dicts['courses'].groupby(['code_module','code_presentation']).agg(['min','max'])"
   ]
  },
  {
   "cell_type": "markdown",
   "id": "79de44d0-e9e1-4044-82a9-adc3da7d2052",
   "metadata": {},
   "source": [
    "Selon la documentation des données, il y a 8 cours (modules) enregistrés, de A à G (AAA dans dataset, désormais abrégé en A). Il y a 2 semestres enregistrés, février (B) et octobre (J). Les semestres de février sont généralement 20 jours plus courts que ceux d'octobre. Certains cours (C,E,G) n'ont pas de données pour 2013 et 2014."
   ]
  },
  {
   "cell_type": "markdown",
   "id": "41db4965-9c65-4dc7-be70-772bcd5dd623",
   "metadata": {},
   "source": [
    "### assessments.csv"
   ]
  },
  {
   "cell_type": "code",
   "execution_count": 4,
   "id": "eb11f92d-9d5e-4351-aa11-0a6ef5970f78",
   "metadata": {},
   "outputs": [
    {
     "data": {
      "text/html": [
       "<div>\n",
       "<style scoped>\n",
       "    .dataframe tbody tr th:only-of-type {\n",
       "        vertical-align: middle;\n",
       "    }\n",
       "\n",
       "    .dataframe tbody tr th {\n",
       "        vertical-align: top;\n",
       "    }\n",
       "\n",
       "    .dataframe thead th {\n",
       "        text-align: right;\n",
       "    }\n",
       "</style>\n",
       "<table border=\"1\" class=\"dataframe\">\n",
       "  <thead>\n",
       "    <tr style=\"text-align: right;\">\n",
       "      <th></th>\n",
       "      <th></th>\n",
       "      <th></th>\n",
       "      <th>id_assessment</th>\n",
       "    </tr>\n",
       "    <tr>\n",
       "      <th>code_module</th>\n",
       "      <th>assessment_type</th>\n",
       "      <th>code_presentation</th>\n",
       "      <th></th>\n",
       "    </tr>\n",
       "  </thead>\n",
       "  <tbody>\n",
       "    <tr>\n",
       "      <th rowspan=\"4\" valign=\"top\">AAA</th>\n",
       "      <th rowspan=\"2\" valign=\"top\">Exam</th>\n",
       "      <th>2013J</th>\n",
       "      <td>1</td>\n",
       "    </tr>\n",
       "    <tr>\n",
       "      <th>2014J</th>\n",
       "      <td>1</td>\n",
       "    </tr>\n",
       "    <tr>\n",
       "      <th rowspan=\"2\" valign=\"top\">TMA</th>\n",
       "      <th>2013J</th>\n",
       "      <td>5</td>\n",
       "    </tr>\n",
       "    <tr>\n",
       "      <th>2014J</th>\n",
       "      <td>5</td>\n",
       "    </tr>\n",
       "    <tr>\n",
       "      <th rowspan=\"11\" valign=\"top\">BBB</th>\n",
       "      <th rowspan=\"3\" valign=\"top\">CMA</th>\n",
       "      <th>2013B</th>\n",
       "      <td>5</td>\n",
       "    </tr>\n",
       "    <tr>\n",
       "      <th>2013J</th>\n",
       "      <td>5</td>\n",
       "    </tr>\n",
       "    <tr>\n",
       "      <th>2014B</th>\n",
       "      <td>5</td>\n",
       "    </tr>\n",
       "    <tr>\n",
       "      <th rowspan=\"4\" valign=\"top\">Exam</th>\n",
       "      <th>2013B</th>\n",
       "      <td>1</td>\n",
       "    </tr>\n",
       "    <tr>\n",
       "      <th>2013J</th>\n",
       "      <td>1</td>\n",
       "    </tr>\n",
       "    <tr>\n",
       "      <th>2014B</th>\n",
       "      <td>1</td>\n",
       "    </tr>\n",
       "    <tr>\n",
       "      <th>2014J</th>\n",
       "      <td>1</td>\n",
       "    </tr>\n",
       "    <tr>\n",
       "      <th rowspan=\"4\" valign=\"top\">TMA</th>\n",
       "      <th>2013B</th>\n",
       "      <td>6</td>\n",
       "    </tr>\n",
       "    <tr>\n",
       "      <th>2013J</th>\n",
       "      <td>6</td>\n",
       "    </tr>\n",
       "    <tr>\n",
       "      <th>2014B</th>\n",
       "      <td>6</td>\n",
       "    </tr>\n",
       "    <tr>\n",
       "      <th>2014J</th>\n",
       "      <td>5</td>\n",
       "    </tr>\n",
       "    <tr>\n",
       "      <th rowspan=\"6\" valign=\"top\">CCC</th>\n",
       "      <th rowspan=\"2\" valign=\"top\">CMA</th>\n",
       "      <th>2014B</th>\n",
       "      <td>4</td>\n",
       "    </tr>\n",
       "    <tr>\n",
       "      <th>2014J</th>\n",
       "      <td>4</td>\n",
       "    </tr>\n",
       "    <tr>\n",
       "      <th rowspan=\"2\" valign=\"top\">Exam</th>\n",
       "      <th>2014B</th>\n",
       "      <td>2</td>\n",
       "    </tr>\n",
       "    <tr>\n",
       "      <th>2014J</th>\n",
       "      <td>2</td>\n",
       "    </tr>\n",
       "    <tr>\n",
       "      <th rowspan=\"2\" valign=\"top\">TMA</th>\n",
       "      <th>2014B</th>\n",
       "      <td>4</td>\n",
       "    </tr>\n",
       "    <tr>\n",
       "      <th>2014J</th>\n",
       "      <td>4</td>\n",
       "    </tr>\n",
       "    <tr>\n",
       "      <th rowspan=\"9\" valign=\"top\">DDD</th>\n",
       "      <th>CMA</th>\n",
       "      <th>2013B</th>\n",
       "      <td>7</td>\n",
       "    </tr>\n",
       "    <tr>\n",
       "      <th rowspan=\"4\" valign=\"top\">Exam</th>\n",
       "      <th>2013B</th>\n",
       "      <td>1</td>\n",
       "    </tr>\n",
       "    <tr>\n",
       "      <th>2013J</th>\n",
       "      <td>1</td>\n",
       "    </tr>\n",
       "    <tr>\n",
       "      <th>2014B</th>\n",
       "      <td>1</td>\n",
       "    </tr>\n",
       "    <tr>\n",
       "      <th>2014J</th>\n",
       "      <td>1</td>\n",
       "    </tr>\n",
       "    <tr>\n",
       "      <th rowspan=\"4\" valign=\"top\">TMA</th>\n",
       "      <th>2013B</th>\n",
       "      <td>6</td>\n",
       "    </tr>\n",
       "    <tr>\n",
       "      <th>2013J</th>\n",
       "      <td>6</td>\n",
       "    </tr>\n",
       "    <tr>\n",
       "      <th>2014B</th>\n",
       "      <td>6</td>\n",
       "    </tr>\n",
       "    <tr>\n",
       "      <th>2014J</th>\n",
       "      <td>6</td>\n",
       "    </tr>\n",
       "    <tr>\n",
       "      <th rowspan=\"6\" valign=\"top\">EEE</th>\n",
       "      <th rowspan=\"3\" valign=\"top\">Exam</th>\n",
       "      <th>2013J</th>\n",
       "      <td>1</td>\n",
       "    </tr>\n",
       "    <tr>\n",
       "      <th>2014B</th>\n",
       "      <td>1</td>\n",
       "    </tr>\n",
       "    <tr>\n",
       "      <th>2014J</th>\n",
       "      <td>1</td>\n",
       "    </tr>\n",
       "    <tr>\n",
       "      <th rowspan=\"3\" valign=\"top\">TMA</th>\n",
       "      <th>2013J</th>\n",
       "      <td>4</td>\n",
       "    </tr>\n",
       "    <tr>\n",
       "      <th>2014B</th>\n",
       "      <td>4</td>\n",
       "    </tr>\n",
       "    <tr>\n",
       "      <th>2014J</th>\n",
       "      <td>4</td>\n",
       "    </tr>\n",
       "    <tr>\n",
       "      <th rowspan=\"12\" valign=\"top\">FFF</th>\n",
       "      <th rowspan=\"4\" valign=\"top\">CMA</th>\n",
       "      <th>2013B</th>\n",
       "      <td>7</td>\n",
       "    </tr>\n",
       "    <tr>\n",
       "      <th>2013J</th>\n",
       "      <td>7</td>\n",
       "    </tr>\n",
       "    <tr>\n",
       "      <th>2014B</th>\n",
       "      <td>7</td>\n",
       "    </tr>\n",
       "    <tr>\n",
       "      <th>2014J</th>\n",
       "      <td>7</td>\n",
       "    </tr>\n",
       "    <tr>\n",
       "      <th rowspan=\"4\" valign=\"top\">Exam</th>\n",
       "      <th>2013B</th>\n",
       "      <td>1</td>\n",
       "    </tr>\n",
       "    <tr>\n",
       "      <th>2013J</th>\n",
       "      <td>1</td>\n",
       "    </tr>\n",
       "    <tr>\n",
       "      <th>2014B</th>\n",
       "      <td>1</td>\n",
       "    </tr>\n",
       "    <tr>\n",
       "      <th>2014J</th>\n",
       "      <td>1</td>\n",
       "    </tr>\n",
       "    <tr>\n",
       "      <th rowspan=\"4\" valign=\"top\">TMA</th>\n",
       "      <th>2013B</th>\n",
       "      <td>5</td>\n",
       "    </tr>\n",
       "    <tr>\n",
       "      <th>2013J</th>\n",
       "      <td>5</td>\n",
       "    </tr>\n",
       "    <tr>\n",
       "      <th>2014B</th>\n",
       "      <td>5</td>\n",
       "    </tr>\n",
       "    <tr>\n",
       "      <th>2014J</th>\n",
       "      <td>5</td>\n",
       "    </tr>\n",
       "    <tr>\n",
       "      <th rowspan=\"9\" valign=\"top\">GGG</th>\n",
       "      <th rowspan=\"3\" valign=\"top\">CMA</th>\n",
       "      <th>2013J</th>\n",
       "      <td>6</td>\n",
       "    </tr>\n",
       "    <tr>\n",
       "      <th>2014B</th>\n",
       "      <td>6</td>\n",
       "    </tr>\n",
       "    <tr>\n",
       "      <th>2014J</th>\n",
       "      <td>6</td>\n",
       "    </tr>\n",
       "    <tr>\n",
       "      <th rowspan=\"3\" valign=\"top\">Exam</th>\n",
       "      <th>2013J</th>\n",
       "      <td>1</td>\n",
       "    </tr>\n",
       "    <tr>\n",
       "      <th>2014B</th>\n",
       "      <td>1</td>\n",
       "    </tr>\n",
       "    <tr>\n",
       "      <th>2014J</th>\n",
       "      <td>1</td>\n",
       "    </tr>\n",
       "    <tr>\n",
       "      <th rowspan=\"3\" valign=\"top\">TMA</th>\n",
       "      <th>2013J</th>\n",
       "      <td>3</td>\n",
       "    </tr>\n",
       "    <tr>\n",
       "      <th>2014B</th>\n",
       "      <td>3</td>\n",
       "    </tr>\n",
       "    <tr>\n",
       "      <th>2014J</th>\n",
       "      <td>3</td>\n",
       "    </tr>\n",
       "  </tbody>\n",
       "</table>\n",
       "</div>"
      ],
      "text/plain": [
       "                                               id_assessment\n",
       "code_module assessment_type code_presentation               \n",
       "AAA         Exam            2013J                          1\n",
       "                            2014J                          1\n",
       "            TMA             2013J                          5\n",
       "                            2014J                          5\n",
       "BBB         CMA             2013B                          5\n",
       "                            2013J                          5\n",
       "                            2014B                          5\n",
       "            Exam            2013B                          1\n",
       "                            2013J                          1\n",
       "                            2014B                          1\n",
       "                            2014J                          1\n",
       "            TMA             2013B                          6\n",
       "                            2013J                          6\n",
       "                            2014B                          6\n",
       "                            2014J                          5\n",
       "CCC         CMA             2014B                          4\n",
       "                            2014J                          4\n",
       "            Exam            2014B                          2\n",
       "                            2014J                          2\n",
       "            TMA             2014B                          4\n",
       "                            2014J                          4\n",
       "DDD         CMA             2013B                          7\n",
       "            Exam            2013B                          1\n",
       "                            2013J                          1\n",
       "                            2014B                          1\n",
       "                            2014J                          1\n",
       "            TMA             2013B                          6\n",
       "                            2013J                          6\n",
       "                            2014B                          6\n",
       "                            2014J                          6\n",
       "EEE         Exam            2013J                          1\n",
       "                            2014B                          1\n",
       "                            2014J                          1\n",
       "            TMA             2013J                          4\n",
       "                            2014B                          4\n",
       "                            2014J                          4\n",
       "FFF         CMA             2013B                          7\n",
       "                            2013J                          7\n",
       "                            2014B                          7\n",
       "                            2014J                          7\n",
       "            Exam            2013B                          1\n",
       "                            2013J                          1\n",
       "                            2014B                          1\n",
       "                            2014J                          1\n",
       "            TMA             2013B                          5\n",
       "                            2013J                          5\n",
       "                            2014B                          5\n",
       "                            2014J                          5\n",
       "GGG         CMA             2013J                          6\n",
       "                            2014B                          6\n",
       "                            2014J                          6\n",
       "            Exam            2013J                          1\n",
       "                            2014B                          1\n",
       "                            2014J                          1\n",
       "            TMA             2013J                          3\n",
       "                            2014B                          3\n",
       "                            2014J                          3"
      ]
     },
     "execution_count": 4,
     "metadata": {},
     "output_type": "execute_result"
    }
   ],
   "source": [
    "df = data_dicts['assessments']\n",
    "df.drop(['date','weight'],axis = 1).groupby(['code_module','assessment_type','code_presentation']).count()"
   ]
  },
  {
   "cell_type": "markdown",
   "id": "d4ad4ea8-d8cb-4a1d-8f92-ea6e7994a45c",
   "metadata": {},
   "source": [
    "Le cours C comporte 2 examens finaux. Le cours A n'a pas d'évaluation par ordinateur (CMA). Chaque cours a au moins 3 TMA."
   ]
  },
  {
   "cell_type": "markdown",
   "id": "2fafaa47-dcdc-4f03-8398-68e094db2bd8",
   "metadata": {},
   "source": [
    "## vle.csv"
   ]
  },
  {
   "cell_type": "code",
   "execution_count": 5,
   "id": "ae6108f2-b85d-463d-a209-f454a8c2865e",
   "metadata": {},
   "outputs": [
    {
     "data": {
      "text/html": [
       "<div>\n",
       "<style scoped>\n",
       "    .dataframe tbody tr th:only-of-type {\n",
       "        vertical-align: middle;\n",
       "    }\n",
       "\n",
       "    .dataframe tbody tr th {\n",
       "        vertical-align: top;\n",
       "    }\n",
       "\n",
       "    .dataframe thead th {\n",
       "        text-align: right;\n",
       "    }\n",
       "</style>\n",
       "<table border=\"1\" class=\"dataframe\">\n",
       "  <thead>\n",
       "    <tr style=\"text-align: right;\">\n",
       "      <th></th>\n",
       "      <th>id_site</th>\n",
       "      <th>code_module</th>\n",
       "      <th>code_presentation</th>\n",
       "      <th>activity_type</th>\n",
       "      <th>week_from</th>\n",
       "      <th>week_to</th>\n",
       "    </tr>\n",
       "  </thead>\n",
       "  <tbody>\n",
       "    <tr>\n",
       "      <th>0</th>\n",
       "      <td>546943</td>\n",
       "      <td>AAA</td>\n",
       "      <td>2013J</td>\n",
       "      <td>resource</td>\n",
       "      <td>NaN</td>\n",
       "      <td>NaN</td>\n",
       "    </tr>\n",
       "    <tr>\n",
       "      <th>1</th>\n",
       "      <td>546712</td>\n",
       "      <td>AAA</td>\n",
       "      <td>2013J</td>\n",
       "      <td>oucontent</td>\n",
       "      <td>NaN</td>\n",
       "      <td>NaN</td>\n",
       "    </tr>\n",
       "    <tr>\n",
       "      <th>2</th>\n",
       "      <td>546998</td>\n",
       "      <td>AAA</td>\n",
       "      <td>2013J</td>\n",
       "      <td>resource</td>\n",
       "      <td>NaN</td>\n",
       "      <td>NaN</td>\n",
       "    </tr>\n",
       "    <tr>\n",
       "      <th>3</th>\n",
       "      <td>546888</td>\n",
       "      <td>AAA</td>\n",
       "      <td>2013J</td>\n",
       "      <td>url</td>\n",
       "      <td>NaN</td>\n",
       "      <td>NaN</td>\n",
       "    </tr>\n",
       "    <tr>\n",
       "      <th>4</th>\n",
       "      <td>547035</td>\n",
       "      <td>AAA</td>\n",
       "      <td>2013J</td>\n",
       "      <td>resource</td>\n",
       "      <td>NaN</td>\n",
       "      <td>NaN</td>\n",
       "    </tr>\n",
       "  </tbody>\n",
       "</table>\n",
       "</div>"
      ],
      "text/plain": [
       "   id_site code_module code_presentation activity_type  week_from  week_to\n",
       "0   546943         AAA             2013J      resource        NaN      NaN\n",
       "1   546712         AAA             2013J     oucontent        NaN      NaN\n",
       "2   546998         AAA             2013J      resource        NaN      NaN\n",
       "3   546888         AAA             2013J           url        NaN      NaN\n",
       "4   547035         AAA             2013J      resource        NaN      NaN"
      ]
     },
     "execution_count": 5,
     "metadata": {},
     "output_type": "execute_result"
    }
   ],
   "source": [
    "df = data_dicts['vle']\n",
    "df.head()"
   ]
  },
  {
   "cell_type": "markdown",
   "id": "84313ab5-f78a-43a3-97ee-308b18e6ab56",
   "metadata": {},
   "source": [
    "## studentInfo.csv"
   ]
  },
  {
   "cell_type": "code",
   "execution_count": 6,
   "id": "a9ce55b8-a2c9-4497-bfe3-873276a4aa99",
   "metadata": {},
   "outputs": [
    {
     "data": {
      "text/html": [
       "<div>\n",
       "<style scoped>\n",
       "    .dataframe tbody tr th:only-of-type {\n",
       "        vertical-align: middle;\n",
       "    }\n",
       "\n",
       "    .dataframe tbody tr th {\n",
       "        vertical-align: top;\n",
       "    }\n",
       "\n",
       "    .dataframe thead th {\n",
       "        text-align: right;\n",
       "    }\n",
       "</style>\n",
       "<table border=\"1\" class=\"dataframe\">\n",
       "  <thead>\n",
       "    <tr style=\"text-align: right;\">\n",
       "      <th></th>\n",
       "      <th>code_module</th>\n",
       "      <th>code_presentation</th>\n",
       "      <th>id_student</th>\n",
       "      <th>gender</th>\n",
       "      <th>region</th>\n",
       "      <th>highest_education</th>\n",
       "      <th>imd_band</th>\n",
       "      <th>age_band</th>\n",
       "      <th>num_of_prev_attempts</th>\n",
       "      <th>studied_credits</th>\n",
       "      <th>disability</th>\n",
       "      <th>final_result</th>\n",
       "    </tr>\n",
       "  </thead>\n",
       "  <tbody>\n",
       "    <tr>\n",
       "      <th>0</th>\n",
       "      <td>AAA</td>\n",
       "      <td>2013J</td>\n",
       "      <td>11391</td>\n",
       "      <td>M</td>\n",
       "      <td>East Anglian Region</td>\n",
       "      <td>HE Qualification</td>\n",
       "      <td>90-100%</td>\n",
       "      <td>55&lt;=</td>\n",
       "      <td>0</td>\n",
       "      <td>240</td>\n",
       "      <td>N</td>\n",
       "      <td>Pass</td>\n",
       "    </tr>\n",
       "    <tr>\n",
       "      <th>1</th>\n",
       "      <td>AAA</td>\n",
       "      <td>2013J</td>\n",
       "      <td>28400</td>\n",
       "      <td>F</td>\n",
       "      <td>Scotland</td>\n",
       "      <td>HE Qualification</td>\n",
       "      <td>20-30%</td>\n",
       "      <td>35-55</td>\n",
       "      <td>0</td>\n",
       "      <td>60</td>\n",
       "      <td>N</td>\n",
       "      <td>Pass</td>\n",
       "    </tr>\n",
       "    <tr>\n",
       "      <th>2</th>\n",
       "      <td>AAA</td>\n",
       "      <td>2013J</td>\n",
       "      <td>30268</td>\n",
       "      <td>F</td>\n",
       "      <td>North Western Region</td>\n",
       "      <td>A Level or Equivalent</td>\n",
       "      <td>30-40%</td>\n",
       "      <td>35-55</td>\n",
       "      <td>0</td>\n",
       "      <td>60</td>\n",
       "      <td>Y</td>\n",
       "      <td>Withdrawn</td>\n",
       "    </tr>\n",
       "    <tr>\n",
       "      <th>3</th>\n",
       "      <td>AAA</td>\n",
       "      <td>2013J</td>\n",
       "      <td>31604</td>\n",
       "      <td>F</td>\n",
       "      <td>South East Region</td>\n",
       "      <td>A Level or Equivalent</td>\n",
       "      <td>50-60%</td>\n",
       "      <td>35-55</td>\n",
       "      <td>0</td>\n",
       "      <td>60</td>\n",
       "      <td>N</td>\n",
       "      <td>Pass</td>\n",
       "    </tr>\n",
       "    <tr>\n",
       "      <th>4</th>\n",
       "      <td>AAA</td>\n",
       "      <td>2013J</td>\n",
       "      <td>32885</td>\n",
       "      <td>F</td>\n",
       "      <td>West Midlands Region</td>\n",
       "      <td>Lower Than A Level</td>\n",
       "      <td>50-60%</td>\n",
       "      <td>0-35</td>\n",
       "      <td>0</td>\n",
       "      <td>60</td>\n",
       "      <td>N</td>\n",
       "      <td>Pass</td>\n",
       "    </tr>\n",
       "  </tbody>\n",
       "</table>\n",
       "</div>"
      ],
      "text/plain": [
       "  code_module code_presentation  id_student gender                region  \\\n",
       "0         AAA             2013J       11391      M   East Anglian Region   \n",
       "1         AAA             2013J       28400      F              Scotland   \n",
       "2         AAA             2013J       30268      F  North Western Region   \n",
       "3         AAA             2013J       31604      F     South East Region   \n",
       "4         AAA             2013J       32885      F  West Midlands Region   \n",
       "\n",
       "       highest_education imd_band age_band  num_of_prev_attempts  \\\n",
       "0       HE Qualification  90-100%     55<=                     0   \n",
       "1       HE Qualification   20-30%    35-55                     0   \n",
       "2  A Level or Equivalent   30-40%    35-55                     0   \n",
       "3  A Level or Equivalent   50-60%    35-55                     0   \n",
       "4     Lower Than A Level   50-60%     0-35                     0   \n",
       "\n",
       "   studied_credits disability final_result  \n",
       "0              240          N         Pass  \n",
       "1               60          N         Pass  \n",
       "2               60          Y    Withdrawn  \n",
       "3               60          N         Pass  \n",
       "4               60          N         Pass  "
      ]
     },
     "execution_count": 6,
     "metadata": {},
     "output_type": "execute_result"
    }
   ],
   "source": [
    "df = data_dicts['studentInfo']\n",
    "df.head()"
   ]
  },
  {
   "cell_type": "code",
   "execution_count": 7,
   "id": "05d4c529-0878-462d-b0d4-533651abbfc9",
   "metadata": {},
   "outputs": [
    {
     "name": "stdout",
     "output_type": "stream",
     "text": [
      "Le nombres de valeur manquante par colonne  \n"
     ]
    },
    {
     "data": {
      "text/plain": [
       "code_module                0\n",
       "code_presentation          0\n",
       "id_student                 0\n",
       "gender                     0\n",
       "region                     0\n",
       "highest_education          0\n",
       "imd_band                1111\n",
       "age_band                   0\n",
       "num_of_prev_attempts       0\n",
       "studied_credits            0\n",
       "disability                 0\n",
       "final_result               0\n",
       "dtype: int64"
      ]
     },
     "execution_count": 7,
     "metadata": {},
     "output_type": "execute_result"
    }
   ],
   "source": [
    "print(\"Le nombres de valeur manquante par colonne  \")\n",
    "df.isnull().sum()"
   ]
  },
  {
   "cell_type": "markdown",
   "id": "0de94f90-b670-4e6a-9a20-f4f30e156881",
   "metadata": {},
   "source": [
    "Il y a 1111 observations avec imd_band (Index of Multiple Depravation, un index pour les conditions de vie) manquantes. Un élément que nous pourrions vouloir prendre en compte lors de la construction du modèle plus tard."
   ]
  },
  {
   "cell_type": "code",
   "execution_count": 8,
   "id": "cae47aef-f2f3-43ff-b594-11d0b0145c1c",
   "metadata": {},
   "outputs": [
    {
     "data": {
      "image/png": "[encoded data removed]",
      "text/plain": [
       "<Figure size 640x480 with 1 Axes>"
      ]
     },
     "metadata": {},
     "output_type": "display_data"
    },
    {
     "data": {
      "image/png": "[encoded data removed]",
      "text/plain": [
       "<Figure size 640x480 with 1 Axes>"
      ]
     },
     "metadata": {},
     "output_type": "display_data"
    },
    {
     "data": {
      "image/png": "[encoded data removed]",
      "text/plain": [
       "<Figure size 640x480 with 1 Axes>"
      ]
     },
     "metadata": {},
     "output_type": "display_data"
    },
    {
     "data": {
      "image/png": "[encoded data removed]",
      "text/plain": [
       "<Figure size 640x480 with 1 Axes>"
      ]
     },
     "metadata": {},
     "output_type": "display_data"
    },
    {
     "data": {
      "image/png": "[encoded data removed]",
      "text/plain": [
       "<Figure size 640x480 with 1 Axes>"
      ]
     },
     "metadata": {},
     "output_type": "display_data"
    },
    {
     "data": {
      "image/png": "[encoded data removed]",
      "text/plain": [
       "<Figure size 640x480 with 1 Axes>"
      ]
     },
     "metadata": {},
     "output_type": "display_data"
    },
    {
     "data": {
      "image/png": "[encoded data removed]",
      "text/plain": [
       "<Figure size 500x500 with 1 Axes>"
      ]
     },
     "metadata": {},
     "output_type": "display_data"
    },
    {
     "data": {
      "image/png": "[encoded data removed]",
      "text/plain": [
       "<Figure size 640x480 with 1 Axes>"
      ]
     },
     "metadata": {},
     "output_type": "display_data"
    },
    {
     "data": {
      "image/png": "[encoded data removed]",
      "text/plain": [
       "<Figure size 640x480 with 1 Axes>"
      ]
     },
     "metadata": {},
     "output_type": "display_data"
    }
   ],
   "source": [
    "sns.set_theme(style=\"darkgrid\")\n",
    "for i, column in enumerate(df.columns):\n",
    "    if i>2 and i != 9:\n",
    "        sns.countplot(y = column, data = df)\n",
    "        plt.show()\n",
    "    elif i == 9: \n",
    "        sns.displot(x = column, data = df, kind=\"kde\")\n",
    "        plt.show()"
   ]
  },
  {
   "cell_type": "markdown",
   "id": "9b0c7b87-b9d5-47b7-b800-33f168ce2e16",
   "metadata": {},
   "source": [
    "Certaines caractéristiques telles que les crédits étudiés, le nombre de tentatives précédentes, la tranche d'âge et le niveau d'éducation le plus élevé contiennent des observations extrêmes."
   ]
  },
  {
   "cell_type": "markdown",
   "id": "ee72e808-b54d-49e0-8371-ab725ed8884f",
   "metadata": {},
   "source": [
    "## studentRegistration.csv"
   ]
  },
  {
   "cell_type": "code",
   "execution_count": 9,
   "id": "ba03ecaa-5f8d-42fc-8aa1-21315c8fa1b2",
   "metadata": {},
   "outputs": [
    {
     "data": {
      "text/html": [
       "<div>\n",
       "<style scoped>\n",
       "    .dataframe tbody tr th:only-of-type {\n",
       "        vertical-align: middle;\n",
       "    }\n",
       "\n",
       "    .dataframe tbody tr th {\n",
       "        vertical-align: top;\n",
       "    }\n",
       "\n",
       "    .dataframe thead th {\n",
       "        text-align: right;\n",
       "    }\n",
       "</style>\n",
       "<table border=\"1\" class=\"dataframe\">\n",
       "  <thead>\n",
       "    <tr style=\"text-align: right;\">\n",
       "      <th></th>\n",
       "      <th>code_module</th>\n",
       "      <th>code_presentation</th>\n",
       "      <th>id_student</th>\n",
       "      <th>date_registration</th>\n",
       "      <th>date_unregistration</th>\n",
       "    </tr>\n",
       "  </thead>\n",
       "  <tbody>\n",
       "    <tr>\n",
       "      <th>0</th>\n",
       "      <td>AAA</td>\n",
       "      <td>2013J</td>\n",
       "      <td>11391</td>\n",
       "      <td>-159.0</td>\n",
       "      <td>NaN</td>\n",
       "    </tr>\n",
       "    <tr>\n",
       "      <th>1</th>\n",
       "      <td>AAA</td>\n",
       "      <td>2013J</td>\n",
       "      <td>28400</td>\n",
       "      <td>-53.0</td>\n",
       "      <td>NaN</td>\n",
       "    </tr>\n",
       "    <tr>\n",
       "      <th>2</th>\n",
       "      <td>AAA</td>\n",
       "      <td>2013J</td>\n",
       "      <td>30268</td>\n",
       "      <td>-92.0</td>\n",
       "      <td>12.0</td>\n",
       "    </tr>\n",
       "    <tr>\n",
       "      <th>3</th>\n",
       "      <td>AAA</td>\n",
       "      <td>2013J</td>\n",
       "      <td>31604</td>\n",
       "      <td>-52.0</td>\n",
       "      <td>NaN</td>\n",
       "    </tr>\n",
       "    <tr>\n",
       "      <th>4</th>\n",
       "      <td>AAA</td>\n",
       "      <td>2013J</td>\n",
       "      <td>32885</td>\n",
       "      <td>-176.0</td>\n",
       "      <td>NaN</td>\n",
       "    </tr>\n",
       "  </tbody>\n",
       "</table>\n",
       "</div>"
      ],
      "text/plain": [
       "  code_module code_presentation  id_student  date_registration  \\\n",
       "0         AAA             2013J       11391             -159.0   \n",
       "1         AAA             2013J       28400              -53.0   \n",
       "2         AAA             2013J       30268              -92.0   \n",
       "3         AAA             2013J       31604              -52.0   \n",
       "4         AAA             2013J       32885             -176.0   \n",
       "\n",
       "   date_unregistration  \n",
       "0                  NaN  \n",
       "1                  NaN  \n",
       "2                 12.0  \n",
       "3                  NaN  \n",
       "4                  NaN  "
      ]
     },
     "execution_count": 9,
     "metadata": {},
     "output_type": "execute_result"
    }
   ],
   "source": [
    "df = data_dicts['studentRegistration']\n",
    "df.head()"
   ]
  },
  {
   "cell_type": "code",
   "execution_count": 10,
   "id": "a288296e-a637-45cb-b9aa-70db6735fc89",
   "metadata": {},
   "outputs": [
    {
     "data": {
      "image/png": "[encoded data removed]",
      "text/plain": [
       "<Figure size 500x500 with 1 Axes>"
      ]
     },
     "metadata": {},
     "output_type": "display_data"
    }
   ],
   "source": [
    "sns.displot(x = 'date_unregistration', data = df, kind=\"kde\")\n",
    "plt.show()"
   ]
  },
  {
   "cell_type": "markdown",
   "id": "a478ff3a-e01f-4fff-b44d-9ecf639a5b2b",
   "metadata": {},
   "source": [
    "Le graphique montre qu'un grand nombre d'étudiants ont abandonné le cours avant son début. Nous supprimerons ces étudiants de notre ensemble de données ultérieurement, puisque nous ne disposons pas de données sur leurs performances académiques."
   ]
  },
  {
   "cell_type": "markdown",
   "id": "8bb35a3a-2287-4e2b-861f-d612268ba070",
   "metadata": {},
   "source": [
    "## studentAssessment.csv"
   ]
  },
  {
   "cell_type": "code",
   "execution_count": 11,
   "id": "75eaf70d-9029-40dd-af86-3beb6d5f894c",
   "metadata": {},
   "outputs": [
    {
     "data": {
      "text/html": [
       "<div>\n",
       "<style scoped>\n",
       "    .dataframe tbody tr th:only-of-type {\n",
       "        vertical-align: middle;\n",
       "    }\n",
       "\n",
       "    .dataframe tbody tr th {\n",
       "        vertical-align: top;\n",
       "    }\n",
       "\n",
       "    .dataframe thead th {\n",
       "        text-align: right;\n",
       "    }\n",
       "</style>\n",
       "<table border=\"1\" class=\"dataframe\">\n",
       "  <thead>\n",
       "    <tr style=\"text-align: right;\">\n",
       "      <th></th>\n",
       "      <th>id_assessment</th>\n",
       "      <th>id_student</th>\n",
       "      <th>date_submitted</th>\n",
       "      <th>is_banked</th>\n",
       "      <th>score</th>\n",
       "    </tr>\n",
       "  </thead>\n",
       "  <tbody>\n",
       "    <tr>\n",
       "      <th>0</th>\n",
       "      <td>1752</td>\n",
       "      <td>11391</td>\n",
       "      <td>18</td>\n",
       "      <td>0</td>\n",
       "      <td>78.0</td>\n",
       "    </tr>\n",
       "    <tr>\n",
       "      <th>1</th>\n",
       "      <td>1752</td>\n",
       "      <td>28400</td>\n",
       "      <td>22</td>\n",
       "      <td>0</td>\n",
       "      <td>70.0</td>\n",
       "    </tr>\n",
       "    <tr>\n",
       "      <th>2</th>\n",
       "      <td>1752</td>\n",
       "      <td>31604</td>\n",
       "      <td>17</td>\n",
       "      <td>0</td>\n",
       "      <td>72.0</td>\n",
       "    </tr>\n",
       "    <tr>\n",
       "      <th>3</th>\n",
       "      <td>1752</td>\n",
       "      <td>32885</td>\n",
       "      <td>26</td>\n",
       "      <td>0</td>\n",
       "      <td>69.0</td>\n",
       "    </tr>\n",
       "    <tr>\n",
       "      <th>4</th>\n",
       "      <td>1752</td>\n",
       "      <td>38053</td>\n",
       "      <td>19</td>\n",
       "      <td>0</td>\n",
       "      <td>79.0</td>\n",
       "    </tr>\n",
       "  </tbody>\n",
       "</table>\n",
       "</div>"
      ],
      "text/plain": [
       "   id_assessment  id_student  date_submitted  is_banked  score\n",
       "0           1752       11391              18          0   78.0\n",
       "1           1752       28400              22          0   70.0\n",
       "2           1752       31604              17          0   72.0\n",
       "3           1752       32885              26          0   69.0\n",
       "4           1752       38053              19          0   79.0"
      ]
     },
     "execution_count": 11,
     "metadata": {},
     "output_type": "execute_result"
    }
   ],
   "source": [
    "df = data_dicts['studentAssessment']\n",
    "df.head()"
   ]
  },
  {
   "cell_type": "code",
   "execution_count": 12,
   "id": "c6bf35e6-525c-4364-9ffc-069fc53aff93",
   "metadata": {},
   "outputs": [
    {
     "name": "stdout",
     "output_type": "stream",
     "text": [
      "Le nombres de valeur manquante par colonne  \n"
     ]
    },
    {
     "data": {
      "text/plain": [
       "id_assessment       0\n",
       "id_student          0\n",
       "date_submitted      0\n",
       "is_banked           0\n",
       "score             173\n",
       "dtype: int64"
      ]
     },
     "execution_count": 12,
     "metadata": {},
     "output_type": "execute_result"
    }
   ],
   "source": [
    "print(\"Le nombres de valeur manquante par colonne  \")\n",
    "df.isnull().sum()"
   ]
  },
  {
   "cell_type": "markdown",
   "id": "a0e55e05-ae02-4338-80fe-22002ecd4a06",
   "metadata": {},
   "source": [
    "Selon la documentation des données, le score va de 0 à 100. Un score inférieur à 40 est interprété comme un échec. Si l'étudiant ne soumet pas l'évaluation, aucun résultat n'est enregistré. La plupart des scores manquants sont ceux des examens finaux, ce qui n'a pas d'impact sur notre analyse, puisque nous nous intéressons uniquement aux performances des étudiants au début du semestre."
   ]
  },
  {
   "cell_type": "markdown",
   "id": "1964fb0b-5db2-4ed7-9c30-27bde377ac71",
   "metadata": {},
   "source": [
    "## <p style=\"background-color:#709699;font-family:newtimeroman;color:#FFF9ED;font-size:120%;text-align:center;border-radius:10px 10px;\">Préparation des données pour l'analyse</p>\n"
   ]
  },
  {
   "cell_type": "code",
   "execution_count": 13,
   "id": "50e24f5f-ef09-4741-9345-dfef6a10374d",
   "metadata": {},
   "outputs": [],
   "source": [
    "def inner_merge(left_df,right_df,right_cols,on_cols):\n",
    "    right_df = right_df[right_cols]\n",
    "    left_df = left_df.merge(right_df, on = on_cols)\n",
    "    return left_df.drop_duplicates()"
   ]
  },
  {
   "cell_type": "markdown",
   "id": "adf69652-940f-4dc6-9479-79824b29ffb1",
   "metadata": {},
   "source": [
    "Nous voulons prédire le résultat final d'un étudiant sur la base de ses premières performances. Par performance, nous entendons deux choses : la performance académique, mesurée par les notes des étudiants, et l'engagement académique, mesuré par le nombre de fois où les étudiants cliquent sur le contenu du cours. Les trois variables ci-dessous contrôlent le nombre de jours dans un semestre que nous voulons inclure dans notre analyse."
   ]
  },
  {
   "cell_type": "code",
   "execution_count": 14,
   "id": "cf849247-0802-4517-aad4-100035a6ac36",
   "metadata": {},
   "outputs": [],
   "source": [
    "score_deadline = 90\n",
    "click_deadline = 90\n",
    "withdraw_deadline = 90"
   ]
  },
  {
   "cell_type": "markdown",
   "id": "3bed89e8-1fdc-4845-816a-46429100f315",
   "metadata": {},
   "source": [
    "Ci-dessous, nous avons une fonction qui crée un ensemble de données contenant la note moyenne des devoirs de chaque étudiant dans les premiers jours d'échéance de la note. Une autre fonction qui crée un ensemble de données contenant le nombre moyen de clics de chaque étudiant pour chaque catégorie de ressource dans les premiers jours de la date limite de clic. Puis une fonction pour fusionner les deux ensembles de données ensemble, ainsi que pour retirer les étudiants qui ont abandonné avant la date limite d'abandon. Puisque notre analyse ne concerne que la réussite ou l'échec, nous fusionnons les résultats finaux de la distinction avec la réussite et les abandons avec l'échec. L'idée est qu'après un certain temps, les seules personnes qui se retirent sont celles qui sont préoccupées par leurs performances et qui sont moins susceptibles de se retirer pour des raisons non académiques."
   ]
  },
  {
   "cell_type": "code",
   "execution_count": 15,
   "id": "cc6c8010-d24e-4a7f-a26a-82ae6c2f81c5",
   "metadata": {},
   "outputs": [],
   "source": [
    "# score data\n",
    "\n",
    "def create_score_df(score_deadline):\n",
    "\n",
    "    df1 = data_dicts['assessments']\n",
    "    df2 = data_dicts['studentAssessment']\n",
    "\n",
    "    score_df = inner_merge(df1,\n",
    "                           df2,\n",
    "                           df2.columns,\n",
    "                           ['id_assessment'],\n",
    "                          )\n",
    "\n",
    "    score_df = score_df[score_df['date'] < score_deadline]\n",
    "\n",
    "    score_df = score_df[score_df['assessment_type'] != 'Exam']\n",
    "\n",
    "    score_df = score_df.dropna(subset = ['score']) \n",
    "\n",
    "    score_df.isnull().sum()\n",
    "\n",
    "    score_df['assessment_type'].value_counts()\n",
    "\n",
    "    score_df = score_df.groupby(['code_module', 'code_presentation', 'id_student']).mean().reset_index()\n",
    "    score_df = score_df.rename(columns = {'score': f'mean_score_day{score_deadline}'})\n",
    "    score_df = score_df.drop(['date', 'weight', \n",
    "                              'date_submitted', 'is_banked',\n",
    "                              'id_assessment'],\n",
    "                             axis = 1)\n",
    "    return score_df\n"
   ]
  },
  {
   "cell_type": "code",
   "execution_count": 16,
   "id": "0dbede9d-3a65-4896-a9af-0c487b78e608",
   "metadata": {},
   "outputs": [],
   "source": [
    "# click data\n",
    "\n",
    "def create_click_df(click_deadline):\n",
    "\n",
    "    clicks = data_dicts['studentVle']\n",
    "\n",
    "    clicks = inner_merge(clicks,\n",
    "                         data_dicts['vle'],\n",
    "                         ['id_site','code_module','code_presentation','activity_type'],\n",
    "                         ['id_site','code_module','code_presentation'],\n",
    "                        )\n",
    "\n",
    "    clicks = clicks.drop('id_site', axis = 1)\n",
    "\n",
    "    def clicks_xx(clicks,xx):\n",
    "        temp = clicks[clicks['date'] <= xx]\n",
    "        temp = temp.drop('date', axis = 1)\n",
    "        temp = temp.groupby(['code_module','code_presentation','id_student','activity_type']).mean()\n",
    "        temp = temp.rename(columns = {'sum_click': f'sum_click{xx} mean'})\n",
    "        temp = temp.reset_index() # this fills out the missing columns for merging later \n",
    "        return temp\n",
    "\n",
    "    click_data = pd.pivot_table(data = clicks_xx(clicks,click_deadline), \n",
    "                                index = ['code_module','code_presentation','id_student'],\n",
    "                                columns = 'activity_type', \n",
    "                                values = [f'sum_click{click_deadline} mean'],\n",
    "                                fill_value = 0,\n",
    "                               ).reset_index()\n",
    "\n",
    "    # get rid of multi index\n",
    "    click_data = pd.concat([click_data['code_module'],\n",
    "                            click_data['code_presentation'],\n",
    "                            click_data['id_student'], \n",
    "                            click_data[f'sum_click{click_deadline} mean']], axis=1)\n",
    "    return click_data"
   ]
  },
  {
   "cell_type": "code",
   "execution_count": 17,
   "id": "933feae3-3eb5-42b4-a262-860791e246bf",
   "metadata": {},
   "outputs": [],
   "source": [
    "# merge score_df and click_df\n",
    "def create_final_df(withdraw_deadline, score_df, click_df):\n",
    "\n",
    "    final_df = inner_merge(click_df, # merge with StudentInfo\n",
    "                           data_dicts['studentInfo'],\n",
    "                           data_dicts['studentInfo'].columns,\n",
    "                           ['code_module', 'code_presentation', 'id_student'],\n",
    "                          )\n",
    "\n",
    "    final_df = final_df.replace('Distinction','Pass') # merge Pass and Distinction\n",
    "\n",
    "    final_df = inner_merge(final_df, \n",
    "                           data_dicts['studentRegistration'],\n",
    "                           ['code_module', 'code_presentation', 'id_student', 'date_unregistration'],\n",
    "                           ['code_module', 'code_presentation', 'id_student'],\n",
    "                          )\n",
    "\n",
    "    final_df = final_df[(final_df['final_result'] != 'Withdrawn') | # remove people who withdrew before withdraw_deadline\n",
    "                       (final_df['date_unregistration'] > withdraw_deadline)]\n",
    "\n",
    "    final_df = final_df.reset_index()\n",
    "\n",
    "    final_df = final_df.drop(['date_unregistration','index'],axis = 1)\n",
    "\n",
    "    final_df = inner_merge(final_df,\n",
    "                           score_df,\n",
    "                           score_df.columns,\n",
    "                           ['code_module', 'code_presentation', 'id_student'])\n",
    "    \n",
    "    final_df = final_df.replace('Withdrawn','Fail') # merge Withdrawn to Fail\n",
    "\n",
    "    return final_df"
   ]
  },
  {
   "cell_type": "code",
   "execution_count": 18,
   "id": "59b920c3-70f0-41e7-a1a0-2135d793a325",
   "metadata": {},
   "outputs": [],
   "source": [
    "score_df = create_score_df(score_deadline)\n",
    "click_df = create_click_df(click_deadline)\n",
    "final_df = create_final_df(withdraw_deadline, score_df, click_df)"
   ]
  },
  {
   "cell_type": "code",
   "execution_count": 19,
   "id": "3c18f9bf-fcbb-4465-ab94-19f11b16ec48",
   "metadata": {},
   "outputs": [
    {
     "data": {
      "text/html": [
       "<div>\n",
       "<style scoped>\n",
       "    .dataframe tbody tr th:only-of-type {\n",
       "        vertical-align: middle;\n",
       "    }\n",
       "\n",
       "    .dataframe tbody tr th {\n",
       "        vertical-align: top;\n",
       "    }\n",
       "\n",
       "    .dataframe thead th {\n",
       "        text-align: right;\n",
       "    }\n",
       "</style>\n",
       "<table border=\"1\" class=\"dataframe\">\n",
       "  <thead>\n",
       "    <tr style=\"text-align: right;\">\n",
       "      <th></th>\n",
       "      <th>code_module</th>\n",
       "      <th>code_presentation</th>\n",
       "      <th>id_student</th>\n",
       "      <th>dataplus</th>\n",
       "      <th>dualpane</th>\n",
       "      <th>externalquiz</th>\n",
       "      <th>forumng</th>\n",
       "      <th>glossary</th>\n",
       "      <th>homepage</th>\n",
       "      <th>htmlactivity</th>\n",
       "      <th>...</th>\n",
       "      <th>gender</th>\n",
       "      <th>region</th>\n",
       "      <th>highest_education</th>\n",
       "      <th>imd_band</th>\n",
       "      <th>age_band</th>\n",
       "      <th>num_of_prev_attempts</th>\n",
       "      <th>studied_credits</th>\n",
       "      <th>disability</th>\n",
       "      <th>final_result</th>\n",
       "      <th>mean_score_day90</th>\n",
       "    </tr>\n",
       "  </thead>\n",
       "  <tbody>\n",
       "    <tr>\n",
       "      <th>0</th>\n",
       "      <td>AAA</td>\n",
       "      <td>2013J</td>\n",
       "      <td>11391</td>\n",
       "      <td>0.0</td>\n",
       "      <td>0.0</td>\n",
       "      <td>0.0</td>\n",
       "      <td>3.514286</td>\n",
       "      <td>0.0</td>\n",
       "      <td>3.478261</td>\n",
       "      <td>0.0</td>\n",
       "      <td>...</td>\n",
       "      <td>M</td>\n",
       "      <td>East Anglian Region</td>\n",
       "      <td>HE Qualification</td>\n",
       "      <td>90-100%</td>\n",
       "      <td>55&lt;=</td>\n",
       "      <td>0</td>\n",
       "      <td>240</td>\n",
       "      <td>N</td>\n",
       "      <td>Pass</td>\n",
       "      <td>81.5</td>\n",
       "    </tr>\n",
       "    <tr>\n",
       "      <th>1</th>\n",
       "      <td>AAA</td>\n",
       "      <td>2013J</td>\n",
       "      <td>28400</td>\n",
       "      <td>0.0</td>\n",
       "      <td>0.0</td>\n",
       "      <td>0.0</td>\n",
       "      <td>2.988889</td>\n",
       "      <td>0.0</td>\n",
       "      <td>5.194444</td>\n",
       "      <td>0.0</td>\n",
       "      <td>...</td>\n",
       "      <td>F</td>\n",
       "      <td>Scotland</td>\n",
       "      <td>HE Qualification</td>\n",
       "      <td>20-30%</td>\n",
       "      <td>35-55</td>\n",
       "      <td>0</td>\n",
       "      <td>60</td>\n",
       "      <td>N</td>\n",
       "      <td>Pass</td>\n",
       "      <td>69.0</td>\n",
       "    </tr>\n",
       "    <tr>\n",
       "      <th>2</th>\n",
       "      <td>AAA</td>\n",
       "      <td>2013J</td>\n",
       "      <td>31604</td>\n",
       "      <td>0.0</td>\n",
       "      <td>0.0</td>\n",
       "      <td>0.0</td>\n",
       "      <td>2.955882</td>\n",
       "      <td>1.0</td>\n",
       "      <td>4.340000</td>\n",
       "      <td>0.0</td>\n",
       "      <td>...</td>\n",
       "      <td>F</td>\n",
       "      <td>South East Region</td>\n",
       "      <td>A Level or Equivalent</td>\n",
       "      <td>50-60%</td>\n",
       "      <td>35-55</td>\n",
       "      <td>0</td>\n",
       "      <td>60</td>\n",
       "      <td>N</td>\n",
       "      <td>Pass</td>\n",
       "      <td>71.5</td>\n",
       "    </tr>\n",
       "    <tr>\n",
       "      <th>3</th>\n",
       "      <td>AAA</td>\n",
       "      <td>2013J</td>\n",
       "      <td>32885</td>\n",
       "      <td>0.0</td>\n",
       "      <td>0.0</td>\n",
       "      <td>0.0</td>\n",
       "      <td>3.127660</td>\n",
       "      <td>2.0</td>\n",
       "      <td>3.600000</td>\n",
       "      <td>0.0</td>\n",
       "      <td>...</td>\n",
       "      <td>F</td>\n",
       "      <td>West Midlands Region</td>\n",
       "      <td>Lower Than A Level</td>\n",
       "      <td>50-60%</td>\n",
       "      <td>0-35</td>\n",
       "      <td>0</td>\n",
       "      <td>60</td>\n",
       "      <td>N</td>\n",
       "      <td>Pass</td>\n",
       "      <td>49.5</td>\n",
       "    </tr>\n",
       "    <tr>\n",
       "      <th>4</th>\n",
       "      <td>AAA</td>\n",
       "      <td>2013J</td>\n",
       "      <td>38053</td>\n",
       "      <td>7.0</td>\n",
       "      <td>0.0</td>\n",
       "      <td>0.0</td>\n",
       "      <td>3.457364</td>\n",
       "      <td>0.0</td>\n",
       "      <td>4.438596</td>\n",
       "      <td>0.0</td>\n",
       "      <td>...</td>\n",
       "      <td>M</td>\n",
       "      <td>Wales</td>\n",
       "      <td>A Level or Equivalent</td>\n",
       "      <td>80-90%</td>\n",
       "      <td>35-55</td>\n",
       "      <td>0</td>\n",
       "      <td>60</td>\n",
       "      <td>N</td>\n",
       "      <td>Pass</td>\n",
       "      <td>74.0</td>\n",
       "    </tr>\n",
       "    <tr>\n",
       "      <th>...</th>\n",
       "      <td>...</td>\n",
       "      <td>...</td>\n",
       "      <td>...</td>\n",
       "      <td>...</td>\n",
       "      <td>...</td>\n",
       "      <td>...</td>\n",
       "      <td>...</td>\n",
       "      <td>...</td>\n",
       "      <td>...</td>\n",
       "      <td>...</td>\n",
       "      <td>...</td>\n",
       "      <td>...</td>\n",
       "      <td>...</td>\n",
       "      <td>...</td>\n",
       "      <td>...</td>\n",
       "      <td>...</td>\n",
       "      <td>...</td>\n",
       "      <td>...</td>\n",
       "      <td>...</td>\n",
       "      <td>...</td>\n",
       "      <td>...</td>\n",
       "    </tr>\n",
       "    <tr>\n",
       "      <th>23738</th>\n",
       "      <td>GGG</td>\n",
       "      <td>2014J</td>\n",
       "      <td>2620947</td>\n",
       "      <td>0.0</td>\n",
       "      <td>0.0</td>\n",
       "      <td>0.0</td>\n",
       "      <td>3.500000</td>\n",
       "      <td>0.0</td>\n",
       "      <td>3.727273</td>\n",
       "      <td>0.0</td>\n",
       "      <td>...</td>\n",
       "      <td>F</td>\n",
       "      <td>Scotland</td>\n",
       "      <td>A Level or Equivalent</td>\n",
       "      <td>80-90%</td>\n",
       "      <td>0-35</td>\n",
       "      <td>0</td>\n",
       "      <td>30</td>\n",
       "      <td>Y</td>\n",
       "      <td>Pass</td>\n",
       "      <td>80.0</td>\n",
       "    </tr>\n",
       "    <tr>\n",
       "      <th>23739</th>\n",
       "      <td>GGG</td>\n",
       "      <td>2014J</td>\n",
       "      <td>2645731</td>\n",
       "      <td>0.0</td>\n",
       "      <td>0.0</td>\n",
       "      <td>0.0</td>\n",
       "      <td>0.000000</td>\n",
       "      <td>0.0</td>\n",
       "      <td>4.000000</td>\n",
       "      <td>0.0</td>\n",
       "      <td>...</td>\n",
       "      <td>F</td>\n",
       "      <td>East Anglian Region</td>\n",
       "      <td>Lower Than A Level</td>\n",
       "      <td>40-50%</td>\n",
       "      <td>35-55</td>\n",
       "      <td>0</td>\n",
       "      <td>30</td>\n",
       "      <td>N</td>\n",
       "      <td>Pass</td>\n",
       "      <td>80.0</td>\n",
       "    </tr>\n",
       "    <tr>\n",
       "      <th>23740</th>\n",
       "      <td>GGG</td>\n",
       "      <td>2014J</td>\n",
       "      <td>2648187</td>\n",
       "      <td>0.0</td>\n",
       "      <td>0.0</td>\n",
       "      <td>0.0</td>\n",
       "      <td>0.000000</td>\n",
       "      <td>1.0</td>\n",
       "      <td>2.750000</td>\n",
       "      <td>0.0</td>\n",
       "      <td>...</td>\n",
       "      <td>F</td>\n",
       "      <td>South Region</td>\n",
       "      <td>A Level or Equivalent</td>\n",
       "      <td>20-30%</td>\n",
       "      <td>0-35</td>\n",
       "      <td>0</td>\n",
       "      <td>30</td>\n",
       "      <td>Y</td>\n",
       "      <td>Pass</td>\n",
       "      <td>65.0</td>\n",
       "    </tr>\n",
       "    <tr>\n",
       "      <th>23741</th>\n",
       "      <td>GGG</td>\n",
       "      <td>2014J</td>\n",
       "      <td>2679821</td>\n",
       "      <td>0.0</td>\n",
       "      <td>0.0</td>\n",
       "      <td>0.0</td>\n",
       "      <td>8.214286</td>\n",
       "      <td>0.0</td>\n",
       "      <td>5.454545</td>\n",
       "      <td>0.0</td>\n",
       "      <td>...</td>\n",
       "      <td>F</td>\n",
       "      <td>South East Region</td>\n",
       "      <td>Lower Than A Level</td>\n",
       "      <td>90-100%</td>\n",
       "      <td>35-55</td>\n",
       "      <td>0</td>\n",
       "      <td>30</td>\n",
       "      <td>N</td>\n",
       "      <td>Fail</td>\n",
       "      <td>83.0</td>\n",
       "    </tr>\n",
       "    <tr>\n",
       "      <th>23742</th>\n",
       "      <td>GGG</td>\n",
       "      <td>2014J</td>\n",
       "      <td>2684003</td>\n",
       "      <td>0.0</td>\n",
       "      <td>0.0</td>\n",
       "      <td>0.0</td>\n",
       "      <td>2.214286</td>\n",
       "      <td>0.0</td>\n",
       "      <td>3.826087</td>\n",
       "      <td>0.0</td>\n",
       "      <td>...</td>\n",
       "      <td>F</td>\n",
       "      <td>Yorkshire Region</td>\n",
       "      <td>HE Qualification</td>\n",
       "      <td>50-60%</td>\n",
       "      <td>35-55</td>\n",
       "      <td>0</td>\n",
       "      <td>30</td>\n",
       "      <td>N</td>\n",
       "      <td>Pass</td>\n",
       "      <td>80.0</td>\n",
       "    </tr>\n",
       "  </tbody>\n",
       "</table>\n",
       "<p>23743 rows × 32 columns</p>\n",
       "</div>"
      ],
      "text/plain": [
       "      code_module code_presentation  id_student  dataplus  dualpane  \\\n",
       "0             AAA             2013J       11391       0.0       0.0   \n",
       "1             AAA             2013J       28400       0.0       0.0   \n",
       "2             AAA             2013J       31604       0.0       0.0   \n",
       "3             AAA             2013J       32885       0.0       0.0   \n",
       "4             AAA             2013J       38053       7.0       0.0   \n",
       "...           ...               ...         ...       ...       ...   \n",
       "23738         GGG             2014J     2620947       0.0       0.0   \n",
       "23739         GGG             2014J     2645731       0.0       0.0   \n",
       "23740         GGG             2014J     2648187       0.0       0.0   \n",
       "23741         GGG             2014J     2679821       0.0       0.0   \n",
       "23742         GGG             2014J     2684003       0.0       0.0   \n",
       "\n",
       "       externalquiz   forumng  glossary  homepage  htmlactivity  ...  gender  \\\n",
       "0               0.0  3.514286       0.0  3.478261           0.0  ...       M   \n",
       "1               0.0  2.988889       0.0  5.194444           0.0  ...       F   \n",
       "2               0.0  2.955882       1.0  4.340000           0.0  ...       F   \n",
       "3               0.0  3.127660       2.0  3.600000           0.0  ...       F   \n",
       "4               0.0  3.457364       0.0  4.438596           0.0  ...       M   \n",
       "...             ...       ...       ...       ...           ...  ...     ...   \n",
       "23738           0.0  3.500000       0.0  3.727273           0.0  ...       F   \n",
       "23739           0.0  0.000000       0.0  4.000000           0.0  ...       F   \n",
       "23740           0.0  0.000000       1.0  2.750000           0.0  ...       F   \n",
       "23741           0.0  8.214286       0.0  5.454545           0.0  ...       F   \n",
       "23742           0.0  2.214286       0.0  3.826087           0.0  ...       F   \n",
       "\n",
       "                     region      highest_education  imd_band  age_band  \\\n",
       "0       East Anglian Region       HE Qualification   90-100%      55<=   \n",
       "1                  Scotland       HE Qualification    20-30%     35-55   \n",
       "2         South East Region  A Level or Equivalent    50-60%     35-55   \n",
       "3      West Midlands Region     Lower Than A Level    50-60%      0-35   \n",
       "4                     Wales  A Level or Equivalent    80-90%     35-55   \n",
       "...                     ...                    ...       ...       ...   \n",
       "23738              Scotland  A Level or Equivalent    80-90%      0-35   \n",
       "23739   East Anglian Region     Lower Than A Level    40-50%     35-55   \n",
       "23740          South Region  A Level or Equivalent    20-30%      0-35   \n",
       "23741     South East Region     Lower Than A Level   90-100%     35-55   \n",
       "23742      Yorkshire Region       HE Qualification    50-60%     35-55   \n",
       "\n",
       "       num_of_prev_attempts  studied_credits  disability  final_result  \\\n",
       "0                         0              240           N          Pass   \n",
       "1                         0               60           N          Pass   \n",
       "2                         0               60           N          Pass   \n",
       "3                         0               60           N          Pass   \n",
       "4                         0               60           N          Pass   \n",
       "...                     ...              ...         ...           ...   \n",
       "23738                     0               30           Y          Pass   \n",
       "23739                     0               30           N          Pass   \n",
       "23740                     0               30           Y          Pass   \n",
       "23741                     0               30           N          Fail   \n",
       "23742                     0               30           N          Pass   \n",
       "\n",
       "       mean_score_day90  \n",
       "0                  81.5  \n",
       "1                  69.0  \n",
       "2                  71.5  \n",
       "3                  49.5  \n",
       "4                  74.0  \n",
       "...                 ...  \n",
       "23738              80.0  \n",
       "23739              80.0  \n",
       "23740              65.0  \n",
       "23741              83.0  \n",
       "23742              80.0  \n",
       "\n",
       "[23743 rows x 32 columns]"
      ]
     },
     "execution_count": 19,
     "metadata": {},
     "output_type": "execute_result"
    }
   ],
   "source": [
    "final_df"
   ]
  },
  {
   "cell_type": "code",
   "execution_count": 20,
   "id": "3df190ee-4e02-4660-b9b6-303eada7f59a",
   "metadata": {},
   "outputs": [
    {
     "data": {
      "text/plain": [
       "Pass    15307\n",
       "Fail     8436\n",
       "Name: final_result, dtype: int64"
      ]
     },
     "execution_count": 20,
     "metadata": {},
     "output_type": "execute_result"
    }
   ],
   "source": [
    "final_df['final_result'].value_counts()"
   ]
  },
  {
   "cell_type": "markdown",
   "id": "fb7f1f6a-9c48-4c32-aab2-022bc8717dae",
   "metadata": {},
   "source": [
    "Enfin, nous apportons quelques retouches au cadre de données avant de l'intégrer à notre modèle. Tout d'abord, nous voulons encoder toutes les variables catégorielles. Ici, nous utilisons l'encodage des étiquettes"
   ]
  },
  {
   "cell_type": "code",
   "execution_count": 21,
   "id": "2d517560-eb8c-4b21-b7e0-17d6cb9f44ab",
   "metadata": {},
   "outputs": [],
   "source": [
    "def create_Xy(final_df):\n",
    "\n",
    "    X = final_df.drop(['final_result','id_student','imd_band'],axis = 1)\n",
    "    column_names = X.columns\n",
    "    y = final_df['final_result']\n",
    "\n",
    "    le = LabelEncoder()\n",
    "    encode_dict = {}\n",
    "    Xcat_features = ['code_module', 'code_presentation',\n",
    "                    'gender', 'region',\n",
    "                    'highest_education',  \n",
    "                    'age_band','disability',\n",
    "                   ]\n",
    "\n",
    "    for cat_feature in Xcat_features: \n",
    "        X[cat_feature] = le.fit_transform(X[cat_feature])\n",
    "        encode_dict[cat_feature] = le.classes_\n",
    "\n",
    "    y = le.fit_transform(y)\n",
    "    encode_dict['final_result'] = le.classes_\n",
    "\n",
    "    X = X.to_numpy()\n",
    "    \n",
    "    return X,y,column_names,encode_dict\n"
   ]
  },
  {
   "cell_type": "code",
   "execution_count": 22,
   "id": "464d8a32-cfa7-483e-a0f9-1e34352ad8a6",
   "metadata": {},
   "outputs": [],
   "source": [
    "X,y,column_names,encode_dict = create_Xy(final_df)"
   ]
  },
  {
   "cell_type": "code",
   "execution_count": 23,
   "id": "08b67b31-1441-48c2-a6bb-b8a2a9e50a78",
   "metadata": {},
   "outputs": [],
   "source": [
    "# X\n",
    "# y"
   ]
  },
  {
   "cell_type": "markdown",
   "id": "71956c7c-ead1-4d44-94bb-244ab108566e",
   "metadata": {},
   "source": [
    "Nous voulons également gérer la colinéarité potentielle des données. "
   ]
  },
  {
   "cell_type": "code",
   "execution_count": 24,
   "id": "30a3d78c-c119-43b9-b025-0ac4ffdce1ea",
   "metadata": {},
   "outputs": [],
   "source": [
    "corr = spearmanr(X).correlation\n",
    "corr_linkage = hierarchy.ward(corr)\n",
    "cluster_ids = hierarchy.fcluster(corr_linkage, 1, criterion='distance')\n",
    "cluster_id_to_feature_ids = defaultdict(list)\n",
    "for idx, cluster_id in enumerate(cluster_ids):\n",
    "    cluster_id_to_feature_ids[cluster_id].append(idx)\n",
    "selected_features = [v[0] for v in cluster_id_to_feature_ids.values()]\n",
    "\n",
    "X = X[:, selected_features]\n",
    "column_names = column_names[selected_features]"
   ]
  },
  {
   "cell_type": "code",
   "execution_count": 25,
   "id": "af6f637d-ba7b-4426-b001-f32be05fca91",
   "metadata": {},
   "outputs": [],
   "source": [
    "# column_names"
   ]
  },
  {
   "cell_type": "markdown",
   "id": "2dd3e926-0943-40c2-977d-f299f9f18f82",
   "metadata": {},
   "source": [
    "## <p style=\"background-color:#709699;font-family:newtimeroman;color:#FFF9ED;font-size:120%;text-align:center;border-radius:10px 10px;\">Le model</p>\n"
   ]
  },
  {
   "cell_type": "markdown",
   "id": "cac6cefe-78d9-4020-8f0e-5d8b3813c4c0",
   "metadata": {},
   "source": [
    "## Régression logistique\n",
    "Qu'est-ce que la régression logistique\n",
    "La technique de modélisation statistique de régression logistique est utilisée lorsque nous avons une variable de résultat binaire. Par exemple : compte tenu des paramètres, l'élève réussira-t-il ou échouera-t-il ? Va-t-il pleuvoir ou pas ? etc.\n",
    "\n",
    "Ainsi, bien que nous puissions avoir des variables indépendantes continues ou catégorielles, nous pouvons utiliser la technique de modélisation par régression logistique pour prédire le résultat lorsque la variable de résultat est binaire."
   ]
  },
  {
   "cell_type": "markdown",
   "id": "27094a9e-291d-4ca5-bdac-1214c1d83d52",
   "metadata": {},
   "source": [
    "<center>\n",
    "    <img src=\"img1.png\">\n",
    "</center>"
   ]
  },
  {
   "cell_type": "markdown",
   "id": "34d6fd9c-f06a-49f8-bd1f-634ef88eb545",
   "metadata": {},
   "source": [
    "## Le lien vers scikit-learn   <a href=\"https://scikit-learn.org/stable/modules/linear_model.html#logistic-regression\">Formulation mathématique</a>"
   ]
  },
  {
   "cell_type": "code",
   "execution_count": 26,
   "id": "5b754013-69d8-4f80-823d-c976de7e8146",
   "metadata": {},
   "outputs": [],
   "source": [
    "x_train , x_test , y_train , y_test = train_test_split(X,y,test_size = 0.2 , random_state = 42)"
   ]
  },
  {
   "cell_type": "code",
   "execution_count": 27,
   "id": "1bd2dac6-acce-4647-95ea-4d402ad4bbbb",
   "metadata": {},
   "outputs": [],
   "source": [
    "clf = LogisticRegression(penalty='l2')"
   ]
  },
  {
   "cell_type": "code",
   "execution_count": 28,
   "id": "99b60335-eb11-49ae-8437-59b7825db79e",
   "metadata": {},
   "outputs": [
    {
     "name": "stderr",
     "output_type": "stream",
     "text": [
      "C:\\Users\\Abdoulaye MAIGA\\anaconda3\\lib\\site-packages\\sklearn\\linear_model\\_logistic.py:444: ConvergenceWarning: lbfgs failed to converge (status=1):\n",
      "STOP: TOTAL NO. of ITERATIONS REACHED LIMIT.\n",
      "\n",
      "Increase the number of iterations (max_iter) or scale the data as shown in:\n",
      "    https://scikit-learn.org/stable/modules/preprocessing.html\n",
      "Please also refer to the documentation for alternative solver options:\n",
      "    https://scikit-learn.org/stable/modules/linear_model.html#logistic-regression\n",
      "  n_iter_i = _check_optimize_result(\n"
     ]
    }
   ],
   "source": [
    "model = clf.fit(x_train,y_train)"
   ]
  },
  {
   "cell_type": "code",
   "execution_count": 29,
   "id": "ff18dcbd-75ab-43ee-a0ff-6ea3f73536e7",
   "metadata": {},
   "outputs": [
    {
     "data": {
      "text/plain": [
       "0.7132027795325332"
      ]
     },
     "execution_count": 29,
     "metadata": {},
     "output_type": "execute_result"
    }
   ],
   "source": [
    "model.score(x_test,y_test)"
   ]
  },
  {
   "cell_type": "code",
   "execution_count": 30,
   "id": "649ae2d8-5369-4ef9-90d2-78f6665c8657",
   "metadata": {},
   "outputs": [],
   "source": [
    "pred = clf.predict(x_test)"
   ]
  },
  {
   "cell_type": "code",
   "execution_count": 31,
   "id": "b665243f-992a-4ad8-9693-5d614bd4756c",
   "metadata": {},
   "outputs": [
    {
     "data": {
      "text/plain": [
       "array([1, 0, 0, ..., 1, 1, 1])"
      ]
     },
     "execution_count": 31,
     "metadata": {},
     "output_type": "execute_result"
    }
   ],
   "source": [
    "pred"
   ]
  },
  {
   "cell_type": "code",
   "execution_count": 32,
   "id": "35e3d587-52ef-4134-9710-60bd9837f710",
   "metadata": {},
   "outputs": [
    {
     "data": {
      "text/plain": [
       "array([[ 620, 1085],\n",
       "       [ 277, 2767]], dtype=int64)"
      ]
     },
     "execution_count": 32,
     "metadata": {},
     "output_type": "execute_result"
    }
   ],
   "source": [
    "confusion_matrix(y_test,pred)"
   ]
  },
  {
   "cell_type": "code",
   "execution_count": 33,
   "id": "44c5a780-cef9-47c2-925a-66c155eb188d",
   "metadata": {},
   "outputs": [
    {
     "data": {
      "image/png": "[encoded data removed]",
      "text/plain": [
       "<Figure size 640x480 with 2 Axes>"
      ]
     },
     "metadata": {},
     "output_type": "display_data"
    }
   ],
   "source": [
    "ConfusionMatrixDisplay.from_predictions(y_test,pred) \n",
    "plt.show()"
   ]
  },
  {
   "cell_type": "code",
   "execution_count": 34,
   "id": "a0815f53-4021-412b-b045-644eaa3c8bfd",
   "metadata": {},
   "outputs": [],
   "source": [
    "from sklearn.neighbors import KNeighborsClassifier\n",
    "from sklearn.model_selection import train_test_split, cross_val_score, GridSearchCV,StratifiedKFold, KFold"
   ]
  },
  {
   "cell_type": "code",
   "execution_count": 35,
   "id": "be549be8-fc84-409a-8ed4-13470c79f26c",
   "metadata": {},
   "outputs": [
    {
     "data": {
      "text/html": [
       "<style>#sk-container-id-1 {color: black;background-color: white;}#sk-container-id-1 pre{padding: 0;}#sk-container-id-1 div.sk-toggleable {background-color: white;}#sk-container-id-1 label.sk-toggleable__label {cursor: pointer;display: block;width: 100%;margin-bottom: 0;padding: 0.3em;box-sizing: border-box;text-align: center;}#sk-container-id-1 label.sk-toggleable__label-arrow:before {content: \"▸\";float: left;margin-right: 0.25em;color: #696969;}#sk-container-id-1 label.sk-toggleable__label-arrow:hover:before {color: black;}#sk-container-id-1 div.sk-estimator:hover label.sk-toggleable__label-arrow:before {color: black;}#sk-container-id-1 div.sk-toggleable__content {max-height: 0;max-width: 0;overflow: hidden;text-align: left;background-color: #f0f8ff;}#sk-container-id-1 div.sk-toggleable__content pre {margin: 0.2em;color: black;border-radius: 0.25em;background-color: #f0f8ff;}#sk-container-id-1 input.sk-toggleable__control:checked~div.sk-toggleable__content {max-height: 200px;max-width: 100%;overflow: auto;}#sk-container-id-1 input.sk-toggleable__control:checked~label.sk-toggleable__label-arrow:before {content: \"▾\";}#sk-container-id-1 div.sk-estimator input.sk-toggleable__control:checked~label.sk-toggleable__label {background-color: #d4ebff;}#sk-container-id-1 div.sk-label input.sk-toggleable__control:checked~label.sk-toggleable__label {background-color: #d4ebff;}#sk-container-id-1 input.sk-hidden--visually {border: 0;clip: rect(1px 1px 1px 1px);clip: rect(1px, 1px, 1px, 1px);height: 1px;margin: -1px;overflow: hidden;padding: 0;position: absolute;width: 1px;}#sk-container-id-1 div.sk-estimator {font-family: monospace;background-color: #f0f8ff;border: 1px dotted black;border-radius: 0.25em;box-sizing: border-box;margin-bottom: 0.5em;}#sk-container-id-1 div.sk-estimator:hover {background-color: #d4ebff;}#sk-container-id-1 div.sk-parallel-item::after {content: \"\";width: 100%;border-bottom: 1px solid gray;flex-grow: 1;}#sk-container-id-1 div.sk-label:hover label.sk-toggleable__label {background-color: #d4ebff;}#sk-container-id-1 div.sk-serial::before {content: \"\";position: absolute;border-left: 1px solid gray;box-sizing: border-box;top: 0;bottom: 0;left: 50%;z-index: 0;}#sk-container-id-1 div.sk-serial {display: flex;flex-direction: column;align-items: center;background-color: white;padding-right: 0.2em;padding-left: 0.2em;position: relative;}#sk-container-id-1 div.sk-item {position: relative;z-index: 1;}#sk-container-id-1 div.sk-parallel {display: flex;align-items: stretch;justify-content: center;background-color: white;position: relative;}#sk-container-id-1 div.sk-item::before, #sk-container-id-1 div.sk-parallel-item::before {content: \"\";position: absolute;border-left: 1px solid gray;box-sizing: border-box;top: 0;bottom: 0;left: 50%;z-index: -1;}#sk-container-id-1 div.sk-parallel-item {display: flex;flex-direction: column;z-index: 1;position: relative;background-color: white;}#sk-container-id-1 div.sk-parallel-item:first-child::after {align-self: flex-end;width: 50%;}#sk-container-id-1 div.sk-parallel-item:last-child::after {align-self: flex-start;width: 50%;}#sk-container-id-1 div.sk-parallel-item:only-child::after {width: 0;}#sk-container-id-1 div.sk-dashed-wrapped {border: 1px dashed gray;margin: 0 0.4em 0.5em 0.4em;box-sizing: border-box;padding-bottom: 0.4em;background-color: white;}#sk-container-id-1 div.sk-label label {font-family: monospace;font-weight: bold;display: inline-block;line-height: 1.2em;}#sk-container-id-1 div.sk-label-container {text-align: center;}#sk-container-id-1 div.sk-container {/* jupyter's `normalize.less` sets `[hidden] { display: none; }` but bootstrap.min.css set `[hidden] { display: none !important; }` so we also need the `!important` here to be able to override the default hidden behavior on the sphinx rendered scikit-learn.org. See: https://github.com/scikit-learn/scikit-learn/issues/21755 */display: inline-block !important;position: relative;}#sk-container-id-1 div.sk-text-repr-fallback {display: none;}</style><div id=\"sk-container-id-1\" class=\"sk-top-container\"><div class=\"sk-text-repr-fallback\"><pre>GridSearchCV(cv=5, estimator=KNeighborsClassifier(),\n",
       "             param_grid={&#x27;metric&#x27;: [&#x27;minkowski&#x27;, &#x27;euclidean&#x27;, &#x27;manhattan&#x27;],\n",
       "                         &#x27;n_neighbors&#x27;: array([ 1,  2,  3,  4,  5,  6,  7,  8,  9, 10, 11, 12, 13, 14, 15, 16, 17,\n",
       "       18, 19, 20, 21, 22, 23, 24, 25, 26, 27, 28, 29])})</pre><b>In a Jupyter environment, please rerun this cell to show the HTML representation or trust the notebook. <br />On GitHub, the HTML representation is unable to render, please try loading this page with nbviewer.org.</b></div><div class=\"sk-container\" hidden><div class=\"sk-item sk-dashed-wrapped\"><div class=\"sk-label-container\"><div class=\"sk-label sk-toggleable\"><input class=\"sk-toggleable__control sk-hidden--visually\" id=\"sk-estimator-id-1\" type=\"checkbox\" ><label for=\"sk-estimator-id-1\" class=\"sk-toggleable__label sk-toggleable__label-arrow\">GridSearchCV</label><div class=\"sk-toggleable__content\"><pre>GridSearchCV(cv=5, estimator=KNeighborsClassifier(),\n",
       "             param_grid={&#x27;metric&#x27;: [&#x27;minkowski&#x27;, &#x27;euclidean&#x27;, &#x27;manhattan&#x27;],\n",
       "                         &#x27;n_neighbors&#x27;: array([ 1,  2,  3,  4,  5,  6,  7,  8,  9, 10, 11, 12, 13, 14, 15, 16, 17,\n",
       "       18, 19, 20, 21, 22, 23, 24, 25, 26, 27, 28, 29])})</pre></div></div></div><div class=\"sk-parallel\"><div class=\"sk-parallel-item\"><div class=\"sk-item\"><div class=\"sk-label-container\"><div class=\"sk-label sk-toggleable\"><input class=\"sk-toggleable__control sk-hidden--visually\" id=\"sk-estimator-id-2\" type=\"checkbox\" ><label for=\"sk-estimator-id-2\" class=\"sk-toggleable__label sk-toggleable__label-arrow\">estimator: KNeighborsClassifier</label><div class=\"sk-toggleable__content\"><pre>KNeighborsClassifier()</pre></div></div></div><div class=\"sk-serial\"><div class=\"sk-item\"><div class=\"sk-estimator sk-toggleable\"><input class=\"sk-toggleable__control sk-hidden--visually\" id=\"sk-estimator-id-3\" type=\"checkbox\" ><label for=\"sk-estimator-id-3\" class=\"sk-toggleable__label sk-toggleable__label-arrow\">KNeighborsClassifier</label><div class=\"sk-toggleable__content\"><pre>KNeighborsClassifier()</pre></div></div></div></div></div></div></div></div></div></div>"
      ],
      "text/plain": [
       "GridSearchCV(cv=5, estimator=KNeighborsClassifier(),\n",
       "             param_grid={'metric': ['minkowski', 'euclidean', 'manhattan'],\n",
       "                         'n_neighbors': array([ 1,  2,  3,  4,  5,  6,  7,  8,  9, 10, 11, 12, 13, 14, 15, 16, 17,\n",
       "       18, 19, 20, 21, 22, 23, 24, 25, 26, 27, 28, 29])})"
      ]
     },
     "execution_count": 35,
     "metadata": {},
     "output_type": "execute_result"
    }
   ],
   "source": [
    "param_grid = {'n_neighbors':np.arange(1,30),'metric':['minkowski','euclidean','manhattan']}\n",
    "grid = GridSearchCV(KNeighborsClassifier(),param_grid, cv = 5)\n",
    "grid.fit(x_train,y_train)"
   ]
  },
  {
   "cell_type": "code",
   "execution_count": 36,
   "id": "0c8b5166-d61d-4023-978e-9ffc74c26b5c",
   "metadata": {},
   "outputs": [
    {
     "data": {
      "text/plain": [
       "{'metric': 'manhattan', 'n_neighbors': 28}"
      ]
     },
     "execution_count": 36,
     "metadata": {},
     "output_type": "execute_result"
    }
   ],
   "source": [
    "grid.best_params_"
   ]
  },
  {
   "cell_type": "code",
   "execution_count": 37,
   "id": "38cdeadf-5dbf-4dbc-b9cf-5262fae50b8a",
   "metadata": {},
   "outputs": [],
   "source": [
    "knn = KNeighborsClassifier(n_neighbors = 28)"
   ]
  },
  {
   "cell_type": "code",
   "execution_count": 38,
   "id": "c80e258f-f831-4566-bb8f-29a81a723333",
   "metadata": {},
   "outputs": [
    {
     "data": {
      "text/html": [
       "<style>#sk-container-id-2 {color: black;background-color: white;}#sk-container-id-2 pre{padding: 0;}#sk-container-id-2 div.sk-toggleable {background-color: white;}#sk-container-id-2 label.sk-toggleable__label {cursor: pointer;display: block;width: 100%;margin-bottom: 0;padding: 0.3em;box-sizing: border-box;text-align: center;}#sk-container-id-2 label.sk-toggleable__label-arrow:before {content: \"▸\";float: left;margin-right: 0.25em;color: #696969;}#sk-container-id-2 label.sk-toggleable__label-arrow:hover:before {color: black;}#sk-container-id-2 div.sk-estimator:hover label.sk-toggleable__label-arrow:before {color: black;}#sk-container-id-2 div.sk-toggleable__content {max-height: 0;max-width: 0;overflow: hidden;text-align: left;background-color: #f0f8ff;}#sk-container-id-2 div.sk-toggleable__content pre {margin: 0.2em;color: black;border-radius: 0.25em;background-color: #f0f8ff;}#sk-container-id-2 input.sk-toggleable__control:checked~div.sk-toggleable__content {max-height: 200px;max-width: 100%;overflow: auto;}#sk-container-id-2 input.sk-toggleable__control:checked~label.sk-toggleable__label-arrow:before {content: \"▾\";}#sk-container-id-2 div.sk-estimator input.sk-toggleable__control:checked~label.sk-toggleable__label {background-color: #d4ebff;}#sk-container-id-2 div.sk-label input.sk-toggleable__control:checked~label.sk-toggleable__label {background-color: #d4ebff;}#sk-container-id-2 input.sk-hidden--visually {border: 0;clip: rect(1px 1px 1px 1px);clip: rect(1px, 1px, 1px, 1px);height: 1px;margin: -1px;overflow: hidden;padding: 0;position: absolute;width: 1px;}#sk-container-id-2 div.sk-estimator {font-family: monospace;background-color: #f0f8ff;border: 1px dotted black;border-radius: 0.25em;box-sizing: border-box;margin-bottom: 0.5em;}#sk-container-id-2 div.sk-estimator:hover {background-color: #d4ebff;}#sk-container-id-2 div.sk-parallel-item::after {content: \"\";width: 100%;border-bottom: 1px solid gray;flex-grow: 1;}#sk-container-id-2 div.sk-label:hover label.sk-toggleable__label {background-color: #d4ebff;}#sk-container-id-2 div.sk-serial::before {content: \"\";position: absolute;border-left: 1px solid gray;box-sizing: border-box;top: 0;bottom: 0;left: 50%;z-index: 0;}#sk-container-id-2 div.sk-serial {display: flex;flex-direction: column;align-items: center;background-color: white;padding-right: 0.2em;padding-left: 0.2em;position: relative;}#sk-container-id-2 div.sk-item {position: relative;z-index: 1;}#sk-container-id-2 div.sk-parallel {display: flex;align-items: stretch;justify-content: center;background-color: white;position: relative;}#sk-container-id-2 div.sk-item::before, #sk-container-id-2 div.sk-parallel-item::before {content: \"\";position: absolute;border-left: 1px solid gray;box-sizing: border-box;top: 0;bottom: 0;left: 50%;z-index: -1;}#sk-container-id-2 div.sk-parallel-item {display: flex;flex-direction: column;z-index: 1;position: relative;background-color: white;}#sk-container-id-2 div.sk-parallel-item:first-child::after {align-self: flex-end;width: 50%;}#sk-container-id-2 div.sk-parallel-item:last-child::after {align-self: flex-start;width: 50%;}#sk-container-id-2 div.sk-parallel-item:only-child::after {width: 0;}#sk-container-id-2 div.sk-dashed-wrapped {border: 1px dashed gray;margin: 0 0.4em 0.5em 0.4em;box-sizing: border-box;padding-bottom: 0.4em;background-color: white;}#sk-container-id-2 div.sk-label label {font-family: monospace;font-weight: bold;display: inline-block;line-height: 1.2em;}#sk-container-id-2 div.sk-label-container {text-align: center;}#sk-container-id-2 div.sk-container {/* jupyter's `normalize.less` sets `[hidden] { display: none; }` but bootstrap.min.css set `[hidden] { display: none !important; }` so we also need the `!important` here to be able to override the default hidden behavior on the sphinx rendered scikit-learn.org. See: https://github.com/scikit-learn/scikit-learn/issues/21755 */display: inline-block !important;position: relative;}#sk-container-id-2 div.sk-text-repr-fallback {display: none;}</style><div id=\"sk-container-id-2\" class=\"sk-top-container\"><div class=\"sk-text-repr-fallback\"><pre>KNeighborsClassifier(n_neighbors=28)</pre><b>In a Jupyter environment, please rerun this cell to show the HTML representation or trust the notebook. <br />On GitHub, the HTML representation is unable to render, please try loading this page with nbviewer.org.</b></div><div class=\"sk-container\" hidden><div class=\"sk-item\"><div class=\"sk-estimator sk-toggleable\"><input class=\"sk-toggleable__control sk-hidden--visually\" id=\"sk-estimator-id-4\" type=\"checkbox\" checked><label for=\"sk-estimator-id-4\" class=\"sk-toggleable__label sk-toggleable__label-arrow\">KNeighborsClassifier</label><div class=\"sk-toggleable__content\"><pre>KNeighborsClassifier(n_neighbors=28)</pre></div></div></div></div></div>"
      ],
      "text/plain": [
       "KNeighborsClassifier(n_neighbors=28)"
      ]
     },
     "execution_count": 38,
     "metadata": {},
     "output_type": "execute_result"
    }
   ],
   "source": [
    "knn.fit(x_train,y_train)"
   ]
  },
  {
   "cell_type": "code",
   "execution_count": 39,
   "id": "b6db9da2-da93-4908-abaf-63be73aae986",
   "metadata": {},
   "outputs": [
    {
     "data": {
      "text/plain": [
       "0.7283638660770688"
      ]
     },
     "execution_count": 39,
     "metadata": {},
     "output_type": "execute_result"
    }
   ],
   "source": [
    "knn.score(x_test,y_test)"
   ]
  },
  {
   "cell_type": "code",
   "execution_count": 40,
   "id": "db64e075-8d38-4e63-9dde-2e45b0152020",
   "metadata": {},
   "outputs": [],
   "source": [
    "knn_pred = clf.predict(x_test)"
   ]
  },
  {
   "cell_type": "code",
   "execution_count": 41,
   "id": "dbc246ae-544f-4834-b4d4-80a225796587",
   "metadata": {},
   "outputs": [
    {
     "data": {
      "image/png": "[encoded data removed]",
      "text/plain": [
       "<Figure size 640x480 with 2 Axes>"
      ]
     },
     "metadata": {},
     "output_type": "display_data"
    }
   ],
   "source": [
    "ConfusionMatrixDisplay.from_predictions(y_test,knn_pred) \n",
    "plt.show()"
   ]
  },
  {
   "cell_type": "markdown",
   "id": "9141be3c-a1c1-450a-9c88-2d84af4f1036",
   "metadata": {},
   "source": [
    "Ici j’ai utilisé deux models à savoir : \n",
    "* La regression logistique (LogisticRegression)\n",
    "* Le k  Voisins les plus proches (k Nearest Neighbors)\n",
    "\n",
    "Les deux méthode m’ont données presque le meme resultat"
   ]
  },
  {
   "cell_type": "code",
   "execution_count": null,
   "id": "1d289a94-b3fa-4b3d-83e1-ee9f9c5ec6ca",
   "metadata": {},
   "outputs": [],
   "source": []
  }
 ],
 "metadata": {
  "kernelspec": {
   "display_name": "Python 3 (ipykernel)",
   "language": "python",
   "name": "python3"
  },
  "language_info": {
   "codemirror_mode": {
    "name": "ipython",
    "version": 3
   },
   "file_extension": ".py",
   "mimetype": "text/x-python",
   "name": "python",
   "nbconvert_exporter": "python",
   "pygments_lexer": "ipython3",
   "version": "3.9.15"
  }
 },
 "nbformat": 4,
 "nbformat_minor": 5
}
